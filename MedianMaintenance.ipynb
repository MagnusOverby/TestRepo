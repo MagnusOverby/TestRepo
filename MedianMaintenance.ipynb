{
 "metadata": {
  "name": "",
  "signature": "sha256:0e69d581c9fbb9e799eb05810af220c1bcd0af16d8ef4d1d96f2b24b099b7ca6"
 },
 "nbformat": 3,
 "nbformat_minor": 0,
 "worksheets": [
  {
   "cells": [
    {
     "cell_type": "code",
     "collapsed": false,
     "input": [
      "import pandas as pd\n",
      "from random import randint\n",
      "import random\n",
      "import numpy as np\n",
      "import copy\n",
      "from IPython.core.debugger import Pdb\n",
      "import Queue as q\n",
      "import heapq\n",
      "ipdb = Pdb()"
     ],
     "language": "python",
     "metadata": {},
     "outputs": [],
     "prompt_number": 1
    },
    {
     "cell_type": "code",
     "collapsed": false,
     "input": [
      "path = \"/home/magnus/Downloads/Median.txt\""
     ],
     "language": "python",
     "metadata": {},
     "outputs": [],
     "prompt_number": 27
    },
    {
     "cell_type": "code",
     "collapsed": false,
     "input": [
      "numbers = np.loadtxt(path)\n",
      "#testcase = list([1 ,2 ,4 ,3 5 6 8 7 9])\n",
      "#numbers = range(1,10)\n",
      "#numbers = [11, 3, 6, 9, 2, 8, 4, 10, 1, 12, 7, 5]"
     ],
     "language": "python",
     "metadata": {},
     "outputs": [],
     "prompt_number": 28
    },
    {
     "cell_type": "code",
     "collapsed": false,
     "input": [
      "#Mangus quick and dirty way of doing it.\n",
      "\n",
      "#1 Sort\n",
      "#2) loop through\n",
      "iMax = len(numbers)\n",
      "#3) initialize empty list.\n",
      "streamList = []\n",
      "medianIndex = 0\n",
      "median = []\n",
      "for i in range(0,iMax):\n",
      "    #3\n",
      "    streamList.append(numbers[i])\n",
      "    streamList.sort()\n",
      "    \n",
      "    iComp = i+1\n",
      "    if iComp%2 == 0:\n",
      "        medianIndex = i/2\n",
      "    else:\n",
      "        medianIndex = (i+1)/2\n",
      "    \n",
      "    \n",
      "    median.append(streamList[medianIndex])\n",
      "\n",
      "print sum(median)"
     ],
     "language": "python",
     "metadata": {},
     "outputs": [
      {
       "output_type": "stream",
       "stream": "stdout",
       "text": [
        "46831213.0\n"
       ]
      }
     ],
     "prompt_number": 29
    },
    {
     "cell_type": "code",
     "collapsed": false,
     "input": [
      "print sum(median) % 10000"
     ],
     "language": "python",
     "metadata": {},
     "outputs": [
      {
       "output_type": "stream",
       "stream": "stdout",
       "text": [
        "1213.0\n"
       ]
      }
     ],
     "prompt_number": 31
    },
    {
     "cell_type": "code",
     "collapsed": false,
     "input": [],
     "language": "python",
     "metadata": {},
     "outputs": []
    }
   ],
   "metadata": {}
  }
 ]
}