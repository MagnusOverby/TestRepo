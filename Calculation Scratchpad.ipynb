{
 "metadata": {
  "name": "",
  "signature": "sha256:318c9906cd35a605278e1619170327f55663fe71dfc8bd28c97fd0c9b5acf067"
 },
 "nbformat": 3,
 "nbformat_minor": 0,
 "worksheets": [
  {
   "cells": [
    {
     "cell_type": "code",
     "collapsed": false,
     "input": [
      "import pandas as pd\n",
      "import numpy as np\n",
      "import scipy as stats"
     ],
     "language": "python",
     "metadata": {},
     "outputs": [],
     "prompt_number": 2
    },
    {
     "cell_type": "code",
     "collapsed": false,
     "input": [
      "#scratch pad for calculations\n",
      "path = 'C:\\Data\\BloombergData\\GarantumVol.csv'\n",
      "cols= ['Info','Zero','One','Date','Vol']\n",
      "df = pd.read_csv(path,sep=';',names=cols)\n",
      "#df.Vol = [float(str(x).replace(',','.')) for x in df.Vol]\n",
      "lable = ['Stock','Exh','Tenor','MoneyNess','Vol','Source','Drop']\n",
      "saveCols = ['Stock','Exh','Tenor','MoneyNess']\n",
      "dname = pd.read_csv(path,sep=' ',names=lable)\n",
      "df[saveCols] = dname[saveCols]\n",
      "df2 = df.drop(['Info','Zero','One','Date'],1)\n",
      "df2['Stock'] = [x.strip() for x in df2['Stock']]\n",
      "#df2.to_csv('C:\\Data\\BloombergData\\GarantumVol1.csv',sep='\\t')\n",
      "last = int(df2.tail(1).index)\n",
      "df2 = df2[0:last-1]\n",
      "Stockss = df2.Stock.unique()\n",
      "Stockss = Stockss.astype('string')\n",
      "volSurfs = []\n",
      "for x in Stockss:\n",
      "    volSurfs.append(df2[df2.Stock==x])\n",
      "print volSurfs[3]\n"
     ],
     "language": "python",
     "metadata": {},
     "outputs": [
      {
       "output_type": "stream",
       "stream": "stdout",
       "text": [
        "        Vol  Stock Exh Tenor  MoneyNess\n",
        "630  91,913  SSABA  SS    1W         30\n",
        "631  80,499  SSABA  SS    1M         30\n",
        "632  74,262  SSABA  SS    2M         30\n",
        "633  71,965  SSABA  SS    3M         30\n",
        "634  63,275  SSABA  SS    6M         30\n",
        "635  58,787  SSABA  SS    9M         30\n",
        "636  52,557  SSABA  SS   18M         30\n",
        "637  60,041  SSABA  SS    1Y         30\n",
        "638  47,839  SSABA  SS    2Y         30\n",
        "639  42,783  SSABA  SS    3Y         30\n",
        "640  40,182  SSABA  SS    4Y         30\n",
        "641  38,729  SSABA  SS    5Y         30\n",
        "642  37,409  SSABA  SS    7Y         30\n",
        "643  37,027  SSABA  SS   10Y         30\n",
        "644  91,077  SSABA  SS    1W         40\n",
        "645  74,828  SSABA  SS    1M         40\n",
        "646  64,765  SSABA  SS    2M         40\n",
        "647  62,442  SSABA  SS    3M         40\n",
        "648   53,96  SSABA  SS    6M         40\n",
        "649  49,897  SSABA  SS    9M         40\n",
        "650  43,393  SSABA  SS   18M         40\n",
        "651   48,88  SSABA  SS    1Y         40\n",
        "652  40,143  SSABA  SS    2Y         40\n",
        "653  37,071  SSABA  SS    3Y         40\n",
        "654  35,686  SSABA  SS    4Y         40\n",
        "655  35,017  SSABA  SS    5Y         40\n",
        "656  34,626  SSABA  SS    7Y         40\n",
        "657  34,973  SSABA  SS   10Y         40\n",
        "658  76,187  SSABA  SS    1W         60\n",
        "659  53,728  SSABA  SS    1M         60\n",
        "..      ...    ...  ..   ...        ...\n",
        "810  27,546  SSABA  SS    7Y        150\n",
        "811   29,12  SSABA  SS   10Y        150\n",
        "812  31,947  SSABA  SS    1W        200\n",
        "813  27,475  SSABA  SS    1M        200\n",
        "814  26,396  SSABA  SS    2M        200\n",
        "815  27,042  SSABA  SS    3M        200\n",
        "816  29,337  SSABA  SS    6M        200\n",
        "817   26,47  SSABA  SS    9M        200\n",
        "818  25,985  SSABA  SS   18M        200\n",
        "819  26,404  SSABA  SS    1Y        200\n",
        "820  25,827  SSABA  SS    2Y        200\n",
        "821  25,827  SSABA  SS    3Y        200\n",
        "822  26,048  SSABA  SS    4Y        200\n",
        "823  26,379  SSABA  SS    5Y        200\n",
        "824  27,212  SSABA  SS    7Y        200\n",
        "825  28,657  SSABA  SS   10Y        200\n",
        "826  32,061  SSABA  SS    1W        300\n",
        "827  27,749  SSABA  SS    1M        300\n",
        "828  27,143  SSABA  SS    2M        300\n",
        "829      28  SSABA  SS    3M        300\n",
        "830   30,45  SSABA  SS    6M        300\n",
        "831   27,46  SSABA  SS    9M        300\n",
        "832  27,123  SSABA  SS   18M        300\n",
        "833  27,565  SSABA  SS    1Y        300\n",
        "834  26,875  SSABA  SS    2Y        300\n",
        "835  26,638  SSABA  SS    3Y        300\n",
        "836  26,628  SSABA  SS    4Y        300\n",
        "837  26,762  SSABA  SS    5Y        300\n",
        "838  27,294  SSABA  SS    7Y        300\n",
        "839  28,454  SSABA  SS   10Y        300\n",
        "\n",
        "[210 rows x 5 columns]\n"
       ]
      }
     ],
     "prompt_number": 4
    },
    {
     "cell_type": "code",
     "collapsed": false,
     "input": [
      "Stock1 = volSurfs[0]\n",
      "dfNew = pd.DataFrame(Stock1.Vol,columns=Stock1.MoneyNess.unique(),index=Stock1.Tenor.unique())\n",
      "\"\"\"\n",
      "for x in Stock1.Tenor:\n",
      "    for y in Stock1.MoneyNess:\n",
      "\"\"\"\n",
      "\n",
      "print dfNew[(dfNew.index=='1Y')]['30']"
     ],
     "language": "python",
     "metadata": {},
     "outputs": [
      {
       "ename": "TypeError",
       "evalue": "Not implemented for this type",
       "output_type": "pyerr",
       "traceback": [
        "\u001b[1;31m---------------------------------------------------------------------------\u001b[0m\n\u001b[1;31mTypeError\u001b[0m                                 Traceback (most recent call last)",
        "\u001b[1;32m<ipython-input-18-4f5075fdc5fe>\u001b[0m in \u001b[0;36m<module>\u001b[1;34m()\u001b[0m\n\u001b[0;32m      6\u001b[0m \"\"\"\n\u001b[0;32m      7\u001b[0m \u001b[1;33m\u001b[0m\u001b[0m\n\u001b[1;32m----> 8\u001b[1;33m \u001b[1;32mprint\u001b[0m \u001b[0mdfNew\u001b[0m\u001b[1;33m[\u001b[0m\u001b[1;33m(\u001b[0m\u001b[0mdfNew\u001b[0m\u001b[1;33m.\u001b[0m\u001b[0mindex\u001b[0m\u001b[1;33m==\u001b[0m\u001b[1;34m'1Y'\u001b[0m\u001b[1;33m)\u001b[0m\u001b[1;33m]\u001b[0m\u001b[1;33m[\u001b[0m\u001b[1;34m'30'\u001b[0m\u001b[1;33m]\u001b[0m\u001b[1;33m\u001b[0m\u001b[0m\n\u001b[0m",
        "\u001b[1;32mC:\\Anaconda\\lib\\site-packages\\pandas\\core\\frame.pyc\u001b[0m in \u001b[0;36m__getitem__\u001b[1;34m(self, key)\u001b[0m\n\u001b[0;32m   1682\u001b[0m             \u001b[1;32mreturn\u001b[0m \u001b[0mself\u001b[0m\u001b[1;33m.\u001b[0m\u001b[0m_getitem_multilevel\u001b[0m\u001b[1;33m(\u001b[0m\u001b[0mkey\u001b[0m\u001b[1;33m)\u001b[0m\u001b[1;33m\u001b[0m\u001b[0m\n\u001b[0;32m   1683\u001b[0m         \u001b[1;32melse\u001b[0m\u001b[1;33m:\u001b[0m\u001b[1;33m\u001b[0m\u001b[0m\n\u001b[1;32m-> 1684\u001b[1;33m             \u001b[1;32mreturn\u001b[0m \u001b[0mself\u001b[0m\u001b[1;33m.\u001b[0m\u001b[0m_getitem_column\u001b[0m\u001b[1;33m(\u001b[0m\u001b[0mkey\u001b[0m\u001b[1;33m)\u001b[0m\u001b[1;33m\u001b[0m\u001b[0m\n\u001b[0m\u001b[0;32m   1685\u001b[0m \u001b[1;33m\u001b[0m\u001b[0m\n\u001b[0;32m   1686\u001b[0m     \u001b[1;32mdef\u001b[0m \u001b[0m_getitem_column\u001b[0m\u001b[1;33m(\u001b[0m\u001b[0mself\u001b[0m\u001b[1;33m,\u001b[0m \u001b[0mkey\u001b[0m\u001b[1;33m)\u001b[0m\u001b[1;33m:\u001b[0m\u001b[1;33m\u001b[0m\u001b[0m\n",
        "\u001b[1;32mC:\\Anaconda\\lib\\site-packages\\pandas\\core\\frame.pyc\u001b[0m in \u001b[0;36m_getitem_column\u001b[1;34m(self, key)\u001b[0m\n\u001b[0;32m   1689\u001b[0m         \u001b[1;31m# get column\u001b[0m\u001b[1;33m\u001b[0m\u001b[1;33m\u001b[0m\u001b[0m\n\u001b[0;32m   1690\u001b[0m         \u001b[1;32mif\u001b[0m \u001b[0mself\u001b[0m\u001b[1;33m.\u001b[0m\u001b[0mcolumns\u001b[0m\u001b[1;33m.\u001b[0m\u001b[0mis_unique\u001b[0m\u001b[1;33m:\u001b[0m\u001b[1;33m\u001b[0m\u001b[0m\n\u001b[1;32m-> 1691\u001b[1;33m             \u001b[1;32mreturn\u001b[0m \u001b[0mself\u001b[0m\u001b[1;33m.\u001b[0m\u001b[0m_get_item_cache\u001b[0m\u001b[1;33m(\u001b[0m\u001b[0mkey\u001b[0m\u001b[1;33m)\u001b[0m\u001b[1;33m\u001b[0m\u001b[0m\n\u001b[0m\u001b[0;32m   1692\u001b[0m \u001b[1;33m\u001b[0m\u001b[0m\n\u001b[0;32m   1693\u001b[0m         \u001b[1;31m# duplicate columns & possible reduce dimensionaility\u001b[0m\u001b[1;33m\u001b[0m\u001b[1;33m\u001b[0m\u001b[0m\n",
        "\u001b[1;32mC:\\Anaconda\\lib\\site-packages\\pandas\\core\\generic.pyc\u001b[0m in \u001b[0;36m_get_item_cache\u001b[1;34m(self, item)\u001b[0m\n\u001b[0;32m   1050\u001b[0m         \u001b[0mres\u001b[0m \u001b[1;33m=\u001b[0m \u001b[0mcache\u001b[0m\u001b[1;33m.\u001b[0m\u001b[0mget\u001b[0m\u001b[1;33m(\u001b[0m\u001b[0mitem\u001b[0m\u001b[1;33m)\u001b[0m\u001b[1;33m\u001b[0m\u001b[0m\n\u001b[0;32m   1051\u001b[0m         \u001b[1;32mif\u001b[0m \u001b[0mres\u001b[0m \u001b[1;32mis\u001b[0m \u001b[0mNone\u001b[0m\u001b[1;33m:\u001b[0m\u001b[1;33m\u001b[0m\u001b[0m\n\u001b[1;32m-> 1052\u001b[1;33m             \u001b[0mvalues\u001b[0m \u001b[1;33m=\u001b[0m \u001b[0mself\u001b[0m\u001b[1;33m.\u001b[0m\u001b[0m_data\u001b[0m\u001b[1;33m.\u001b[0m\u001b[0mget\u001b[0m\u001b[1;33m(\u001b[0m\u001b[0mitem\u001b[0m\u001b[1;33m)\u001b[0m\u001b[1;33m\u001b[0m\u001b[0m\n\u001b[0m\u001b[0;32m   1053\u001b[0m             \u001b[0mres\u001b[0m \u001b[1;33m=\u001b[0m \u001b[0mself\u001b[0m\u001b[1;33m.\u001b[0m\u001b[0m_box_item_values\u001b[0m\u001b[1;33m(\u001b[0m\u001b[0mitem\u001b[0m\u001b[1;33m,\u001b[0m \u001b[0mvalues\u001b[0m\u001b[1;33m)\u001b[0m\u001b[1;33m\u001b[0m\u001b[0m\n\u001b[0;32m   1054\u001b[0m             \u001b[0mcache\u001b[0m\u001b[1;33m[\u001b[0m\u001b[0mitem\u001b[0m\u001b[1;33m]\u001b[0m \u001b[1;33m=\u001b[0m \u001b[0mres\u001b[0m\u001b[1;33m\u001b[0m\u001b[0m\n",
        "\u001b[1;32mC:\\Anaconda\\lib\\site-packages\\pandas\\core\\internals.pyc\u001b[0m in \u001b[0;36mget\u001b[1;34m(self, item)\u001b[0m\n\u001b[0;32m   2535\u001b[0m \u001b[1;33m\u001b[0m\u001b[0m\n\u001b[0;32m   2536\u001b[0m             \u001b[1;32mif\u001b[0m \u001b[1;32mnot\u001b[0m \u001b[0misnull\u001b[0m\u001b[1;33m(\u001b[0m\u001b[0mitem\u001b[0m\u001b[1;33m)\u001b[0m\u001b[1;33m:\u001b[0m\u001b[1;33m\u001b[0m\u001b[0m\n\u001b[1;32m-> 2537\u001b[1;33m                 \u001b[0mloc\u001b[0m \u001b[1;33m=\u001b[0m \u001b[0mself\u001b[0m\u001b[1;33m.\u001b[0m\u001b[0mitems\u001b[0m\u001b[1;33m.\u001b[0m\u001b[0mget_loc\u001b[0m\u001b[1;33m(\u001b[0m\u001b[0mitem\u001b[0m\u001b[1;33m)\u001b[0m\u001b[1;33m\u001b[0m\u001b[0m\n\u001b[0m\u001b[0;32m   2538\u001b[0m             \u001b[1;32melse\u001b[0m\u001b[1;33m:\u001b[0m\u001b[1;33m\u001b[0m\u001b[0m\n\u001b[0;32m   2539\u001b[0m                 \u001b[0mindexer\u001b[0m \u001b[1;33m=\u001b[0m \u001b[0mnp\u001b[0m\u001b[1;33m.\u001b[0m\u001b[0marange\u001b[0m\u001b[1;33m(\u001b[0m\u001b[0mlen\u001b[0m\u001b[1;33m(\u001b[0m\u001b[0mself\u001b[0m\u001b[1;33m.\u001b[0m\u001b[0mitems\u001b[0m\u001b[1;33m)\u001b[0m\u001b[1;33m)\u001b[0m\u001b[1;33m[\u001b[0m\u001b[0misnull\u001b[0m\u001b[1;33m(\u001b[0m\u001b[0mself\u001b[0m\u001b[1;33m.\u001b[0m\u001b[0mitems\u001b[0m\u001b[1;33m)\u001b[0m\u001b[1;33m]\u001b[0m\u001b[1;33m\u001b[0m\u001b[0m\n",
        "\u001b[1;32mC:\\Anaconda\\lib\\site-packages\\pandas\\core\\index.pyc\u001b[0m in \u001b[0;36mget_loc\u001b[1;34m(self, key)\u001b[0m\n\u001b[0;32m   2055\u001b[0m \u001b[1;33m\u001b[0m\u001b[0m\n\u001b[0;32m   2056\u001b[0m     \u001b[1;32mdef\u001b[0m \u001b[0mget_loc\u001b[0m\u001b[1;33m(\u001b[0m\u001b[0mself\u001b[0m\u001b[1;33m,\u001b[0m \u001b[0mkey\u001b[0m\u001b[1;33m)\u001b[0m\u001b[1;33m:\u001b[0m\u001b[1;33m\u001b[0m\u001b[0m\n\u001b[1;32m-> 2057\u001b[1;33m         \u001b[1;32mif\u001b[0m \u001b[0mnp\u001b[0m\u001b[1;33m.\u001b[0m\u001b[0misnan\u001b[0m\u001b[1;33m(\u001b[0m\u001b[0mkey\u001b[0m\u001b[1;33m)\u001b[0m\u001b[1;33m:\u001b[0m\u001b[1;33m\u001b[0m\u001b[0m\n\u001b[0m\u001b[0;32m   2058\u001b[0m             \u001b[1;32mtry\u001b[0m\u001b[1;33m:\u001b[0m\u001b[1;33m\u001b[0m\u001b[0m\n\u001b[0;32m   2059\u001b[0m                 \u001b[1;32mreturn\u001b[0m \u001b[0mself\u001b[0m\u001b[1;33m.\u001b[0m\u001b[0m_nan_idxs\u001b[0m\u001b[1;33m.\u001b[0m\u001b[0mitem\u001b[0m\u001b[1;33m(\u001b[0m\u001b[1;33m)\u001b[0m\u001b[1;33m\u001b[0m\u001b[0m\n",
        "\u001b[1;31mTypeError\u001b[0m: Not implemented for this type"
       ]
      }
     ],
     "prompt_number": 18
    },
    {
     "cell_type": "code",
     "collapsed": false,
     "input": [
      "#df2[df2.MoneyNess == 30 && df2.Tenor == '1W']\n",
      "Stock1[(Stock1.Tenor == '1Y') & (Stock1.MoneyNess == 30)]"
     ],
     "language": "python",
     "metadata": {},
     "outputs": [
      {
       "html": [
        "<div style=\"max-height:1000px;max-width:1500px;overflow:auto;\">\n",
        "<table border=\"1\" class=\"dataframe\">\n",
        "  <thead>\n",
        "    <tr style=\"text-align: right;\">\n",
        "      <th></th>\n",
        "      <th>Vol</th>\n",
        "      <th>Stock</th>\n",
        "      <th>Exh</th>\n",
        "      <th>Tenor</th>\n",
        "      <th>MoneyNess</th>\n",
        "    </tr>\n",
        "  </thead>\n",
        "  <tbody>\n",
        "    <tr>\n",
        "      <th>7</th>\n",
        "      <td> 56,601</td>\n",
        "      <td> AZN</td>\n",
        "      <td> LN</td>\n",
        "      <td> 1Y</td>\n",
        "      <td> 30</td>\n",
        "    </tr>\n",
        "  </tbody>\n",
        "</table>\n",
        "</div>"
       ],
       "metadata": {},
       "output_type": "pyout",
       "prompt_number": 12,
       "text": [
        "      Vol Stock Exh Tenor  MoneyNess\n",
        "7  56,601   AZN  LN    1Y         30"
       ]
      }
     ],
     "prompt_number": 12
    },
    {
     "cell_type": "code",
     "collapsed": false,
     "input": [
      "print Stock1"
     ],
     "language": "python",
     "metadata": {},
     "outputs": []
    },
    {
     "cell_type": "code",
     "collapsed": false,
     "input": [],
     "language": "python",
     "metadata": {},
     "outputs": []
    }
   ],
   "metadata": {}
  }
 ]
}