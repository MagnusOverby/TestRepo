{
 "metadata": {
  "name": "",
  "signature": "sha256:b9c750bed2ff1493af8a8e73f4a70bd714b6ce6b6d1ef5b36597ec7c91f9cd1b"
 },
 "nbformat": 3,
 "nbformat_minor": 0,
 "worksheets": [
  {
   "cells": [
    {
     "cell_type": "code",
     "collapsed": false,
     "input": [
      "import numpy as np\n",
      "import scipy as sp\n",
      "import random\n",
      "import copy"
     ],
     "language": "python",
     "metadata": {},
     "outputs": [],
     "prompt_number": 1
    },
    {
     "cell_type": "code",
     "collapsed": false,
     "input": [
      "numbers = np.loadtxt(\"/home/magnus/Downloads/QuickSort.txt\")\n",
      "TenNumbers = np.loadtxt(\"/home/magnus/Downloads/10.txt\")\n",
      "HundredNumbers = np.loadtxt(\"/home/magnus/Downloads/100.txt\")\n",
      "ThousandNumbers = np.loadtxt(\"/home/magnus/Downloads/1000.txt\")"
     ],
     "language": "python",
     "metadata": {},
     "outputs": [],
     "prompt_number": 123
    },
    {
     "cell_type": "code",
     "collapsed": false,
     "input": [
      "runningSum = 0\n",
      "\n",
      "\n",
      "def chooseFirst(A):\n",
      "    return 0\n",
      "\n",
      "def median(a, b, c):\n",
      "    if ( a - b) * (c - a) >= 0:\n",
      "        return a\n",
      "\n",
      "    elif (b - a) * (c - b) >= 0:\n",
      "        return b\n",
      "\n",
      "    else:\n",
      "        return c\n",
      "\n",
      "def chooseMedian(A):\n",
      "    idx = [0,int((len(A)-1)/2),len(A)-1]\n",
      "    vals = [A[x] for x in idx]\n",
      "    m = median(vals[0],vals[1],vals[2])\n",
      "    return np.where(A==m)\n",
      "    \n",
      "    \n",
      "def chooseMed(A):\n",
      "    idxLst = np.array([0,int((len(A)-1)/2),len(A)-1])\n",
      "    Amod = np.array(A)[idxLst]\n",
      "    m = np.median(Amod)\n",
      "    return np.nanargmin(np.abs(Amod-m))\n",
      "\n",
      "def chooseEnd(A):\n",
      "    return len(A)-1\n",
      "\n",
      "def setFirstToPivot(A,l):\n",
      "     b = A[0]\n",
      "     A[0] = A[l]\n",
      "     A[l] = b\n",
      "     return A\n",
      "\n",
      "def swap(A,i,j):\n",
      "    b = A[i]\n",
      "    A[i] = A[j]\n",
      "    A[j] = b\n",
      "    return A\n",
      "\n",
      "def Partition(A):\n",
      "    r = len(A)\n",
      "    if r <=1:\n",
      "        return A\n",
      "    \n",
      "    global runningSum\n",
      "    runningSum += r-1\n",
      "    l = chooseMedian(A)\n",
      "    p = A[l]\n",
      "    A = swap(A,0,l)\n",
      "    i = 1\n",
      "    for j in range(1,r):\n",
      "        if A[j] < p:\n",
      "             b = A[i]\n",
      "             A[i] = A[j]\n",
      "             A[j] = b\n",
      "             i+=1\n",
      "                \n",
      "    b = A[0]\n",
      "    A[0] = A[i-1]\n",
      "    A[i-1] = b\n",
      "    \n",
      "    return Partition(A[:i-1])+[A[i-1]]+Partition(A[i:])\n",
      "    \n",
      "   \n",
      "runningSum = 0\n",
      "\n",
      "# try a free style sorting below\n",
      "testArray = [  3. ,  9. ,  8. ,  4. ,  6. , 10. ,  2.  , 5. ,  7. ,  1.]\n",
      "testArray2 = [4 ,55, 6, 7]\n",
      "\n",
      "print Partition(numbers)\n",
      "print \"First partition: \" +str(runningSum)"
     ],
     "language": "python",
     "metadata": {},
     "outputs": [
      {
       "output_type": "stream",
       "stream": "stdout",
       "text": [
        "[]\n",
        "First partition: 138382\n"
       ]
      }
     ],
     "prompt_number": 124
    },
    {
     "cell_type": "code",
     "collapsed": false,
     "input": [
      "testArray = [  3. ,  9. ,  8. ,  4. ,  6. , 10. ,  2.  , 5. ,  7. ,  1.]\n",
      "chooseMedian(testArray)"
     ],
     "language": "python",
     "metadata": {},
     "outputs": [
      {
       "metadata": {},
       "output_type": "pyout",
       "prompt_number": 77,
       "text": [
        "0"
       ]
      }
     ],
     "prompt_number": 77
    },
    {
     "cell_type": "code",
     "collapsed": false,
     "input": [],
     "language": "python",
     "metadata": {},
     "outputs": [
      {
       "ename": "AttributeError",
       "evalue": "'module' object has no attribute 'me'",
       "output_type": "pyerr",
       "traceback": [
        "\u001b[1;31m---------------------------------------------------------------------------\u001b[0m\n\u001b[1;31mAttributeError\u001b[0m                            Traceback (most recent call last)",
        "\u001b[1;32m<ipython-input-325-e6f0711bb775>\u001b[0m in \u001b[0;36m<module>\u001b[1;34m()\u001b[0m\n\u001b[1;32m----> 1\u001b[1;33m \u001b[0mnp\u001b[0m\u001b[1;33m.\u001b[0m\u001b[0mme\u001b[0m\u001b[1;33m\u001b[0m\u001b[0m\n\u001b[0m",
        "\u001b[1;31mAttributeError\u001b[0m: 'module' object has no attribute 'me'"
       ]
      }
     ],
     "prompt_number": 325
    },
    {
     "cell_type": "code",
     "collapsed": false,
     "input": [
      "A = np.loadtxt(\"/home/magnus/Downloads/10.txt\")\n",
      "global runningSum\n",
      "runningSum = 0\n",
      "print A\n",
      "r = len(A)\n",
      "l = chooseEnd(A)\n",
      "runningSum += r-1\n",
      "p=A[l]\n",
      "i = l+1\n",
      "\n",
      "for j in range(l+1,r):\n",
      "    if A[j] < p:\n",
      "        b = A[i]\n",
      "        A[i] = A[j]\n",
      "        A[j] = b\n",
      "        i +=1\n",
      "        print i\n",
      "\n",
      "b = A[i-1]\n",
      "A[i-1] = A[l]\n",
      "A[l] = b\n",
      "\n",
      "print A\n"
     ],
     "language": "python",
     "metadata": {},
     "outputs": [
      {
       "output_type": "stream",
       "stream": "stdout",
       "text": [
        "[  3.   9.   8.   4.   6.  10.   2.   5.   7.   1.]\n",
        "10\n",
        "[  3.   9.   8.   4.   6.  10.   2.   5.   1.   7.]\n"
       ]
      }
     ],
     "prompt_number": 34
    },
    {
     "cell_type": "code",
     "collapsed": false,
     "input": [
      "a = [1,2,2]\n",
      "b = [0,0,1,222,32,101]\n",
      "a+b"
     ],
     "language": "python",
     "metadata": {},
     "outputs": []
    },
    {
     "cell_type": "code",
     "collapsed": false,
     "input": [
      "global runningSum\n",
      "runningSum = 0\n",
      "\n",
      "def sort(array):\n",
      "    less = []\n",
      "    equal = []\n",
      "    greater = []\n",
      "    global runningSum\n",
      "    \n",
      "    if len(array) > 1:\n",
      "        runningSum += len(array)-1\n",
      "        pivot = array[0]\n",
      "        for x in array:\n",
      "            if x < pivot:\n",
      "                less.append(x)\n",
      "            if x == pivot:\n",
      "                equal.append(x)\n",
      "            if x > pivot:\n",
      "                greater.append(x)\n",
      "        # Don't forget to return something!\n",
      "        return sort(less)+equal+sort(greater)  # Just use the + operator to join lists\n",
      "    # Note that you want equal ^^^^^ not pivot\n",
      "    else:  # You need to hande the part at the end of the recursion - when you only have one element in your array, just return the array.\n",
      "        return array\n",
      "\n",
      "testArray = [  3. ,  9. ,  8. ,  4. ,  6. , 10. ,  2.  , 5. ,  7. ,  1.]\n",
      "sort(testArray)\n",
      "print runningSum"
     ],
     "language": "python",
     "metadata": {},
     "outputs": [
      {
       "output_type": "stream",
       "stream": "stdout",
       "text": [
        "25\n"
       ]
      }
     ],
     "prompt_number": 116
    },
    {
     "cell_type": "code",
     "collapsed": false,
     "input": [
      "testArray = [  3. ,  9. ,  8. ,  4. ,  6. , 10. ,  2.  , 5. ,  7. ,  1.]\n",
      "aBig = len(testArray)-1\n",
      "idxLst = np.array([0,int((len(A)-1)/2),len(A)-1])\n",
      "Amod = np.array(A)[idxLst]\n",
      "m = np.median(Amod)\n",
      "ll = np.nanargmin(np.abs(Amod-m))\n",
      "ll"
     ],
     "language": "python",
     "metadata": {},
     "outputs": [
      {
       "metadata": {},
       "output_type": "pyout",
       "prompt_number": 99,
       "text": [
        "1"
       ]
      }
     ],
     "prompt_number": 99
    },
    {
     "cell_type": "code",
     "collapsed": false,
     "input": [
      "Amod"
     ],
     "language": "python",
     "metadata": {},
     "outputs": [
      {
       "metadata": {},
       "output_type": "pyout",
       "prompt_number": 101,
       "text": [
        "array([1, 3, 5])"
       ]
      }
     ],
     "prompt_number": 101
    },
    {
     "cell_type": "code",
     "collapsed": false,
     "input": [
      "testArray = [  3. ,  9. ,  8. ,  4. ,  6. , 10. ,  2.  , 5. ,  7. ,  1.]\n",
      "\n",
      "idx = [0,int((len(testArray)-1)/2),len(testArray)-1]\n",
      "vals = [testArray[x] for x in idx]\n",
      "if vals[0] > vals[1] and vals[1] >= vals[2]:\n",
      "    print idx[1]\n",
      "elif vals[1] >vals[0] and vals[2] <= vals[0]:\n",
      "    print idx[0]\n",
      "else:\n",
      "    print idx[2]\n",
      "\n",
      "\n"
     ],
     "language": "python",
     "metadata": {},
     "outputs": [
      {
       "output_type": "stream",
       "stream": "stdout",
       "text": [
        "0\n"
       ]
      }
     ],
     "prompt_number": 82
    },
    {
     "cell_type": "code",
     "collapsed": false,
     "input": [
      "vals"
     ],
     "language": "python",
     "metadata": {},
     "outputs": [
      {
       "metadata": {},
       "output_type": "pyout",
       "prompt_number": 83,
       "text": [
        "[3.0, 6.0, 1.0]"
       ]
      }
     ],
     "prompt_number": 83
    },
    {
     "cell_type": "code",
     "collapsed": false,
     "input": [],
     "language": "python",
     "metadata": {},
     "outputs": []
    }
   ],
   "metadata": {}
  }
 ]
}