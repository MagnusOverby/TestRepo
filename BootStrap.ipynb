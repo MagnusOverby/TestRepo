{
 "metadata": {
  "name": "",
  "signature": "sha256:e1cea993c0723c4f17c029c1c779f0d36b29a98bab06c733fd87ab4a2d3f9ead"
 },
 "nbformat": 3,
 "nbformat_minor": 0,
 "worksheets": [
  {
   "cells": [
    {
     "cell_type": "code",
     "collapsed": false,
     "input": [
      "import numpy as np\n",
      "import scipy as sp\n",
      "import pandas as pd"
     ],
     "language": "python",
     "metadata": {},
     "outputs": [],
     "prompt_number": 1
    },
    {
     "cell_type": "code",
     "collapsed": false,
     "input": [
      "path = \"G:\\Magnus\\DataDump\\TestData.txt\""
     ],
     "language": "python",
     "metadata": {},
     "outputs": [],
     "prompt_number": 2
    },
    {
     "cell_type": "code",
     "collapsed": false,
     "input": [
      "# To Aquire test data\n",
      "f = file(path)\n",
      "lines = f.readlines()\n",
      "data= []\n",
      "iMax = len(lines)\n",
      "\n",
      "for i in range(1,iMax):\n",
      "    l = lines[i]\n",
      "    l = l.replace('\\n','')\n",
      "    ll = l.split('\\t')\n",
      "    price = float(ll[1].replace(',','.'))\n",
      "    data.append(price)"
     ],
     "language": "python",
     "metadata": {},
     "outputs": [],
     "prompt_number": 3
    },
    {
     "cell_type": "code",
     "collapsed": false,
     "input": [
      "#generate returns \n",
      "iMaxLoop = len(data)\n",
      "returns = []\n",
      "for i in range(1,iMaxLoop):\n",
      "    ret = np.log(data[i]) -np.log(data[i-1])\n",
      "    returns.append(ret)\n",
      "returns = np.array(returns)"
     ],
     "language": "python",
     "metadata": {},
     "outputs": [],
     "prompt_number": 4
    },
    {
     "cell_type": "code",
     "collapsed": false,
     "input": [
      "#Clean for mean\n",
      "meanRet = np.mean(returns)\n",
      "sigma = np.std(returns)\n",
      "adjustmentFactor = meanRet #-sigma**2/2 dont think this factor is needed\n",
      "adjRet = returns-adjustmentFactor"
     ],
     "language": "python",
     "metadata": {},
     "outputs": [],
     "prompt_number": 5
    },
    {
     "cell_type": "code",
     "collapsed": false,
     "input": [
      "#bootStrap \n",
      "div = 0.04\n",
      "r = 0.02\n",
      "nrOfDays = 5*252 \n",
      "ObsSchedule = [1,1,1,1,1]\n",
      "\n",
      "def BootStrap(returns):\n",
      "    meanRet = np.mean(returns)\n",
      "    sigma = np.std(returns)\n",
      "    adjustmentFactor = meanRet-(sigma**2)/2\n",
      "    adjRet = returns-adjustmentFactor\n",
      "    iHistMax = len(adjRet)\n",
      "    Picks = np.random.randint(0,iHistMax,nrOfDays)\n",
      "    ModRet = adjRet[Picks]\n",
      "    return ModRet \n",
      "#Assuming constant dividends and rate\n"
     ],
     "language": "python",
     "metadata": {},
     "outputs": [],
     "prompt_number": 6
    },
    {
     "cell_type": "code",
     "collapsed": false,
     "input": [
      "def AssembleBootStrapPrice(ObsSchedule,ModRet,r,div):\n",
      "    Sample =[]\n",
      "    step = 252\n",
      "    for i in range(0,len(ObsSchedule)):\n",
      "        CumRet = np.sum(ModRet[:step*(i+1)])\n",
      "        PeriodRet = np.sum(ModRet[step*i:step*(i+1)])\n",
      "        Drift = (r-div)*(i+1)\n",
      "        Sample.append(CumRet+div)\n",
      "    return np.exp(Sample)"
     ],
     "language": "python",
     "metadata": {},
     "outputs": [],
     "prompt_number": 7
    },
    {
     "cell_type": "code",
     "collapsed": false,
     "input": [
      "MRet = BootStrap(returns)\n",
      "AssembleBootStrapPrice(ObsSchedule,MRet,r,div)"
     ],
     "language": "python",
     "metadata": {},
     "outputs": [
      {
       "metadata": {},
       "output_type": "pyout",
       "prompt_number": 8,
       "text": [
        "array([ 0.69332869,  0.73778016,  0.63344989,  0.44265368,  0.50706522])"
       ]
      }
     ],
     "prompt_number": 8
    },
    {
     "cell_type": "code",
     "collapsed": false,
     "input": [],
     "language": "python",
     "metadata": {},
     "outputs": [],
     "prompt_number": 11
    },
    {
     "cell_type": "code",
     "collapsed": false,
     "input": [],
     "language": "python",
     "metadata": {},
     "outputs": []
    }
   ],
   "metadata": {}
  }
 ]
}