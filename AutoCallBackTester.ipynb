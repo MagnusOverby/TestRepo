{
 "metadata": {
  "name": "",
  "signature": "sha256:96f4f0039861f1c0445a78589f3d16d5e0d46c567dd3f9b4e16b72dff6e48c91"
 },
 "nbformat": 3,
 "nbformat_minor": 0,
 "worksheets": [
  {
   "cells": [
    {
     "cell_type": "code",
     "collapsed": false,
     "input": [
      "import pytz\n",
      "from datetime import datetime\n",
      "import pandas as pd\n",
      "import numpy as np\n",
      "\n",
      "import zipline\n",
      "from zipline.algorithm import TradingAlgorithm\n",
      "from zipline.utils.factory import load_bars_from_yahoo\n",
      "from zipline.api import order, record, symbol\n"
     ],
     "language": "python",
     "metadata": {},
     "outputs": [],
     "prompt_number": 2
    },
    {
     "cell_type": "code",
     "collapsed": false,
     "input": [
      "class BackTest():\n",
      "    def __init__(self,dataSet,start,ten,ObsFreq):\n",
      "        self.data = dataSet\n",
      "        self.observDate = pd.date_range(start=start,end= start + pd.DateOffset(years=ten),freq=ObsFreq)\n",
      "        self.ValAtObs = self.data[self.observDate]\n",
      "    \n",
      "    \n",
      "\n",
      "\n",
      "class Athena():\n",
      "    def __init__(self,Tenor,Callbarrier,obsFreq,startDate):\n",
      "        self.Tenor = Tenor\n",
      "        self.start=pd.Timestamp(startDate)\n",
      "        self.end = start + pd.DateOffset(years=5)\n",
      "        \n",
      "    \n",
      "\"\"\"   \n",
      "def Athena((InitialValue,ValAtObs,CallBarrier,RiskBarrier,p1,p2,Nom,ObsLeft)): \n",
      "   ObsVal = ValAtObs[len(ValAtObs)-ObsLeft]\n",
      "   if (InitialValue*CallBarrier >= ValAtObs):\n",
      "      return (1+p1)*Nom\n",
      "   else:\n",
      "    if (ObsLeft == 0):\n",
      "        if InitialValue*RiskBarrier >= ValueAtObs:\n",
      "            return Nom\n",
      "        else:\n",
      "            return Nom*ValueAtObs\n",
      "    else:\n",
      "       return Athena((InitialValue,ValAtObs,CallBarrier,RiskBarrier,p1,p2,Nom,ObsLeft-1))\n",
      "\"\"\"            \n",
      "            \n",
      "   \n",
      "    \n",
      "   \n",
      "\n",
      "start = pd.Timestamp('2010-05-04')\n",
      "end = start + pd.DateOffset(years=5)\n",
      "omX= pd.io.data.DataReader(\"JCP\", 'google', start, end).Close\n",
      "AthenJCP = AutoCall(omX,start,5,'12M')\n",
      "print AthenJCP.Value(Athena,100,70,30,20,5)"
     ],
     "language": "python",
     "metadata": {},
     "outputs": [
      {
       "ename": "NameError",
       "evalue": "name 'pd' is not defined",
       "output_type": "pyerr",
       "traceback": [
        "\u001b[1;31m---------------------------------------------------------------------------\u001b[0m\n\u001b[1;31mNameError\u001b[0m                                 Traceback (most recent call last)",
        "\u001b[1;32m<ipython-input-1-5ef5781aab78>\u001b[0m in \u001b[0;36m<module>\u001b[1;34m()\u001b[0m\n\u001b[0;32m     27\u001b[0m \u001b[1;33m\u001b[0m\u001b[0m\n\u001b[0;32m     28\u001b[0m \u001b[1;33m\u001b[0m\u001b[0m\n\u001b[1;32m---> 29\u001b[1;33m \u001b[0mstart\u001b[0m \u001b[1;33m=\u001b[0m \u001b[0mpd\u001b[0m\u001b[1;33m.\u001b[0m\u001b[0mTimestamp\u001b[0m\u001b[1;33m(\u001b[0m\u001b[1;34m'2010-05-04'\u001b[0m\u001b[1;33m)\u001b[0m\u001b[1;33m\u001b[0m\u001b[0m\n\u001b[0m\u001b[0;32m     30\u001b[0m \u001b[0mend\u001b[0m \u001b[1;33m=\u001b[0m \u001b[0mstart\u001b[0m \u001b[1;33m+\u001b[0m \u001b[0mpd\u001b[0m\u001b[1;33m.\u001b[0m\u001b[0mDateOffset\u001b[0m\u001b[1;33m(\u001b[0m\u001b[0myears\u001b[0m\u001b[1;33m=\u001b[0m\u001b[1;36m5\u001b[0m\u001b[1;33m)\u001b[0m\u001b[1;33m\u001b[0m\u001b[0m\n\u001b[0;32m     31\u001b[0m \u001b[0momX\u001b[0m\u001b[1;33m=\u001b[0m \u001b[0mpd\u001b[0m\u001b[1;33m.\u001b[0m\u001b[0mio\u001b[0m\u001b[1;33m.\u001b[0m\u001b[0mdata\u001b[0m\u001b[1;33m.\u001b[0m\u001b[0mDataReader\u001b[0m\u001b[1;33m(\u001b[0m\u001b[1;34m\"JCP\"\u001b[0m\u001b[1;33m,\u001b[0m \u001b[1;34m'google'\u001b[0m\u001b[1;33m,\u001b[0m \u001b[0mstart\u001b[0m\u001b[1;33m,\u001b[0m \u001b[0mend\u001b[0m\u001b[1;33m)\u001b[0m\u001b[1;33m.\u001b[0m\u001b[0mClose\u001b[0m\u001b[1;33m\u001b[0m\u001b[0m\n",
        "\u001b[1;31mNameError\u001b[0m: name 'pd' is not defined"
       ]
      }
     ],
     "prompt_number": 1
    },
    {
     "cell_type": "code",
     "collapsed": false,
     "input": [
      "start = pd.Timestamp('2010-05-04')\n",
      "end = start + pd.DateOffset(years=5)\n",
      "omX= pd.io.data.DataReader(\"^RUT\", 'yahoo', start, end).Close\n",
      "Athena = AutoCall(omX,start,5,'3M')\n"
     ],
     "language": "python",
     "metadata": {},
     "outputs": []
    },
    {
     "cell_type": "code",
     "collapsed": false,
     "input": [
      "d = 550\n",
      "m = d*20\n",
      "y = m*12\n",
      "print y*12.01"
     ],
     "language": "python",
     "metadata": {},
     "outputs": []
    },
    {
     "cell_type": "code",
     "collapsed": false,
     "input": [
      "class Tstr: \n",
      "    def __init__(self,*arg):\n",
      "        self.dumstrut = arg\n",
      "    def Value(self,Funkk):\n",
      "       return Funkk(self.dumstrut)\n",
      "\n",
      "\n",
      "\n",
      "def funkk(GirFunk,*args):\n",
      "    print args[0]\n",
      "    GirFunk(args)\n",
      "        \n",
      "def otherFunk((x,y,z)):\n",
      "    print x\n",
      "    print \"this \"+ y\n",
      "    \n",
      "        \n",
      "funkk(otherFunk,'arne','barne','karne')\n",
      "Val = Tstr((\"hello World\"))\n",
      "Val.Value(otherFunk)"
     ],
     "language": "python",
     "metadata": {},
     "outputs": [
      {
       "output_type": "stream",
       "stream": "stdout",
       "text": [
        "arne\n",
        "arne\n",
        "this barne\n"
       ]
      },
      {
       "ename": "ValueError",
       "evalue": "too many values to unpack",
       "output_type": "pyerr",
       "traceback": [
        "\u001b[1;31m---------------------------------------------------------------------------\u001b[0m\n\u001b[1;31mValueError\u001b[0m                                Traceback (most recent call last)",
        "\u001b[1;32m<ipython-input-12-9e00f554798c>\u001b[0m in \u001b[0;36m<module>\u001b[1;34m()\u001b[0m\n\u001b[0;32m     18\u001b[0m \u001b[0mfunkk\u001b[0m\u001b[1;33m(\u001b[0m\u001b[0motherFunk\u001b[0m\u001b[1;33m,\u001b[0m\u001b[1;34m'arne'\u001b[0m\u001b[1;33m,\u001b[0m\u001b[1;34m'barne'\u001b[0m\u001b[1;33m,\u001b[0m\u001b[1;34m'karne'\u001b[0m\u001b[1;33m)\u001b[0m\u001b[1;33m\u001b[0m\u001b[0m\n\u001b[0;32m     19\u001b[0m \u001b[0mVal\u001b[0m \u001b[1;33m=\u001b[0m \u001b[0mTstr\u001b[0m\u001b[1;33m(\u001b[0m\u001b[1;33m(\u001b[0m\u001b[1;34m\"hello World\"\u001b[0m\u001b[1;33m)\u001b[0m\u001b[1;33m)\u001b[0m\u001b[1;33m\u001b[0m\u001b[0m\n\u001b[1;32m---> 20\u001b[1;33m \u001b[0mVal\u001b[0m\u001b[1;33m.\u001b[0m\u001b[0mValue\u001b[0m\u001b[1;33m(\u001b[0m\u001b[0motherFunk\u001b[0m\u001b[1;33m)\u001b[0m\u001b[1;33m\u001b[0m\u001b[0m\n\u001b[0m",
        "\u001b[1;32m<ipython-input-12-9e00f554798c>\u001b[0m in \u001b[0;36mValue\u001b[1;34m(self, Funkk)\u001b[0m\n\u001b[0;32m      3\u001b[0m         \u001b[0mself\u001b[0m\u001b[1;33m.\u001b[0m\u001b[0mdumstrut\u001b[0m \u001b[1;33m=\u001b[0m \u001b[0marg\u001b[0m\u001b[1;33m\u001b[0m\u001b[0m\n\u001b[0;32m      4\u001b[0m     \u001b[1;32mdef\u001b[0m \u001b[0mValue\u001b[0m\u001b[1;33m(\u001b[0m\u001b[0mself\u001b[0m\u001b[1;33m,\u001b[0m\u001b[0mFunkk\u001b[0m\u001b[1;33m)\u001b[0m\u001b[1;33m:\u001b[0m\u001b[1;33m\u001b[0m\u001b[0m\n\u001b[1;32m----> 5\u001b[1;33m        \u001b[1;32mreturn\u001b[0m \u001b[0mFunkk\u001b[0m\u001b[1;33m(\u001b[0m\u001b[0mself\u001b[0m\u001b[1;33m.\u001b[0m\u001b[0mdumstrut\u001b[0m\u001b[1;33m)\u001b[0m\u001b[1;33m\u001b[0m\u001b[0m\n\u001b[0m\u001b[0;32m      6\u001b[0m \u001b[1;33m\u001b[0m\u001b[0m\n\u001b[0;32m      7\u001b[0m \u001b[1;33m\u001b[0m\u001b[0m\n",
        "\u001b[1;32m<ipython-input-12-9e00f554798c>\u001b[0m in \u001b[0;36motherFunk\u001b[1;34m(***failed resolving arguments***)\u001b[0m\n\u001b[0;32m     11\u001b[0m     \u001b[0mGirFunk\u001b[0m\u001b[1;33m(\u001b[0m\u001b[0margs\u001b[0m\u001b[1;33m)\u001b[0m\u001b[1;33m\u001b[0m\u001b[0m\n\u001b[0;32m     12\u001b[0m \u001b[1;33m\u001b[0m\u001b[0m\n\u001b[1;32m---> 13\u001b[1;33m \u001b[1;32mdef\u001b[0m \u001b[0motherFunk\u001b[0m\u001b[1;33m(\u001b[0m\u001b[1;33m(\u001b[0m\u001b[0mx\u001b[0m\u001b[1;33m,\u001b[0m\u001b[0my\u001b[0m\u001b[1;33m,\u001b[0m\u001b[0mz\u001b[0m\u001b[1;33m)\u001b[0m\u001b[1;33m)\u001b[0m\u001b[1;33m:\u001b[0m\u001b[1;33m\u001b[0m\u001b[0m\n\u001b[0m\u001b[0;32m     14\u001b[0m     \u001b[1;32mprint\u001b[0m \u001b[0mx\u001b[0m\u001b[1;33m\u001b[0m\u001b[0m\n\u001b[0;32m     15\u001b[0m     \u001b[1;32mprint\u001b[0m \u001b[1;34m\"this \"\u001b[0m\u001b[1;33m+\u001b[0m \u001b[0my\u001b[0m\u001b[1;33m\u001b[0m\u001b[0m\n",
        "\u001b[1;31mValueError\u001b[0m: too many values to unpack"
       ]
      }
     ],
     "prompt_number": 12
    },
    {
     "cell_type": "code",
     "collapsed": false,
     "input": [
      "a = (1,2)\n",
      "a[1]"
     ],
     "language": "python",
     "metadata": {},
     "outputs": []
    },
    {
     "cell_type": "code",
     "collapsed": false,
     "input": [
      "import numpy as np\n",
      "\n",
      "returns = np.array([6.45,8.96,9.44,5.82,7.60])/100\n",
      "beta = np.array([0.88,1.02,1.36,0.8,1.00])\n",
      "stDev = np.array([0.0274,0.0454,0.0372,0.0264,0.0280])\n",
      "riskfree = 0.03\n",
      "rM = 0.076\n",
      "stDevMarket = 0.028\n",
      "sharpe = (returns-riskfree)/stDev\n",
      "M2 = (returns-riskfree)/stDev*stDevMarket+riskfree\n",
      "Treynor = (returns-riskfree)/beta\n",
      "alpha = returns - beta*(rM-riskfree)-riskfree\n",
      "print Treynor\n",
      "print M2\n",
      "print sharpe\n",
      "print alpha"
     ],
     "language": "python",
     "metadata": {},
     "outputs": [
      {
       "output_type": "stream",
       "stream": "stdout",
       "text": [
        "[ 0.03920455  0.05843137  0.04735294  0.03525     0.046     ]\n",
        "[ 0.06525547  0.06675771  0.07847312  0.05990909  0.076     ]\n",
        "[ 1.25912409  1.31277533  1.7311828   1.06818182  1.64285714]\n",
        "[-0.00598  0.01268  0.00184 -0.0086   0.     ]\n"
       ]
      }
     ],
     "prompt_number": 11
    },
    {
     "cell_type": "code",
     "collapsed": false,
     "input": [
      "import numpy as np\n",
      "\n",
      "ret1 = np.array([8.25,7.21,9.44,10.12,8.6])/100\n",
      "beta1 = np.array([0.91,0.84,1.02,1.34,1.00])\n",
      "stdev1 = np.array([0.0324,0.0388,0.0366,0.0328,0.0355])\n",
      "trackingerror = np.array([0.0043,0.0062,0.0033,0.0109])\n",
      "rM = 0.086\n",
      "stdev = 0.0355\n",
      "r = 0.04\n",
      "\n",
      "alpha1 = ret1 -r-beta*(rM-r)\n",
      "sharpes = (ret1-r)/stdev1\n",
      "treynor1 = (ret1-r)/beta1\n",
      "\n",
      "print alpha1\n",
      "print treynor1\n",
      "print sharpes\n"
     ],
     "language": "python",
     "metadata": {},
     "outputs": [
      {
       "output_type": "stream",
       "stream": "stdout",
       "text": [
        "[ 0.00064 -0.00654  0.00748 -0.00044  0.     ]\n",
        "[ 0.0467033   0.03821429  0.05333333  0.04567164  0.046     ]\n",
        "[ 1.3117284   0.82731959  1.4863388   1.86585366  1.29577465]\n"
       ]
      }
     ],
     "prompt_number": 35
    },
    {
     "cell_type": "code",
     "collapsed": false,
     "input": [
      "print (ret1-r)/beta1"
     ],
     "language": "python",
     "metadata": {},
     "outputs": [
      {
       "output_type": "stream",
       "stream": "stdout",
       "text": [
        "[ 0.0467033   0.03821429  0.05333333  0.04567164  0.046     ]\n"
       ]
      }
     ],
     "prompt_number": 29
    },
    {
     "cell_type": "code",
     "collapsed": false,
     "input": [
      "alhpa = returns -r-beta*(rM-r)\n",
      "alpha"
     ],
     "language": "python",
     "metadata": {},
     "outputs": [
      {
       "metadata": {},
       "output_type": "pyout",
       "prompt_number": 20,
       "text": [
        "array([-0.00598,  0.01268,  0.00184, -0.0086 ,  0.     ])"
       ]
      }
     ],
     "prompt_number": 20
    },
    {
     "cell_type": "code",
     "collapsed": false,
     "input": [],
     "language": "python",
     "metadata": {},
     "outputs": []
    }
   ],
   "metadata": {}
  }
 ]
}