{
 "metadata": {
  "name": "",
  "signature": "sha256:95b95e182b54312ab81dd56ef454f8bf1dc423897630370ccc29b410059e4f37"
 },
 "nbformat": 3,
 "nbformat_minor": 0,
 "worksheets": [
  {
   "cells": [
    {
     "cell_type": "code",
     "collapsed": false,
     "input": [
      "%matplotlib inline\n",
      "import pandas as pd\n",
      "import numpy as np\n",
      "import scipy as sci\n",
      "import matplotlib.pyplot as plt\n",
      "# need to understand how to handle NAs since this will get messy otherwise\n",
      "path = 'C:\\Data\\Marknads Data\\DataFranSophies.sqy'\n",
      "cols = ['Date','Stock','Price']\n",
      "df = pd.read_csv(path,sep='\\t+',names=cols).dropna()\n",
      "df.Date = pd.to_datetime(df.Date)\n",
      "df.Price = [float(x.replace(',','.')) for x in df.Price]\n",
      "data = df.pivot(index='Date',values='Price',columns='Stock')\n",
      "#Adjusting for HEINZ\n",
      "data = data.drop('HJ HEINZ ORD',1)\n",
      "start = '2011-09-09'\n",
      "end = '2014-09-09'\n",
      "cols = data.columns\n",
      "retcols = cols[cols != 'USD LIBOR 3M']\n",
      "RFactor = 0.874345\n",
      "data2 = data.copy()\n",
      "data2 = data2[start:end]\n",
      "startKellog = 46.35776\n",
      "data2['KELLOGG ORD'][start] = startKellog\n",
      "data2['USD LIBOR 3M'] = data2['USD LIBOR 3M']/100\n",
      "rets = data2[retcols].interpolate().pct_change()\n",
      "print data2['KELLOGG ORD'][start] \n",
      "data2[retcols] = rets\n",
      "data2 = data2[start:end]"
     ],
     "language": "python",
     "metadata": {},
     "outputs": [
      {
       "output_type": "stream",
       "stream": "stdout",
       "text": [
        "46.35776\n"
       ]
      }
     ],
     "prompt_number": 19
    },
    {
     "cell_type": "code",
     "collapsed": false,
     "input": [
      "adjRets = rets.copy()\n",
      "portFolioRets = adjRets[retcols].sum(axis=1)/10 \n",
      "adjustedReturns = ((portFolioRets[start:end]+1)-data2['USD LIBOR 3M'][start:end].interpolate()/360).cumprod()\n",
      "adjustedReturns.plot()"
     ],
     "language": "python",
     "metadata": {},
     "outputs": [
      {
       "metadata": {},
       "output_type": "pyout",
       "prompt_number": 21,
       "text": [
        "<matplotlib.axes.AxesSubplot at 0x9775350>"
       ]
      },
      {
       "metadata": {},
       "output_type": "display_data",
       "png": "[encoded data removed]",
       "text": [
        "<matplotlib.figure.Figure at 0x9749a90>"
       ]
      }
     ],
     "prompt_number": 21
    },
    {
     "cell_type": "code",
     "collapsed": false,
     "input": [
      "startEndObs = '2013-09-08'\n",
      "\n",
      "\n",
      "dRet = adjustedReturns[startEndObs:end]\n",
      "\n",
      "dt = pd.to_datetime(['09-Sep-13',\n",
      "'09-Oct-13',\n",
      "'11-Nov-13',\n",
      "'09-Dec-13',\n",
      "'09-Jan-14',\n",
      "'10-Feb-14',\n",
      "'10-Mar-14',\n",
      "'09-Apr-14',\n",
      "'09-May-14',\n",
      "'09-Jun-14',\n",
      "'09-Jul-14',\n",
      "'11-Aug-14',\n",
      "'09-Sep-14'])\n",
      "\n",
      "dRet = dRet[dt]-1\n",
      "print np.average(dRet)\n",
      "outPut =  (np.average(dRet))*1.6*(7.1043/6.4358)\n",
      "print outPut"
     ],
     "language": "python",
     "metadata": {},
     "outputs": [
      {
       "output_type": "stream",
       "stream": "stdout",
       "text": [
        "0.264135186988\n",
        "0.466514337653\n"
       ]
      }
     ],
     "prompt_number": 13
    },
    {
     "cell_type": "code",
     "collapsed": false,
     "input": [
      "\n",
      "\"\"\"\n",
      "2013-09-09    1.198851\n",
      "2013-10-09    1.167404\n",
      "2013-11-11    1.250223\n",
      "2013-12-09    1.259652\n",
      "2014-01-09    1.256707\n",
      "2014-02-10    1.229807\n",
      "2014-03-10    1.267813\n",
      "2014-04-09    1.299393\n",
      "2014-05-09    1.313328\n",
      "2014-06-09    1.326509\n",
      "2014-07-09    1.342383\n",
      "2014-08-11    1.260893\n",
      "2014-09-09    1.275231\n",
      "dtype: float64\n",
      "0.468475463742\n",
      "\"\"\""
     ],
     "language": "python",
     "metadata": {},
     "outputs": []
    },
    {
     "cell_type": "code",
     "collapsed": false,
     "input": [
      "\"\"\"\n",
      "Hi,\n",
      "\n",
      "Please see below details.\n",
      "\n",
      "ISIN\tCCY\tNotional\tP/R\tAmount\tRedeeming\tSettlement\tBusiness days\n",
      "SE0004058253\tSEK\t150,000\tPay\t255,234.04\tYes\t23 Sep 14\tFFT/LDN/Stockholm\n",
      "\n",
      "Calculation:\n",
      "\n",
      "average dates\tunderlying\n",
      "Start\t100\n",
      "09-Sep-13\t131.3422758\n",
      "09-Oct-13\t128.9573778\n",
      "11-Nov-13\t138.3835876\n",
      "09-Dec-13\t139.5274655\n",
      "09-Jan-14\t138.9842548\n",
      "10-Feb-14\t136.1352444\n",
      "10-Mar-14\t140.4128677\n",
      "09-Apr-14\t143.5373048\n",
      "09-May-14\t144.7930579\n",
      "09-Jun-14\t146.4708687\n",
      "09-Jul-14\t148.2228684\n",
      "11-Aug-14\t139.0199217\n",
      "09-Sep-14\t140.5931322\n",
      "Average\t139.7215559\n",
      "Performance\t0.397215559\n",
      "Participation\t160%\n",
      "FX start\t6.4358\n",
      "FX End\t7.1043\n",
      "Redemption\t170.156027199916%\n",
      "\n",
      "Hi,\n",
      "\n",
      "Heinz was replaced with Kellogg\u2019s. Please see below details.\n",
      "\n",
      "\n",
      "ISIN\tStrike Date\tStrike\tNew Strike\tStock / Cash Replacement\tR-factor\n",
      "SE0004058253\t15-Jun-11\t53.02\t46.35776\tStock - K UN Equity\t0.874345\n",
      "\n",
      "Let me know if you need further information.\n",
      "\n",
      "Thanks,\n",
      "Catrin Jellne \n",
      "\"\"\"\n",
      "\n"
     ],
     "language": "python",
     "metadata": {},
     "outputs": []
    }
   ],
   "metadata": {}
  }
 ]
}