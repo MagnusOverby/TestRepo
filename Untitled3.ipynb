{
 "metadata": {
  "name": "",
  "signature": "sha256:eaeb76c2f048fc38faa022f7355df87aca928945443fe592686acb044872cecb"
 },
 "nbformat": 3,
 "nbformat_minor": 0,
 "worksheets": []
}