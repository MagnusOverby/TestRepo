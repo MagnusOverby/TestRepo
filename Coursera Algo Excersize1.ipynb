{
 "metadata": {
  "name": "",
  "signature": "sha256:1dc428cdf7884751b48ff6c56a4ff5689b770c77afbe567f1347665c3e06a4ed"
 },
 "nbformat": 3,
 "nbformat_minor": 0,
 "worksheets": [
  {
   "cells": [
    {
     "cell_type": "code",
     "collapsed": false,
     "input": [
      "import pandas as pd\n",
      "import numpy as np\n",
      "import scipy as sp\n",
      "import random"
     ],
     "language": "python",
     "metadata": {},
     "outputs": [],
     "prompt_number": 2
    },
    {
     "cell_type": "code",
     "collapsed": false,
     "input": [
      "#divide and conquering paradigm\n",
      "array = range(1,100)\n",
      "b = random.shuffle(array)"
     ],
     "language": "python",
     "metadata": {},
     "outputs": [],
     "prompt_number": 2
    },
    {
     "cell_type": "code",
     "collapsed": false,
     "input": [
      "integers = pd.read_csv(\"/home/magnus/Downloads/IntegerArray.txt\")"
     ],
     "language": "python",
     "metadata": {},
     "outputs": [],
     "prompt_number": 3
    },
    {
     "cell_type": "code",
     "collapsed": false,
     "input": [
      "def CountCrossings(inArray,n):\n",
      "    if n == 1:\n",
      "        return 0\n",
      "    else if n > 2:\n",
      "        \n",
      "        \n",
      "        \n",
      "        \n",
      "        \n",
      "        (a,x) = CountCrossings(inArray[0:n/2])\n",
      "        (b,y) = CountCrossings(inArray[n/2:])\n",
      "        (c,z) = CountSplitInv(inArray,n)\n",
      "    return x+y+z\n",
      "        "
     ],
     "language": "python",
     "metadata": {},
     "outputs": [
      {
       "ename": "IndentationError",
       "evalue": "expected an indented block (<ipython-input-4-2b4b5c07c9a1>, line 3)",
       "output_type": "pyerr",
       "traceback": [
        "\u001b[1;36m  File \u001b[1;32m\"<ipython-input-4-2b4b5c07c9a1>\"\u001b[1;36m, line \u001b[1;32m3\u001b[0m\n\u001b[1;33m    \u001b[0m\n\u001b[1;37m    ^\u001b[0m\n\u001b[1;31mIndentationError\u001b[0m\u001b[1;31m:\u001b[0m expected an indented block\n"
       ]
      }
     ],
     "prompt_number": 4
    },
    {
     "cell_type": "code",
     "collapsed": false,
     "input": [
      "# Should run a counter and sort \n",
      "def Swap(inArray,n):\n",
      "    \n",
      "    \n",
      "\n",
      "\n",
      "def Count(inArray,n):\n",
      "    for i in range(0,n):\n",
      "        \n"
     ],
     "language": "python",
     "metadata": {},
     "outputs": [],
     "prompt_number": 3
    },
    {
     "cell_type": "code",
     "collapsed": false,
     "input": [
      "def CountSplitInv(inArray,n):\n",
      "    \n",
      "    "
     ],
     "language": "python",
     "metadata": {},
     "outputs": [
      {
       "metadata": {},
       "output_type": "pyout",
       "prompt_number": 6,
       "text": [
        "array([2, 3, 4])"
       ]
      }
     ],
     "prompt_number": 6
    },
    {
     "cell_type": "code",
     "collapsed": false,
     "input": [
      "# Impementation of mergeSort\n",
      "\n",
      "def MergeSort(inArray,n,counter):\n",
      "    if(n <= 1):\n",
      "        return (inArray,counter)\n",
      "    else:\n",
      "        if n % 2 == 0:\n",
      "            (a,counter) = MergeSort(inArray[:n/2],n/2,counter)\n",
      "            (b,counter) = MergeSort(inArray[n/2:],n/2,counter)\n",
      "        else:\n",
      "            nMod = np.round(n/2)\n",
      "            (a,counter) = MergeSort(inArray[:nMod],nMod,counter)\n",
      "            (b,counter) = MergeSort(inArray[nMod:],nMod+1,counter)\n",
      "        (c,counter) = Merge(a,b,counter)\n",
      "    return (c,counter)\n",
      "\n",
      "\n",
      "def Merge(a,b,counterSofar):\n",
      "    \n",
      "    aMax = len(a)\n",
      "    bMax = len(b)\n",
      "    MaxIteration = aMax+bMax\n",
      "    inArray = np.zeros(MaxIteration)\n",
      "    #print MaxIteration\n",
      "    i =0\n",
      "    j = 0\n",
      "   \n",
      "    for k in range(0,MaxIteration):\n",
      "        #we need to check if we are outside of the sub arrays... say for instance that we allocated a[0] and its only 1 long\n",
      "        #Then the next element needs to be in b.\n",
      "        if i<aMax and j < bMax: \n",
      "            if a[i] < b[j]:\n",
      "                inArray[k]=a[i]\n",
      "                i=i+1\n",
      "            elif b[j] < a[i]:\n",
      "                counterSofar=counterSofar+float(aMax-i)\n",
      "                inArray[k] = b[j]\n",
      "                j=j+1\n",
      "        elif i < aMax and bMax == j:\n",
      "             inArray[k]=a[i]\n",
      "             i=i+1\n",
      "        else:    \n",
      "            inArray[k]=b[j]\n",
      "            j=j+1\n",
      "    return (inArray,counterSofar)\n"
     ],
     "language": "python",
     "metadata": {},
     "outputs": [],
     "prompt_number": 17
    },
    {
     "cell_type": "code",
     "collapsed": false,
     "input": [
      "testArr = pd.read_csv(\"/home/magnus/Downloads/IntegerArray.txt\")\n",
      "testArr = testArr.as_matrix()\n",
      "newTestArr"
     ],
     "language": "python",
     "metadata": {},
     "outputs": [
      {
       "ename": "NameError",
       "evalue": "name 'newTestArr' is not defined",
       "output_type": "pyerr",
       "traceback": [
        "\u001b[1;31m---------------------------------------------------------------------------\u001b[0m\n\u001b[1;31mNameError\u001b[0m                                 Traceback (most recent call last)",
        "\u001b[1;32m<ipython-input-5-ad9226ec2987>\u001b[0m in \u001b[0;36m<module>\u001b[1;34m()\u001b[0m\n\u001b[0;32m      1\u001b[0m \u001b[0mtestArr\u001b[0m \u001b[1;33m=\u001b[0m \u001b[0mpd\u001b[0m\u001b[1;33m.\u001b[0m\u001b[0mread_csv\u001b[0m\u001b[1;33m(\u001b[0m\u001b[1;34m\"/home/magnus/Downloads/IntegerArray.txt\"\u001b[0m\u001b[1;33m)\u001b[0m\u001b[1;33m\u001b[0m\u001b[0m\n\u001b[0;32m      2\u001b[0m \u001b[0mtestArr\u001b[0m \u001b[1;33m=\u001b[0m \u001b[0mtestArr\u001b[0m\u001b[1;33m.\u001b[0m\u001b[0mas_matrix\u001b[0m\u001b[1;33m(\u001b[0m\u001b[1;33m)\u001b[0m\u001b[1;33m\u001b[0m\u001b[0m\n\u001b[1;32m----> 3\u001b[1;33m \u001b[0mnewTestArr\u001b[0m\u001b[1;33m\u001b[0m\u001b[0m\n\u001b[0m",
        "\u001b[1;31mNameError\u001b[0m: name 'newTestArr' is not defined"
       ]
      }
     ],
     "prompt_number": 5
    },
    {
     "cell_type": "code",
     "collapsed": false,
     "input": [
      "#testArr = pd.read_csv(\"/home/magnus/Downloads/IntegerArray.txt\")\n",
      "#testArr = testArr.as_matrix()\n",
      "#testArr = [5,4,3,2,1]\n",
      "testArr = [4, 80, 70, 23, 9, 60, 68, 27, 66, 78, 12, 40, 52, 53, 44, 8, 49, 28, 18, 46, 21, 39, 51, 7, 87, 99, 69, 62, 84, 6, 79, 67, 14, 98, 83, 0, 96, 5, 82, 10, 26, 48, 3, 2, 15, 92, 11, 55, 63, 97, 43, 45, 81, 42, 95, 20, 25, 74, 24, 72, 91, 35, 86, 19, 75, 58, 71, 47, 76, 59, 64, 93, 17, 50, 56, 94, 90, 89, 32, 37, 34, 65, 1, 73, 41, 36, 57, 77, 30, 22, 13, 29, 38, 16, 88, 61, 31, 85, 33, 54 ]\n",
      "\n",
      "\n",
      "print len(testArr)\n",
      "SortedArray = MergeSort(testArr,len(testArr),0)\n",
      "SortedArray\n",
      "\n"
     ],
     "language": "python",
     "metadata": {},
     "outputs": [
      {
       "output_type": "stream",
       "stream": "stdout",
       "text": [
        "100\n"
       ]
      },
      {
       "metadata": {},
       "output_type": "pyout",
       "prompt_number": 19,
       "text": [
        "(array([  0.,   1.,   2.,   3.,   4.,   5.,   6.,   7.,   8.,   9.,  10.,\n",
        "         11.,  12.,  13.,  14.,  15.,  16.,  17.,  18.,  19.,  20.,  21.,\n",
        "         22.,  23.,  24.,  25.,  26.,  27.,  28.,  29.,  30.,  31.,  32.,\n",
        "         33.,  34.,  35.,  36.,  37.,  38.,  39.,  40.,  41.,  42.,  43.,\n",
        "         44.,  45.,  46.,  47.,  48.,  49.,  50.,  51.,  52.,  53.,  54.,\n",
        "         55.,  56.,  57.,  58.,  59.,  60.,  61.,  62.,  63.,  64.,  65.,\n",
        "         66.,  67.,  68.,  69.,  70.,  71.,  72.,  73.,  74.,  75.,  76.,\n",
        "         77.,  78.,  79.,  80.,  81.,  82.,  83.,  84.,  85.,  86.,  87.,\n",
        "         88.,  89.,  90.,  91.,  92.,  93.,  94.,  95.,  96.,  97.,  98.,\n",
        "         99.]), 2372.0)"
       ]
      }
     ],
     "prompt_number": 19
    },
    {
     "cell_type": "code",
     "collapsed": false,
     "input": [
      "testArr2 = [37, 7, 2, 14, 35, 47, 10, 24, 44, 17, 34, 11, 16, 48, 1, 39, 6, 33, 43, 26, 40, 4, 28, 5, 38, 41, 42, 12, 13, 21, 29, 18, 3, 19, 0, 32, 46, 27, 31, 25, 15, 36, 20, 8, 9, 49, 22, 23, 30, 45]\n",
      "SortedArray = MergeSort(testArr2,len(testArr2),0)\n",
      "print SortedArray"
     ],
     "language": "python",
     "metadata": {},
     "outputs": [
      {
       "output_type": "stream",
       "stream": "stdout",
       "text": [
        "(array([  0.,   1.,   2.,   3.,   4.,   5.,   6.,   7.,   8.,   9.,  10.,\n",
        "        11.,  12.,  13.,  14.,  15.,  16.,  17.,  18.,  19.,  20.,  21.,\n",
        "        22.,  23.,  24.,  25.,  26.,  27.,  28.,  29.,  30.,  31.,  32.,\n",
        "        33.,  34.,  35.,  36.,  37.,  38.,  39.,  40.,  41.,  42.,  43.,\n",
        "        44.,  45.,  46.,  47.,  48.,  49.]), 590.0)\n"
       ]
      }
     ],
     "prompt_number": 20
    },
    {
     "cell_type": "code",
     "collapsed": false,
     "input": [
      "testArr = pd.read_csv(\"/home/magnus/Downloads/IntegerArray.txt\")\n",
      "testArr = testArr.as_matrix()\n",
      "testArr = [float(x) for x in np.array(testArr)]\n",
      "MergeSort(testArr,len(testArr),0)"
     ],
     "language": "python",
     "metadata": {},
     "outputs": [
      {
       "metadata": {},
       "output_type": "pyout",
       "prompt_number": 18,
       "text": [
        "(array([  1.00000000e+00,   2.00000000e+00,   3.00000000e+00, ...,\n",
        "          9.99980000e+04,   9.99990000e+04,   1.00000000e+05]), 2407851245.0)"
       ]
      }
     ],
     "prompt_number": 18
    },
    {
     "cell_type": "code",
     "collapsed": false,
     "input": [
      "txt = open(\"/home/magnus/Downloads/IntegerArray.txt\")\n",
      "all_text = txt.read()\n",
      "lines = all_text.split('\\n')\n",
      "lines = lines[ : -1]\n",
      "numbers = []\n",
      "for line in lines:\n",
      "    numbers.append(float(line))\n",
      "testArr = np.array(numbers)\n",
      "MergeSort(testArr,len(testArr),0)"
     ],
     "language": "python",
     "metadata": {},
     "outputs": [
      {
       "metadata": {},
       "output_type": "pyout",
       "prompt_number": 21,
       "text": [
        "(array([  1.00000000e+00,   2.00000000e+00,   3.00000000e+00, ...,\n",
        "          9.99980000e+04,   9.99990000e+04,   1.00000000e+05]), 2407905288.0)"
       ]
      }
     ],
     "prompt_number": 21
    },
    {
     "cell_type": "code",
     "collapsed": false,
     "input": [
      "numbers = np.loadtxt(\"/home/magnus/Downloads/IntegerArray.txt\")\n"
     ],
     "language": "python",
     "metadata": {},
     "outputs": [
      {
       "metadata": {},
       "output_type": "pyout",
       "prompt_number": 15,
       "text": [
        "True"
       ]
      }
     ],
     "prompt_number": 15
    },
    {
     "cell_type": "code",
     "collapsed": false,
     "input": [],
     "language": "python",
     "metadata": {},
     "outputs": []
    }
   ],
   "metadata": {}
  }
 ]
}