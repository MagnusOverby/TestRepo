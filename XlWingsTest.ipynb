{
 "metadata": {
  "name": "",
  "signature": "sha256:43bf6e9218c5252f67afffe4ed495f4838ad031b6cd279bce10f0a5165701066"
 },
 "nbformat": 3,
 "nbformat_minor": 0,
 "worksheets": [
  {
   "cells": [
    {
     "cell_type": "code",
     "collapsed": false,
     "input": [
      "from xlwings import Range,Workbook\n",
      "import pandas as pd\n",
      "wb = Workbook()\n",
      "Range('A1').value =  ['Foo 1', 'Foo 2', 'Foo 3', 'Foo 4']\n",
      "Range('A2').value = [10, 20, 30, 40]"
     ],
     "language": "python",
     "metadata": {},
     "outputs": [],
     "prompt_number": 2
    },
    {
     "cell_type": "code",
     "collapsed": false,
     "input": [],
     "language": "python",
     "metadata": {},
     "outputs": [],
     "prompt_number": 15
    },
    {
     "cell_type": "code",
     "collapsed": false,
     "input": [],
     "language": "python",
     "metadata": {},
     "outputs": []
    }
   ],
   "metadata": {}
  }
 ]
}