{
 "metadata": {
  "name": "",
  "signature": "sha256:0580423d4589f3ed288ed59d994e12210e43dcb9d3bfab4cc633d723ef4bec66"
 },
 "nbformat": 3,
 "nbformat_minor": 0,
 "worksheets": [
  {
   "cells": [
    {
     "cell_type": "code",
     "collapsed": false,
     "input": [
      "import numpy as np\n",
      "import scipy as sp\n",
      "import scipy.stats as stat\n",
      "import pandas as pd"
     ],
     "language": "python",
     "metadata": {},
     "outputs": [],
     "prompt_number": 1
    },
    {
     "cell_type": "code",
     "collapsed": false,
     "input": [
      "def BS(S,K,T,r,vol,isCall):\n",
      "  d1 = 1/(np.sqrt(T)*vol)*(np.log(S/K)+(r+(vol**2)/2))\n",
      "  d2 = d1 - np.sqrt(T)*vol\n",
      "  if isCall:\n",
      "        Nd1 = stat.norm(0,1).cdf(d1)\n",
      "        Nd2 = stat.norm(0,1).cdf(d2)\n",
      "        return S*Nd1-K*np.exp(-r*T)*Nd2\n",
      "  else:\n",
      "        Nd1 = stat.norm(0,1).cdf(-d1)\n",
      "        Nd2 = stat.norm(0,1).cdf(-d2)\n",
      "        return K*np.exp(-r*T)*Nd2-S*Nd1\n",
      "\n",
      "def GetImpVol(S,K,T,r,isCall,guess,premium):\n",
      "    maxIter = 1000\n",
      "    tol = 0.0001\n",
      "    dVol = 0.00001\n",
      "    vol1 = guess\n",
      "    i =0\n",
      "    while True:\n",
      "        BS1 = BS(S,K,T,r,vol1,True)\n",
      "        vol2 = vol1+dVol\n",
      "        BS2 = BS(S,K,T,r,vol2,True)\n",
      "        dx = (BS2-BS1)/dVol\n",
      "        if dx < tol or i > maxIter:\n",
      "            break\n",
      "        else:\n",
      "         vol1 = vol1+(premium-BS1)/dx\n",
      "         i=i+1\n",
      "    return vol1"
     ],
     "language": "python",
     "metadata": {},
     "outputs": [],
     "prompt_number": 2
    },
    {
     "cell_type": "code",
     "collapsed": false,
     "input": [],
     "language": "python",
     "metadata": {},
     "outputs": [],
     "prompt_number": 2
    },
    {
     "cell_type": "code",
     "collapsed": false,
     "input": [],
     "language": "python",
     "metadata": {},
     "outputs": [],
     "prompt_number": 3
    },
    {
     "cell_type": "code",
     "collapsed": false,
     "input": [
      "#Test Implied Volatility\n",
      "S = 124.25\n",
      "K = 120\n",
      "r = 0.05\n",
      "T = 0.9\n",
      "isCall = True\n",
      "guess = 0.1\n",
      "premium = 13.40\n",
      "print GetImpVol(S,K,T,r,isCall,guess,premium)"
     ],
     "language": "python",
     "metadata": {},
     "outputs": [
      {
       "output_type": "stream",
       "stream": "stdout",
       "text": [
        "0.171054278829\n"
       ]
      }
     ],
     "prompt_number": 4
    },
    {
     "cell_type": "code",
     "collapsed": false,
     "input": [
      "#American Binomial Method with discrete dividens ? \n",
      "\n",
      "#CRR Solver.\n",
      "\n",
      "class BinoMialMethod:\n",
      "    def __init__(self,steps,r,T,vol,S):\n",
      "        self.grid = np.zeros([steps+1,steps+1])\n",
      "        self.dt = T/steps\n",
      "        self.u = np.exp(vol*np.sqrt(dt))\n",
      "        self.d = 1./u\n",
      "        self.p = (np.exp(r*dt)-d)/(u-d)\n",
      "        self.steps = steps\n",
      "        self.S = S\n",
      "    def GenerateGrid(self):\n",
      "        for i in range(1,self.steps+1,1):\n",
      "            self.grid[0,i] = self.grid[0,i-1]*self.u\n",
      "            for j in range(1,i+1):\n",
      "                self.grid[j,i] = self.grid[j-1,i-1]*self.d\n",
      "    def payoff(self,K,divs,bIsAmerican):\n",
      "        self.K=K\n",
      "        tmp = np.zeros([self.steps+1,self.steps+1])\n",
      "        #Generate payoff start with final\n",
      "        for i in range(0,int(self.steps)):\n",
      "            tmp[int(self.steps),i]=self.grid[self.steps,i]-K\n",
      "        if bIsAmerican:\n",
      "            for i in range(int(self.steps)-1,1,-1):\n",
      "                for j in range(1,i):\n",
      "                    backRed =tmp[j,i+1]*self.p+(1-self.p)*tmp[j-1,i+1]\n",
      "                    tmp[j,i] =  np.maximum(backRed,self.S-self.K)\n",
      "        self.payoff = tmp\n",
      "        return self.payoff\n",
      "        "
     ],
     "language": "python",
     "metadata": {},
     "outputs": [],
     "prompt_number": 5
    },
    {
     "cell_type": "code",
     "collapsed": false,
     "input": [
      "S = 100\n",
      "K = 100\n",
      "r = 0.0\n",
      "T = 5.0\n",
      "vol = 0.1\n",
      "steps = 3\n",
      "dt = T/steps\n",
      "u = np.exp(vol*np.sqrt(dt))\n",
      "d = 1./u\n",
      "p = (np.exp(r*dt)-d)/(u-d)\n",
      "\n",
      "grid = np.zeros([steps+1,steps+1])\n",
      "grid[0,0] = S\n",
      "#start from the end with payoffs.\n",
      "for i in range(1,steps+1,1):\n",
      "    grid[0,i] = grid[0,i-1]*u\n",
      "    for j in range(1,i+1):\n",
      "        grid[j,i] = grid[j-1,i-1]*d\n",
      "#PayOff\n",
      "payoff = np.zeros([steps+1,steps+1])\n",
      "for i in range(steps,-1,-1):\n",
      "    payoff[i,steps] = np.maximum(grid[i,steps] - K,0)\n",
      "#Traverse Backwards\n",
      "for i in range(steps-1,-1,-1):\n",
      "    for j in range(0,i):\n",
      "        backRed = payoff[j,i+1]*p+(1-p)*payoff[j-1,i+1]\n",
      "        payoff[j,i] = np.maximum(backRed,S-K)\n",
      "payoff[:,:]    "
     ],
     "language": "python",
     "metadata": {},
     "outputs": [
      {
       "metadata": {},
       "output_type": "pyout",
       "prompt_number": 6,
       "text": [
        "array([[  0.        ,  10.34955977,  22.12532269,  47.29958714],\n",
        "       [  0.        ,   0.        ,  31.62028637,  13.78032672],\n",
        "       [  0.        ,   0.        ,   0.        ,   0.        ],\n",
        "       [  0.        ,   0.        ,   0.        ,   0.        ]])"
       ]
      }
     ],
     "prompt_number": 6
    },
    {
     "cell_type": "code",
     "collapsed": false,
     "input": [
      "tst = BinoMialMethod(9.0,0.1,2,0.1,10)\n",
      "tst.payoff(K,0,True)"
     ],
     "language": "python",
     "metadata": {},
     "outputs": [
      {
       "metadata": {},
       "output_type": "pyout",
       "prompt_number": 7,
       "text": [
        "array([[   0.,    0.,    0.,    0.,    0.,    0.,    0.,    0.,    0.,\n",
        "           0.],\n",
        "       [   0.,    0.,    0.,    0.,    0.,    0.,    0.,    0.,    0.,\n",
        "           0.],\n",
        "       [   0.,    0.,    0.,    0.,    0.,    0.,    0.,    0.,    0.,\n",
        "           0.],\n",
        "       [   0.,    0.,    0.,    0.,    0.,    0.,    0.,    0.,    0.,\n",
        "           0.],\n",
        "       [   0.,    0.,    0.,    0.,    0.,    0.,    0.,    0.,    0.,\n",
        "           0.],\n",
        "       [   0.,    0.,    0.,    0.,    0.,    0.,    0.,    0.,    0.,\n",
        "           0.],\n",
        "       [   0.,    0.,    0.,    0.,    0.,    0.,    0.,    0.,    0.,\n",
        "           0.],\n",
        "       [   0.,    0.,    0.,    0.,    0.,    0.,    0.,    0.,    0.,\n",
        "           0.],\n",
        "       [   0.,    0.,    0.,    0.,    0.,    0.,    0.,    0.,    0.,\n",
        "           0.],\n",
        "       [-100., -100., -100., -100., -100., -100., -100., -100., -100.,\n",
        "           0.]])"
       ]
      }
     ],
     "prompt_number": 7
    },
    {
     "cell_type": "code",
     "collapsed": false,
     "input": [
      "grid[:,steps]"
     ],
     "language": "python",
     "metadata": {},
     "outputs": [
      {
       "metadata": {},
       "output_type": "pyout",
       "prompt_number": 8,
       "text": [
        "array([ 147.29958714,  113.78032672,   87.88865604,   67.88885288])"
       ]
      }
     ],
     "prompt_number": 8
    },
    {
     "cell_type": "code",
     "collapsed": false,
     "input": [],
     "language": "python",
     "metadata": {},
     "outputs": [],
     "prompt_number": 8
    }
   ],
   "metadata": {}
  }
 ]
}