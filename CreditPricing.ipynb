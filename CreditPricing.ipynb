{
 "metadata": {
  "name": "",
  "signature": "sha256:66cb989e3a75d3b829bede95cd9f70172a0afaf9faf414c37d972a9de2c6489a"
 },
 "nbformat": 3,
 "nbformat_minor": 0,
 "worksheets": [
  {
   "cells": [
    {
     "cell_type": "code",
     "collapsed": false,
     "input": [
      "%matplotlib inline\n",
      "import pandas as pd\n",
      "import numpy as np\n",
      "from scipy.stats import norm\n",
      "from scipy.stats import cumfreq\n",
      "import re\n",
      "import six\n",
      "import matplotlib.pyplot as plt"
     ],
     "language": "python",
     "metadata": {},
     "outputs": [],
     "prompt_number": 1
    },
    {
     "cell_type": "code",
     "collapsed": false,
     "input": [
      "def countSimilarChar(s1,s2):\n",
      "    runningSum = 0\n",
      "    lMin = np.min([len(s1),len(s2)])\n",
      "    for i in range(0,lMin):\n",
      "            if s1[i] == s2[i]:\n",
      "                runningSum+=1\n",
      "    return runningSum\n",
      "#============================\n",
      "#   Correlation Calculation\n",
      "#============================\n",
      "def correlation(DP,s):\n",
      "  return 0.12*(1-np.exp(-50*DP))/(1-np.exp(-50))+0.24*(1-(1-np.exp(-50*DP))/(1-np.exp(-50)))-0.04*(1-(s-5)/45)\n",
      "#===========================\n",
      "#   Find Default Time / return 999999 if no default occured\n",
      "#===========================\n",
      "\"\"\"\n",
      "def FindDefaultTime(dummy,yMax,j,lookupTable):\n",
      "\n",
      "          if dummy < lookupTable[i,j]:\n",
      "              return  (lookupTable[i,j]-dummy)/(lookupTable[i,j] - lookupTable[i-1,j])+ i-1\n",
      "        except:\n",
      "            return yMax\n",
      "    return yMax\n",
      "\"\"\"\n",
      "#=================================================\n",
      "# Compute the time to Default if default occurred\n",
      "#=================================================\n",
      "def TimeToDefault(df1,df2,d):\n",
      "    return (d-df1)/(df2-df1)\n",
      "#=================================================\n",
      "#                  Option functions\n",
      "#=================================================\n",
      "def BS(S,K,T,r,vol,isCall):\n",
      "  d1 = 1/(np.sqrt(T)*vol)*(np.log(S/K)+(r+(vol**2)/2))\n",
      "  d2 = d1 - np.sqrt(T)*vol\n",
      "  if isCall:\n",
      "        Nd1 = norm(0,1).cdf(d1)\n",
      "        Nd2 = norm(0,1).cdf(d2)\n",
      "        return S*Nd1-K*np.exp(-r*T)*Nd2\n",
      "  else:\n",
      "        Nd1 = norm(0,1).cdf(-d1)\n",
      "        Nd2 = norm(0,1).cdf(-d2)\n",
      "        return K*np.exp(-r*T)*Nd2-S*Nd1\n",
      "\n",
      "def GetImpVol(S,K,T,r,isCall,guess,premium):\n",
      "    maxIter = 1000\n",
      "    tol = 0.0001\n",
      "    dVol = 0.00001\n",
      "    vol1 = guess\n",
      "    i =0\n",
      "    while True:\n",
      "        BS1 = BS(S,K,T,r,vol1,True)\n",
      "        vol2 = vol1+dVol\n",
      "        BS2 = BS(S,K,T,r,vol2,True)\n",
      "        dx = (BS2-BS1)/dVol\n",
      "        if dx < tol or i > maxIter:\n",
      "            break\n",
      "        else:\n",
      "         vol1 = vol1+(premium-BS1)/dx\n",
      "         i=i+1\n",
      "    return vol1"
     ],
     "language": "python",
     "metadata": {},
     "outputs": [],
     "prompt_number": 2
    },
    {
     "cell_type": "code",
     "collapsed": false,
     "input": [
      "pathMats = 'C:\\\\Users\\\\magover\\\\Desktop\\\\CDSData\\\\xover 23.xlsx'\n",
      "pathTranslation = 'C:\\\\Users\\\\magover\\\\Desktop\\\\CDSData\\\\translationMatrix.xlsx'\n",
      "pathBond = 'C:\\\\Users\\\\magover\\\\Desktop\\\\CDSData\\\\XoverBond.xlsx'\n",
      "pathDef = 'C:\\\\Users\\\\magover\\\\Desktop\\\\CDSData\\\\CumulativeDefault.xlsx'\n",
      "dfBloomberg = pd.read_excel(pathMats,'Sheet1')\n",
      "dfTranslation = pd.read_excel(pathTranslation,'Sheet1')\n",
      "dfBond = pd.read_excel(pathBond,'Sheet1')\n",
      "dfCumDefault = pd.read_excel(pathDef,'Sheet1')"
     ],
     "language": "python",
     "metadata": {},
     "outputs": [],
     "prompt_number": 3
    },
    {
     "cell_type": "code",
     "collapsed": false,
     "input": [
      "# Translate to Moodys ratings and map to the default table.\n",
      "#Start with the BondData\n",
      "mBond =  dfBond.as_matrix()\n",
      "rows = []\n",
      "for i in range(0,len(mBond)):\n",
      "    col = []\n",
      "    col.append(mBond[i,0])\n",
      "    if mBond[i,3] <> '--' and mBond[i,3] <> 'WR':\n",
      "        col.append(mBond[i,3])\n",
      "        col.append('Moody')\n",
      "    elif mBond[i,2] <> '--' and  not 'NR' in  mBond[i,2]:\n",
      "        col.append(mBond[i,2])\n",
      "        col.append('SnP')\n",
      "    elif mBond[i,4] <> '--' and mBond[i,4] <> 'WD':\n",
      "        col.append(mBond[i,4])\n",
      "        col.append('Fitch')\n",
      "    else:\n",
      "        col.append('nan')\n",
      "        col.append('missing')      \n",
      "    rows.append(col)"
     ],
     "language": "python",
     "metadata": {},
     "outputs": [],
     "prompt_number": 4
    },
    {
     "cell_type": "code",
     "collapsed": false,
     "input": [
      "print rows\n",
      "#now use all the data from the bloomberg file.\n",
      "mBloomy = dfBloomberg.as_matrix()[2:]\n",
      "BloomyNames =  dfBloomberg['Xover s.23'].as_matrix()[2:]\n",
      "BloomyRating = dfBloomberg.ix[2:,8:10].as_matrix()\n",
      "#print BloomyNames[0]\n",
      "#Fix overlapp function here...\n",
      "for i in range(0,len(BloomyNames)):\n",
      "    tmpOverLap = 0\n",
      "    maxOverLap = 0\n",
      "    jFound = 0\n",
      "    for j in range(0,len(rows)):\n",
      "        if len(BloomyNames[i])> len(rows[j][0]):\n",
      "            tmpOverLap = countSimilarChar(BloomyNames[i],rows[j][0])\n",
      "        else:\n",
      "            tmpOverLap = countSimilarChar(rows[j][0],BloomyNames[i])\n",
      "            \n",
      "        if tmpOverLap >= maxOverLap:\n",
      "            maxOverLap = tmpOverLap\n",
      "            jFound = j     \n",
      "    #print BloomyNames[i]\n",
      "    #print rows[jFound][0]\n",
      "    #Take Long term rating    \n",
      "    if rows[jFound][1] == 'nan':\n",
      "        if BloomyRating[i,1] <> '#N/A N/A' and not 'WR' in BloomyRating[i,1]:\n",
      "            rows[jFound][1] = BloomyRating[i,1]\n",
      "            rows[jFound][2] = 'Moody'\n",
      "        elif BloomyRating[i,0] <> '#N/A N/A' and not 'NR' in BloomyRating[i,0]:\n",
      "            rows[jFound][1] = BloomyRating[i,0]\n",
      "            rows[jFound][2] = 'SnP'"
     ],
     "language": "python",
     "metadata": {},
     "outputs": [
      {
       "output_type": "stream",
       "stream": "stdout",
       "text": [
        "[[u'Abengoa', u'B2', 'Moody'], [u'Alcatel Lucent', u'Caa1', 'Moody'], [u'Altice Finco', u'B3', 'Moody'], [u'ArcelorMittal', u'Ba1', 'Moody'], [u'Ardagh Packaging', u'Caa1', 'Moody'], [u'Astaldi SpA', u'B1', 'Moody'], [u'Beni Stabili', 'nan', 'missing'], [u'Boparan Finance', u'B2', 'Moody'], [u'British Airways', u'Ba3', 'Moody'], [u'Cable & Wirels', u'B1', 'Moody'], [u'Care UK Social', u'Caa2', 'Moody'], [u'Cerved Group', u'B2', 'Moody'], [u'Clariant', u'Ba1', 'Moody'], [u'CNH Industrial', u'Ba2', 'Moody'], [u'ConvaTec Hltcr E', u'B3', 'Moody'], [u'Dry Mix Solution', u'B2', 'Moody'], [u'EDP', u'BB+', 'SnP'], [u'Eileme 2', u'B2', 'Moody'], [u'Fiat Chrysler', u'B2', 'Moody'], [u'Financiere Quick', u'Caa2', 'Moody'], [u'Finmeccanica', u'Ba1', 'Moody'], [u'Galapagos Hld', u'Caa1', 'Moody'], [u'Galp Energia', 'nan', 'missing'], [u'Hema BondCo I', u'B1', 'Moody'], [u'Hochtief', 'nan', 'missing'], [u'Iceland Bondco', u'B2', 'Moody'], [u'INEOS Group Hldg', u'B3', 'Moody'], [u'Isolux Cors', u'B2', 'Moody'], [u'Jaguar Lnd Rover', u'Ba2', 'Moody'], [u'Ladbrokes', u'Ba2', 'Moody'], [u'Lock Lower', u'Caa1', 'Moody'], [u'Louis Dryfs Com', u'BBB-', 'SnP'], [u'Loxam', u'B2', 'Moody'], [u'Lufthansa', u'Ba1', 'Moody'], [u'Matalan Finance', u'Caa2', 'Moody'], [u'Melia Hotels', 'nan', 'missing'], [u'Metsa Board', u'B1', 'Moody'], [u'Monitchem Hco 3', u'B2', 'Moody'], [u'NEW LOOK BD I', u'B1', 'Moody'], [u'Nokia', u'B1', 'Moody'], [u'Norske Skogsind', u'Caa3', 'Moody'], [u'Novafives', u'B1', 'Moody'], [u'Numericable SFR', u'Ba3', 'Moody'], [u'NXP', u'Ba3', 'Moody'], [u'OTE Telecom', u'B3', 'Moody'], [u'Peugeot', u'Ba3', 'Moody'], [u'Pizzaexpress Fin', u'Caa1', 'Moody'], [u'Play Finance 1', u'B2', 'Moody'], [u'Premier Foods UK', u'B2', 'Moody'], [u'PT Telecom Intl', u'Ba2', 'Moody'], [u'R&R Ice Cream', u'B2', 'Moody'], [u'Rallye', 'nan', 'missing'], [u'Rexel', u'Ba3', 'Moody'], [u'Sainsbury', u'Ba1', 'Moody'], [u'Schaeffler Fin', u'B1', 'Moody'], [u'Selecta Group', u'B2', 'Moody'], [u'Smrfit Kpa Acqus', u'Ba1', 'Moody'], [u'Stena', u'B2', 'Moody'], [u'Stonegate Pub co', u'B2', 'Moody'], [u'Stora Enso', u'Ba2', 'Moody'], [u'Sunrise Com Hldg', u'BB+', 'SnP'], [u'Techem', u'Ba3', 'Moody'], [u'Telecom IT', u'Ba1', 'Moody'], [u'Tesco', u'Ba1', 'Moody'], [u'ThyssenKrupp', u'Ba1', 'Moody'], [u'Trionista HoldCo', u'B1', 'Moody'], [u'Tui AG', u'Ba3', 'Moody'], [u'TVN Finance III', u'B1', 'Moody'], [u'Unilabs', u'B3', 'Moody'], [u'Unitymedia GmbH', u'BB-', 'SnP'], [u'UPC Holding', u'B2', 'Moody'], [u'Virgin Media Fin', u'B2', 'Moody'], [u'Vougeot Bidco', u'B2', 'Moody'], [u'Wnd Acqustn Fin', u'Caa1', 'Moody'], [u'Ziggo Bond Fin', u'B2', 'Moody']]\n"
       ]
      }
     ],
     "prompt_number": 5
    },
    {
     "cell_type": "code",
     "collapsed": false,
     "input": [
      "SnP = dfTranslation.ix[1:,2:3].as_matrix()\n",
      "Fitch = dfTranslation.ix[1:,4:5].as_matrix()\n",
      "Moody = dfTranslation.ix[1:,0:1].as_matrix()\n",
      "newSet = rows\n",
      "for x in range(0,len(rows)):\n",
      "   if rows[x][2] == 'SnP':\n",
      "        i = [y for y in range(0,len(SnP)) if SnP[y] == newSet[x][1]][0]\n",
      "        newSet[x].append(23-i)\n",
      "        newSet[x][1] = Moody[i,0]\n",
      "        newSet[x][2] = 'Moody'\n",
      "   elif newSet[x][2] =='Fitch':\n",
      "        i = [y for y in range(0,len(Fitch)) if Fitch[y] == newSet[x][1]][0]\n",
      "        newSet[x].append(23-i)\n",
      "        newSet[x][1] = Moody[i,0]\n",
      "        newSet[x][2] = 'Moody'\n",
      "   elif newSet[x][2] =='Moody':\n",
      "        i = [y for y in range(0,len(Moody)) if Moody[y] == newSet[x][1]][0]\n",
      "        newSet[x].append(23-i)\n",
      "   else:\n",
      "        newSet[x].append(np.nan)\n",
      "    "
     ],
     "language": "python",
     "metadata": {},
     "outputs": [],
     "prompt_number": 6
    },
    {
     "cell_type": "code",
     "collapsed": false,
     "input": [
      "#i = [y for y in range(0,len(Moody)) if Moody[y] == newSet[x][1]][0]\n",
      "#len(Moody)\n",
      "newSet[x]"
     ],
     "language": "python",
     "metadata": {},
     "outputs": [
      {
       "metadata": {},
       "output_type": "pyout",
       "prompt_number": 7,
       "text": [
        "[u'Ziggo Bond Fin', u'B2', 'Moody', 9]"
       ]
      }
     ],
     "prompt_number": 7
    },
    {
     "cell_type": "code",
     "collapsed": false,
     "input": [
      "df = pd.DataFrame(newSet,columns=['Nmn','Rating','Agency','Score'])\n",
      "#===============Write this to excel===================#\n",
      "writePath = 'C:\\\\Users\\\\magover\\\\Desktop\\\\CDSData\\\\FinDataSet.csv'\n",
      "writePath1 = 'C:\\\\Users\\\\magover\\\\Desktop\\\\CDSData\\\\Assignment1.csv'\n",
      "writePath2 = 'C:\\\\Users\\\\magover\\\\Desktop\\\\CDSData\\\\Assignment2.csv'\n",
      "df.to_csv(writePath,sep=';')"
     ],
     "language": "python",
     "metadata": {},
     "outputs": [],
     "prompt_number": 8
    },
    {
     "cell_type": "code",
     "collapsed": false,
     "input": [
      "#try to find industry + spread and match with Bloomy !\n",
      "\n",
      "mDf = df\n",
      "medScore = np.mean(mDf.Score)\n",
      "iMed =  np.round(medScore,0)\n",
      "#tmpScore = replaceNan(mDf.Score,iMed)\n",
      "#tmpRating = replaceNan(mDf.Rating,Moody[iMed,0])\n",
      "mDf = mDf.fillna(value=iMed)\n",
      "mDf.Rating = mDf.Rating.replace('nan',Moody[iMed,0])\n",
      "mDf.to_csv(writePath,sep=';')\n",
      "d= mDf.groupby('Rating')\n",
      "refs = d['Nmn'].count()\n",
      "refs.to_csv(writePath2,sep=';')\n",
      "allRating = np.array(refs.index).astype(str)\n",
      "lookupTable = dfCumDefault.T[allRating].as_matrix()\n",
      "#=================================================#\n",
      "#         Done defining the variables\n",
      "#=================================================#"
     ],
     "language": "python",
     "metadata": {},
     "outputs": [],
     "prompt_number": 9
    },
    {
     "cell_type": "code",
     "collapsed": false,
     "input": [
      "#=================================#\n",
      "#          Assignemnt 1\n",
      "#=================================#\n",
      "DF =  dfCumDefault.T[refs.index].T[1]/100\n",
      "DF.to_csv(writePath1,sep=';')\n",
      "Rassigment1 =  [correlation(x,50) for x in DF]\n",
      "pd.DataFrame(Rassigment1).to_clipboard()\n",
      "#=================================#\n",
      "#         Compute Correlation\n",
      "#=================================#\n",
      "ratings = np.array(mDf.Rating)\n",
      "def getCorrel(ratings,dfCumDefault,year):\n",
      "    iMax = len(ratings)\n",
      "    R = np.zeros([iMax,year])\n",
      "    for j in range(0,year):\n",
      "        for i in range(0,iMax):\n",
      "            DP = dfCumDefault.T[ratings[i]].T[j+1]/100\n",
      "            R[i,j] = correlation(DP,50)\n",
      "    return R\n",
      "#==================================#\n",
      "#          Stena AB \n",
      "#==================================#\n",
      "Stena = np.array(['Ba3'])"
     ],
     "language": "python",
     "metadata": {},
     "outputs": [],
     "prompt_number": 10
    },
    {
     "cell_type": "code",
     "collapsed": false,
     "input": [
      "# Estimating defaults probabilities\n",
      "# ===== Single Factor Copula model ======#\n",
      "def CopulaDefaultTime(rating,dfCumDefault,Steps,tenor):\n",
      "    nrOfEntities = len(rating)\n",
      "    DeFaultTimes = np.zeros([Steps,nrOfEntities,tenor]) #this will only bring notional.\n",
      "    #Recovery =\n",
      "    PDt = np.zeros([nrOfEntities,tenor+1])\n",
      "    PDt[:,1:] = dfCumDefault.T[rating].T[range(1,tenor+1)].as_matrix()\n",
      "    R = np.array(getCorrel(rating,dfCumDefault,1)) #try to make this line more efficient get correl function is terrible!\n",
      "    #print R\n",
      "    #  for i in range(0,iMax):\n",
      "     #   X[i,:] = np.sqrt(Rmod)*M[i]+np.sqrt(1-Rmod)*Z[:,i]\n",
      "#================================================================#\n",
      "#now map these to a normal distributin and determine defaults\n",
      "#\n",
      "#           loop for steps -> year -> Refentities\n",
      "#\n",
      "#===============================================================#\n",
      "    for i in range(0,Steps):          \n",
      "        M = np.random.randn(1)\n",
      "        Z = np.array(np.random.randn(nrOfEntities))\n",
      "        X =[a*np.sqrt(1-b) for a,b in zip(Z,R)]+M*np.sqrt(R)\n",
      "        D = norm.cdf(X)*100\n",
      "        for j in range(0,nrOfEntities):\n",
      "            for k in range(0,tenor):\n",
      "                if D[j] < PDt[j,k+1]:     \n",
      "                    DeFaultTimes[i,j,k] = (D[j] - PDt[j,k]) / (PDt[j,k+1]-PDt[j,k])\n",
      "                    break\n",
      "                else:\n",
      "                    DeFaultTimes[i,j,k] = 1\n",
      "    return DeFaultTimes\n",
      "#==============================================================#\n",
      "    #return D\n",
      "\n",
      "print CopulaDefaultTime(ratings,dfCumDefault,10,5) "
     ],
     "language": "python",
     "metadata": {},
     "outputs": [
      {
       "output_type": "stream",
       "stream": "stdout",
       "text": [
        "[[[ 1.          1.          1.          1.          1.        ]\n",
        "  [ 1.          1.          0.08954032  0.          0.        ]\n",
        "  [ 1.          1.          1.          1.          1.        ]\n",
        "  ..., \n",
        "  [ 1.          1.          1.          1.          1.        ]\n",
        "  [ 1.          1.          1.          1.          1.        ]\n",
        "  [ 1.          1.          1.          1.          1.        ]]\n",
        "\n",
        " [[ 1.          1.          1.          1.          1.        ]\n",
        "  [ 1.          1.          0.02161635  0.          0.        ]\n",
        "  [ 1.          1.          1.          1.          0.98655462]\n",
        "  ..., \n",
        "  [ 1.          1.          1.          1.          1.        ]\n",
        "  [ 1.          1.          1.          1.          0.69986227]\n",
        "  [ 1.          1.          1.          1.          0.21265595]]\n",
        "\n",
        " [[ 1.          1.          1.          1.          1.        ]\n",
        "  [ 1.          1.          1.          1.          1.        ]\n",
        "  [ 1.          1.          1.          1.          1.        ]\n",
        "  ..., \n",
        "  [ 1.          1.          1.          1.          1.        ]\n",
        "  [ 1.          1.          1.          1.          1.        ]\n",
        "  [ 1.          0.61306647  0.          0.          0.        ]]\n",
        "\n",
        " ..., \n",
        " [[ 1.          1.          1.          1.          1.        ]\n",
        "  [ 1.          0.42409943  0.          0.          0.        ]\n",
        "  [ 1.          1.          1.          1.          0.38602597]\n",
        "  ..., \n",
        "  [ 1.          1.          1.          1.          1.        ]\n",
        "  [ 1.          0.30680934  0.          0.          0.        ]\n",
        "  [ 1.          1.          1.          1.          1.        ]]\n",
        "\n",
        " [[ 1.          1.          1.          1.          1.        ]\n",
        "  [ 1.          1.          1.          1.          1.        ]\n",
        "  [ 1.          1.          1.          1.          1.        ]\n",
        "  ..., \n",
        "  [ 1.          1.          1.          1.          1.        ]\n",
        "  [ 1.          1.          1.          1.          1.        ]\n",
        "  [ 1.          1.          1.          1.          1.        ]]\n",
        "\n",
        " [[ 1.          1.          1.          1.          1.        ]\n",
        "  [ 1.          1.          1.          1.          0.41370943]\n",
        "  [ 1.          1.          1.          0.65952028  0.        ]\n",
        "  ..., \n",
        "  [ 1.          1.          1.          1.          1.        ]\n",
        "  [ 1.          1.          1.          0.67213065  0.        ]\n",
        "  [ 1.          1.          1.          1.          1.        ]]]\n"
       ]
      }
     ],
     "prompt_number": 11
    },
    {
     "cell_type": "code",
     "collapsed": false,
     "input": [
      "#===================================================================#\n",
      "# Bond PayOff -> returns average downsdide \n",
      "#===================================================================#\n",
      "#    Calculating Payoff From a bond !\n",
      "#\n",
      "#\n",
      "#    Dftimes -> Steps , NrofEntities , tenor and contain default times. 1 if it survived the period and 0.xx if it defaulted\n",
      "#    and 0 if its dead.\n",
      "#    coupon -> scalar contains coupon\n",
      "#    attachment -> number of default protected from\n",
      "#    detachment -> number of defaults til you are wiped out\n",
      "#===================================================================#\n",
      "def payOff(DeFaultTimes,coupon,attachment,detachment,RR):\n",
      "    StepsMax = len(DeFaultTimes[:,0,0])\n",
      "    RefMax = len(DeFaultTimes[0,:,0])\n",
      "    tenorMax = len(DeFaultTimes[0,0,:])\n",
      "    PayOff = np.zeros(StepsMax)\n",
      "    nrEvents = 0\n",
      "    for i in range(0,StepsMax):\n",
      "        Pay =0\n",
      "        AdjNom = 1\n",
      "        for j in range(0,tenorMax):\n",
      "            nrDefaults = sum([1 for x in DeFaultTimes[i,:,j] if x < 1])\n",
      "            if nrDefaults >= attachment and nrDefaults < detachment:\n",
      "                AdjNom = (detachment-nrDefaults)/(detachment-attachment) \n",
      "            elif nrDefaults > detachment or RefMax == nrDefaults:\n",
      "                AdjNom = 0 \n",
      "            Pay += AdjNom*coupon\n",
      "        #print AdjNom\n",
      "        Pay += AdjNom+RR*min(detachment,nrDefaults)\n",
      "        PayOff[i] = Pay\n",
      "    return PayOff"
     ],
     "language": "python",
     "metadata": {},
     "outputs": [],
     "prompt_number": 12
    },
    {
     "cell_type": "code",
     "collapsed": false,
     "input": [
      "def getCreditReturn(PayoffVector,IssuePrice):\n",
      "    return (PayoffVector-IssuePrice)/IssuePrice\n",
      "\n",
      "\n",
      "def generateOutPuts(Payoff,tenor):\n",
      "   # We should maybe move this\n",
      "    avgDownside = np.sum([abs((x)) for x in Payoff if x <0])/len(Payoff)*100\n",
      "    downVol = GetImpVol(100,100,tenor,0,False,0.05,avgDownside)\n",
      "    Var99 = np.percentile(Payoff,0.99)\n",
      "    VarVol = (np.sqrt(2.7059-np.log(1+Var99))-1.6449)/(np.sqrt(tenor/2))\n",
      "    return (avgDownside,downVol,Var99,VarVol)"
     ],
     "language": "python",
     "metadata": {},
     "outputs": [],
     "prompt_number": 13
    },
    {
     "cell_type": "code",
     "collapsed": false,
     "input": [
      "# Product B\n",
      "def TestStena():\n",
      "    Stena = np.array(['Ba3'])\n",
      "    RR =0.35\n",
      "    coupon = 0.05\n",
      "    tenor = 5\n",
      "    attachment = 0.0\n",
      "    detachment = 1.0\n",
      "    steps = 1000\n",
      "    DeFaultTimes = CopulaDefaultTime(Stena,dfCumDefault,steps,tenor)\n",
      "    CreditPayoff = getCreditReturn(payOff(DeFaultTimes,coupon,attachment,detachment,RR),1)\n",
      "    return generateOutPuts(CreditPayoff,tenor)\n",
      "TestStena()"
     ],
     "language": "python",
     "metadata": {},
     "outputs": [
      {
       "metadata": {},
       "output_type": "pyout",
       "prompt_number": 14,
       "text": [
        "(8.5749999999999957,\n",
        " 0.096672095118540607,\n",
        " -0.65000000000000002,\n",
        " 0.20723076338296625)"
       ]
      }
     ],
     "prompt_number": 14
    },
    {
     "cell_type": "code",
     "collapsed": false,
     "input": [
      "#Product A \n",
      "def TestAssignment1(inRatings):\n",
      "    RR =0.0\n",
      "    coupon = 0.06\n",
      "    tenor = 7\n",
      "    attachment = 0.0\n",
      "    detachment = 75.0\n",
      "    steps = 10000\n",
      "    DeFaultTimes = CopulaDefaultTime(inRatings,dfCumDefault,steps,tenor)\n",
      "    CreditPayoff = payOff(DeFaultTimes,coupon,attachment,detachment,RR)\n",
      "    PayOff = getCreditReturn(CreditPayoff,1.0)\n",
      "    return generateOutPuts(PayOff,tenor)\n",
      "TestAssignment1(ratings)"
     ],
     "language": "python",
     "metadata": {},
     "outputs": [
      {
       "metadata": {},
       "output_type": "pyout",
       "prompt_number": 15,
       "text": [
        "(3.5436400000000083,\n",
        " 0.033608467670840768,\n",
        " -0.37626930666666675,\n",
        " 0.07954547446416807)"
       ]
      }
     ],
     "prompt_number": 15
    },
    {
     "cell_type": "code",
     "collapsed": false,
     "input": [
      "#====================================== EQUITY MONTECARLO ================================\n",
      "# First simulate the part before aisaning in one go then attach the asianing simulations\n",
      "#=========================================================================================\n",
      "# Make this a separate MC Step Function\n",
      "\n",
      "def MCstep(sigma,mu,corr,timestep,steps,nrSec):\n",
      "    Ns = np.array(np.random.randn(nrSec,steps)).T\n",
      "    chol = np.linalg.cholesky(corr)\n",
      "    AdjNorm = np.inner(Ns,chol)\n",
      "    driftS = np.array(mu - (sigma*sigma)/2)\n",
      "    enlrg = np.ones([steps,nrSec])\n",
      "    driftL = enlrg*driftS*timestep\n",
      "    stoc = sigma*Ns*np.sqrt(timestep)\n",
      "    return stoc+driftL\n",
      "def StockDist(stocDrift):\n",
      "    return np.exp(stocDrift)\n",
      "#==============================================================================#\n",
      "#          Define & construct the output vector Equity Part Product 3\n",
      "#\n",
      "#==============================================================================#\n",
      "def EqPart3(steps,nrSec,asianSteps,Strike,mu,sigma,corr,tenor):\n",
      "    Strike = np.ones([steps,nrSec-1])*Strike\n",
      "    Stocks = np.zeros([steps,nrSec-1,asianSteps+2])\n",
      "    Stocks[:,:,0] = Strike\n",
      "    FX = np.ones([steps])\n",
      "    #1 long step v\n",
      "    Sims = MCstep(sigma,mu,corr,tenor-asianSteps/12.0,steps,nrSec)\n",
      "    Stocks[:,:,1] = StockDist(Sims[:,:-1])\n",
      "    FX = StockDist(Sims[:,nrSec-1])\n",
      "    # loop 12 asian steps\n",
      "    for i in range(0,asianSteps):\n",
      "        Sims = MCstep(sigma,mu,corr,1.0/12.0,steps,nrSec)\n",
      "        Stocks[:,:,i+2] = Stocks[:,:,i+1]*StockDist(Sims[:,:-1])\n",
      "        FX = FX * StockDist(Sims[:,nrSec-1])\n",
      "#========================================================================#\n",
      "#               Compute the payoff vector\n",
      "#========================================================================#\n",
      "#    print Stocks\n",
      "    basket = np.zeros([steps,asianSteps+1])\n",
      "    payoff = np.zeros(steps)\n",
      "    w = [0.2,0.2,0.2,0.2,0.2]\n",
      "    for i in range(0,steps):\n",
      "        for j in range(0,asianSteps+1):\n",
      "            basket[i,j] = np.average(Stocks[i,:,j+1])\n",
      "        payoff[i] = max(np.average(basket[i,:])-1,0)*FX[i]\n",
      "    return payoff"
     ],
     "language": "python",
     "metadata": {},
     "outputs": [],
     "prompt_number": 16
    },
    {
     "cell_type": "code",
     "collapsed": false,
     "input": [
      "path = \"C:\\Users\\magover\\Desktop\\CDSData\\EquityTimeSeries.xlsx\"\n",
      "dfEquity = pd.read_excel(path,'Sheet1',index_col=0)\n",
      "dfEquity = dfEquity.sort(ascending=0)[:'2015-04-28']\n",
      "pathC = \"C:\\Users\\magover\\Desktop\\CDSData\\correlation.xlsx\"\n",
      "dfCorr = pd.read_excel(pathC)\n",
      "corr = dfCorr.as_matrix()\n",
      "#===================================================#\n",
      "#           Compute Standard Deviation\n",
      "#===================================================#\n",
      "rets = dfEquity.pct_change()\n",
      "sigma = rets.std()*np.sqrt(52) \n",
      "mu  = [0,0,0,0,0,0]\n",
      "#===================================================#\n",
      "#                Correlations\n",
      "#===================================================#\n",
      "corr = rets.corr()\n",
      "#===================================================#\n",
      "#                 Simulating \n",
      "#===================================================#\n",
      "corr = corr.as_matrix()\n",
      "#print EquityCorr\n",
      "#manually define equity correlation\n",
      "sigma = np.array([0.2577,0.2199,0.4517,0.6037,0.4528,0.1067])\n",
      "#corr = np.array([[1.0,0.36537,0.2476,0.1677,0.1827],[0.3471,1.0,0.3713,0.1348,0.3645],[0.2476,0.3713,1.0,0.3203,0.3016],[0.1677,0.1348,0.3203,1.0,0.6031],[0.1827,0.3645,0.3016,0.6031,1.0]])\n",
      "#sigma = sigma.as_matrix()\n",
      "mu = mu\n",
      "print corr"
     ],
     "language": "python",
     "metadata": {},
     "outputs": [
      {
       "output_type": "stream",
       "stream": "stdout",
       "text": [
        "[[ 1.          0.3775999   0.17161011  0.00564725  0.16140692 -0.03917551]\n",
        " [ 0.3775999   1.          0.50257268  0.03168593  0.33741148 -0.31894748]\n",
        " [ 0.17161011  0.50257268  1.          0.41549307  0.2983136  -0.1003607 ]\n",
        " [ 0.00564725  0.03168593  0.41549307  1.          0.38761437 -0.08057937]\n",
        " [ 0.16140692  0.33741148  0.2983136   0.38761437  1.         -0.08940131]\n",
        " [-0.03917551 -0.31894748 -0.1003607  -0.08057937 -0.08940131  1.        ]]\n"
       ]
      }
     ],
     "prompt_number": 17
    },
    {
     "cell_type": "code",
     "collapsed": false,
     "input": [
      "#=================================================#\n",
      "#                Product number C\n",
      "#=================================================#\n",
      "def TestAssignmentC(inRatings):\n",
      "    RR =0.0\n",
      "    coupon = 0.00\n",
      "    tenor = 7\n",
      "    attachment = 9.0\n",
      "    detachment = 75.0\n",
      "    steps = 10000\n",
      "    DeFaultTimes = CopulaDefaultTime(inRatings,dfCumDefault,steps,tenor)\n",
      "    CreditPayoff = getCreditReturn(payOff(DeFaultTimes,coupon,attachment,detachment,RR),1)\n",
      "    equity = EqPart3(steps,len(mu),12,1,mu,sigma,corr,tenor)\n",
      "    totPayoff =CreditPayoff + equity*1.3\n",
      "    pyoff = pd.DataFrame(totPayoff)\n",
      "    pyoff.plot(kind='kde')\n",
      "    return generateOutPuts(totPayoff,tenor)\n",
      "    \n",
      "TestAssignmentC(ratings)"
     ],
     "language": "python",
     "metadata": {},
     "outputs": [
      {
       "metadata": {},
       "output_type": "pyout",
       "prompt_number": 18,
       "text": [
        "(12.653824113465317,\n",
        " 0.12154004870309684,\n",
        " -0.54545454545454541,\n",
        " 0.12956896253995084)"
       ]
      },
      {
       "metadata": {},
       "output_type": "display_data",
       "png": "[encoded data removed]",
       "text": [
        "<matplotlib.figure.Figure at 0x96a2f10>"
       ]
      }
     ],
     "prompt_number": 18
    },
    {
     "cell_type": "heading",
     "level": 1,
     "metadata": {},
     "source": [
      "#EQUITY MONTE CARLO#"
     ]
    },
    {
     "cell_type": "code",
     "collapsed": false,
     "input": [
      "#np.average(EqPart3(100,5,1,1,0,0.1,Equity1Corr,7))"
     ],
     "language": "python",
     "metadata": {},
     "outputs": [],
     "prompt_number": 19
    },
    {
     "cell_type": "code",
     "collapsed": false,
     "input": [
      "Equity1Corr"
     ],
     "language": "python",
     "metadata": {},
     "outputs": [
      {
       "ename": "NameError",
       "evalue": "name 'Equity1Corr' is not defined",
       "output_type": "pyerr",
       "traceback": [
        "\u001b[1;31m---------------------------------------------------------------------------\u001b[0m\n\u001b[1;31mNameError\u001b[0m                                 Traceback (most recent call last)",
        "\u001b[1;32m<ipython-input-20-bbaec66cb552>\u001b[0m in \u001b[0;36m<module>\u001b[1;34m()\u001b[0m\n\u001b[1;32m----> 1\u001b[1;33m \u001b[0mEquity1Corr\u001b[0m\u001b[1;33m\u001b[0m\u001b[0m\n\u001b[0m",
        "\u001b[1;31mNameError\u001b[0m: name 'Equity1Corr' is not defined"
       ]
      }
     ],
     "prompt_number": 20
    },
    {
     "cell_type": "code",
     "collapsed": false,
     "input": [
      "N = np.array(np.random.randn(1,1000))"
     ],
     "language": "python",
     "metadata": {},
     "outputs": []
    },
    {
     "cell_type": "code",
     "collapsed": false,
     "input": [
      "N"
     ],
     "language": "python",
     "metadata": {},
     "outputs": []
    },
    {
     "cell_type": "code",
     "collapsed": false,
     "input": [
      "LogNorms = np.exp(0.2*N-0.5*0.2*0.2).T"
     ],
     "language": "python",
     "metadata": {},
     "outputs": []
    },
    {
     "cell_type": "code",
     "collapsed": false,
     "input": [
      "df = pd.DataFrame(LogNorms)"
     ],
     "language": "python",
     "metadata": {},
     "outputs": []
    },
    {
     "cell_type": "code",
     "collapsed": false,
     "input": [
      "df.plot(kind='kde')"
     ],
     "language": "python",
     "metadata": {},
     "outputs": []
    },
    {
     "cell_type": "code",
     "collapsed": false,
     "input": [
      "invLogNorms = 1/LogNorms\n",
      "df2 = pd.DataFrame(invLogNorms)\n",
      "df.plot(kind='kde')"
     ],
     "language": "python",
     "metadata": {},
     "outputs": []
    },
    {
     "cell_type": "code",
     "collapsed": false,
     "input": [
      "# Could do a kolomogorov smirnov test to check if they are equal."
     ],
     "language": "python",
     "metadata": {},
     "outputs": []
    },
    {
     "cell_type": "code",
     "collapsed": false,
     "input": [
      " float(1/12.0)"
     ],
     "language": "python",
     "metadata": {},
     "outputs": []
    },
    {
     "cell_type": "code",
     "collapsed": false,
     "input": [
      "#print np.average(basket[i,:])"
     ],
     "language": "python",
     "metadata": {},
     "outputs": []
    },
    {
     "cell_type": "code",
     "collapsed": false,
     "input": [
      "b = np.array([1,2,3])\n",
      "a = np.ones([3,1])\n",
      "np.multiply(a,b)"
     ],
     "language": "python",
     "metadata": {},
     "outputs": []
    },
    {
     "cell_type": "code",
     "collapsed": false,
     "input": [],
     "language": "python",
     "metadata": {},
     "outputs": []
    }
   ],
   "metadata": {}
  }
 ]
}