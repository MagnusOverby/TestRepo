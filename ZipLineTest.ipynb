{
 "metadata": {
  "name": "",
  "signature": "sha256:e5c96605668410ec0cd625d8ba2b69a5fbb74018bd258b1a4d12f2540f8e0d59"
 },
 "nbformat": 3,
 "nbformat_minor": 0,
 "worksheets": [
  {
   "cells": [
    {
     "cell_type": "code",
     "collapsed": false,
     "input": [
      "import zipline as zp\n",
      "import pandas as pd\n",
      "import numpy as np\n",
      "from zipline.api import order_target, record, symbol, history, add_history"
     ],
     "language": "python",
     "metadata": {},
     "outputs": [],
     "prompt_number": 3
    },
    {
     "cell_type": "code",
     "collapsed": false,
     "input": [
      "%%zipline --start 2006-1-1 --end 2014-1-1 --symbols AAPL -o perf_dma\n",
      "\n",
      "def initialize(context):\n",
      "    # Register 2 histories that track daily prices,\n",
      "    # one with a 100 window and one with a 300 day window\n",
      "    add_history(100, '1d', 'price')\n",
      "    add_history(300, '1d', 'price')\n",
      "\n",
      "    context.i = 0\n",
      "\n",
      "\n",
      "def handle_data(context, data):\n",
      "    # Skip first 300 days to get full windows\n",
      "    context.i += 1\n",
      "    if context.i < 300:\n",
      "        return\n",
      "\n",
      "    # Compute averages\n",
      "    # history() has to be called with the same params\n",
      "    # from above and returns a pandas dataframe.\n",
      "    short_mavg = history(100, '1d', 'price').mean()\n",
      "    long_mavg = history(300, '1d', 'price').mean()\n",
      "\n",
      "    # Trading logic\n",
      "    if short_mavg[0] > long_mavg[0]:\n",
      "        # order_target orders as many shares as needed to\n",
      "        # achieve the desired number of shares.\n",
      "        order_target(symbol('AAPL'), 100)\n",
      "    elif short_mavg[0] < long_mavg[0]:\n",
      "        order_target(symbol('AAPL'), 0)\n",
      "\n",
      "    # Save values for later inspection\n",
      "    record(AAPL=data[symbol('AAPL')].price,\n",
      "           short_mavg=short_mavg[0],\n",
      "           long_mavg=long_mavg[0])\n",
      "\n",
      "\n",
      "def analyze(context, perf):\n",
      "    fig = plt.figure()\n",
      "    ax1 = fig.add_subplot(211)\n",
      "    perf.portfolio_value.plot(ax=ax1)\n",
      "    ax1.set_ylabel('portfolio value in $')\n",
      "\n",
      "    ax2 = fig.add_subplot(212)\n",
      "    perf['AAPL'].plot(ax=ax2)\n",
      "    perf[['short_mavg', 'long_mavg']].plot(ax=ax2)\n",
      "\n",
      "    perf_trans = perf.ix[[t != [] for t in perf.transactions]]\n",
      "    buys = perf_trans.ix[[t[0]['amount'] > 0 for t in perf_trans.transactions]]\n",
      "    sells = perf_trans.ix[\n",
      "        [t[0]['amount'] < 0 for t in perf_trans.transactions]]\n",
      "    ax2.plot(buys.index, perf.short_mavg.ix[buys.index],\n",
      "             '^', markersize=10, color='m')\n",
      "    ax2.plot(sells.index, perf.short_mavg.ix[sells.index],\n",
      "             'v', markersize=10, color='k')\n",
      "    ax2.set_ylabel('price in $')\n",
      "    plt.legend(loc=0)\n",
      "    plt.show()"
     ],
     "language": "python",
     "metadata": {},
     "outputs": [
      {
       "output_type": "stream",
       "stream": "stderr",
       "text": [
        "[2015-12-04 10:53:18.089000] INFO: Performance: Simulated 2013 trading days out of 2013.\n"
       ]
      },
      {
       "output_type": "stream",
       "stream": "stderr",
       "text": [
        "[2015-12-04 10:53:18.089000] INFO: Performance: first open: 2006-01-03 14:31:00+00:00\n"
       ]
      },
      {
       "output_type": "stream",
       "stream": "stderr",
       "text": [
        "[2015-12-04 10:53:18.089000] INFO: Performance: last close: 2013-12-31 21:00:00+00:00\n"
       ]
      },
      {
       "output_type": "stream",
       "stream": "stdout",
       "text": [
        "AAPL\n"
       ]
      },
      {
       "ename": "NameError",
       "evalue": "global name 'plt' is not defined",
       "output_type": "pyerr",
       "traceback": [
        "\u001b[1;31m---------------------------------------------------------------------------\u001b[0m\n\u001b[1;31mNameError\u001b[0m                                 Traceback (most recent call last)",
        "\u001b[1;32m<ipython-input-5-e81f40da607f>\u001b[0m in \u001b[0;36m<module>\u001b[1;34m()\u001b[0m\n\u001b[1;32m----> 1\u001b[1;33m \u001b[0mget_ipython\u001b[0m\u001b[1;33m(\u001b[0m\u001b[1;33m)\u001b[0m\u001b[1;33m.\u001b[0m\u001b[0mrun_cell_magic\u001b[0m\u001b[1;33m(\u001b[0m\u001b[1;34mu'zipline'\u001b[0m\u001b[1;33m,\u001b[0m \u001b[1;34mu'--start 2006-1-1 --end 2014-1-1 --symbols AAPL -o perf_dma'\u001b[0m\u001b[1;33m,\u001b[0m \u001b[1;34mu\"\\ndef initialize(context):\\n    # Register 2 histories that track daily prices,\\n    # one with a 100 window and one with a 300 day window\\n    add_history(100, '1d', 'price')\\n    add_history(300, '1d', 'price')\\n\\n    context.i = 0\\n\\n\\ndef handle_data(context, data):\\n    # Skip first 300 days to get full windows\\n    context.i += 1\\n    if context.i < 300:\\n        return\\n\\n    # Compute averages\\n    # history() has to be called with the same params\\n    # from above and returns a pandas dataframe.\\n    short_mavg = history(100, '1d', 'price').mean()\\n    long_mavg = history(300, '1d', 'price').mean()\\n\\n    # Trading logic\\n    if short_mavg[0] > long_mavg[0]:\\n        # order_target orders as many shares as needed to\\n        # achieve the desired number of shares.\\n        order_target(symbol('AAPL'), 100)\\n    elif short_mavg[0] < long_mavg[0]:\\n        order_target(symbol('AAPL'), 0)\\n\\n    # Save values for later inspection\\n    record(AAPL=data[symbol('AAPL')].price,\\n           short_mavg=short_mavg[0],\\n           long_mavg=long_mavg[0])\\n\\n\\ndef analyze(context, perf):\\n    fig = plt.figure()\\n    ax1 = fig.add_subplot(211)\\n    perf.portfolio_value.plot(ax=ax1)\\n    ax1.set_ylabel('portfolio value in $')\\n\\n    ax2 = fig.add_subplot(212)\\n    perf['AAPL'].plot(ax=ax2)\\n    perf[['short_mavg', 'long_mavg']].plot(ax=ax2)\\n\\n    perf_trans = perf.ix[[t != [] for t in perf.transactions]]\\n    buys = perf_trans.ix[[t[0]['amount'] > 0 for t in perf_trans.transactions]]\\n    sells = perf_trans.ix[\\n        [t[0]['amount'] < 0 for t in perf_trans.transactions]]\\n    ax2.plot(buys.index, perf.short_mavg.ix[buys.index],\\n             '^', markersize=10, color='m')\\n    ax2.plot(sells.index, perf.short_mavg.ix[sells.index],\\n             'v', markersize=10, color='k')\\n    ax2.set_ylabel('price in $')\\n    plt.legend(loc=0)\\n    plt.show()\"\u001b[0m\u001b[1;33m)\u001b[0m\u001b[1;33m\u001b[0m\u001b[0m\n\u001b[0m",
        "\u001b[1;32mC:\\Anaconda\\lib\\site-packages\\IPython\\core\\interactiveshell.pyc\u001b[0m in \u001b[0;36mrun_cell_magic\u001b[1;34m(self, magic_name, line, cell)\u001b[0m\n\u001b[0;32m   2160\u001b[0m             \u001b[0mmagic_arg_s\u001b[0m \u001b[1;33m=\u001b[0m \u001b[0mself\u001b[0m\u001b[1;33m.\u001b[0m\u001b[0mvar_expand\u001b[0m\u001b[1;33m(\u001b[0m\u001b[0mline\u001b[0m\u001b[1;33m,\u001b[0m \u001b[0mstack_depth\u001b[0m\u001b[1;33m)\u001b[0m\u001b[1;33m\u001b[0m\u001b[0m\n\u001b[0;32m   2161\u001b[0m             \u001b[1;32mwith\u001b[0m \u001b[0mself\u001b[0m\u001b[1;33m.\u001b[0m\u001b[0mbuiltin_trap\u001b[0m\u001b[1;33m:\u001b[0m\u001b[1;33m\u001b[0m\u001b[0m\n\u001b[1;32m-> 2162\u001b[1;33m                 \u001b[0mresult\u001b[0m \u001b[1;33m=\u001b[0m \u001b[0mfn\u001b[0m\u001b[1;33m(\u001b[0m\u001b[0mmagic_arg_s\u001b[0m\u001b[1;33m,\u001b[0m \u001b[0mcell\u001b[0m\u001b[1;33m)\u001b[0m\u001b[1;33m\u001b[0m\u001b[0m\n\u001b[0m\u001b[0;32m   2163\u001b[0m             \u001b[1;32mreturn\u001b[0m \u001b[0mresult\u001b[0m\u001b[1;33m\u001b[0m\u001b[0m\n\u001b[0;32m   2164\u001b[0m \u001b[1;33m\u001b[0m\u001b[0m\n",
        "\u001b[1;32mC:\\Anaconda\\lib\\site-packages\\zipline-0.7.0-py2.7.egg\\zipline\\utils\\cli.pyc\u001b[0m in \u001b[0;36mparse_cell_magic\u001b[1;34m(line, cell)\u001b[0m\n\u001b[0;32m    126\u001b[0m     \u001b[0moutput_var_name\u001b[0m \u001b[1;33m=\u001b[0m \u001b[0margs\u001b[0m\u001b[1;33m.\u001b[0m\u001b[0mpop\u001b[0m\u001b[1;33m(\u001b[0m\u001b[1;34m'output'\u001b[0m\u001b[1;33m,\u001b[0m \u001b[0mNone\u001b[0m\u001b[1;33m)\u001b[0m\u001b[1;33m\u001b[0m\u001b[0m\n\u001b[0;32m    127\u001b[0m \u001b[1;33m\u001b[0m\u001b[0m\n\u001b[1;32m--> 128\u001b[1;33m     \u001b[0mperf\u001b[0m \u001b[1;33m=\u001b[0m \u001b[0mrun_pipeline\u001b[0m\u001b[1;33m(\u001b[0m\u001b[0mprint_algo\u001b[0m\u001b[1;33m=\u001b[0m\u001b[0mFalse\u001b[0m\u001b[1;33m,\u001b[0m \u001b[0malgo_text\u001b[0m\u001b[1;33m=\u001b[0m\u001b[0mcell\u001b[0m\u001b[1;33m,\u001b[0m \u001b[1;33m**\u001b[0m\u001b[0margs\u001b[0m\u001b[1;33m)\u001b[0m\u001b[1;33m\u001b[0m\u001b[0m\n\u001b[0m\u001b[0;32m    129\u001b[0m \u001b[1;33m\u001b[0m\u001b[0m\n\u001b[0;32m    130\u001b[0m     \u001b[1;32mif\u001b[0m \u001b[0moutput_var_name\u001b[0m \u001b[1;32mis\u001b[0m \u001b[1;32mnot\u001b[0m \u001b[0mNone\u001b[0m\u001b[1;33m:\u001b[0m\u001b[1;33m\u001b[0m\u001b[0m\n",
        "\u001b[1;32mC:\\Anaconda\\lib\\site-packages\\zipline-0.7.0-py2.7.egg\\zipline\\utils\\cli.pyc\u001b[0m in \u001b[0;36mrun_pipeline\u001b[1;34m(print_algo, **kwargs)\u001b[0m\n\u001b[0;32m    190\u001b[0m                                     capital_base=float(kwargs['capital_base']))\n\u001b[0;32m    191\u001b[0m \u001b[1;33m\u001b[0m\u001b[0m\n\u001b[1;32m--> 192\u001b[1;33m     \u001b[0mperf\u001b[0m \u001b[1;33m=\u001b[0m \u001b[0malgo\u001b[0m\u001b[1;33m.\u001b[0m\u001b[0mrun\u001b[0m\u001b[1;33m(\u001b[0m\u001b[0msource\u001b[0m\u001b[1;33m)\u001b[0m\u001b[1;33m\u001b[0m\u001b[0m\n\u001b[0m\u001b[0;32m    193\u001b[0m \u001b[1;33m\u001b[0m\u001b[0m\n\u001b[0;32m    194\u001b[0m     \u001b[0moutput_fname\u001b[0m \u001b[1;33m=\u001b[0m \u001b[0mkwargs\u001b[0m\u001b[1;33m.\u001b[0m\u001b[0mget\u001b[0m\u001b[1;33m(\u001b[0m\u001b[1;34m'output'\u001b[0m\u001b[1;33m,\u001b[0m \u001b[0mNone\u001b[0m\u001b[1;33m)\u001b[0m\u001b[1;33m\u001b[0m\u001b[0m\n",
        "\u001b[1;32mC:\\Anaconda\\lib\\site-packages\\zipline-0.7.0-py2.7.egg\\zipline\\algorithm.pyc\u001b[0m in \u001b[0;36mrun\u001b[1;34m(self, source, overwrite_sim_params, benchmark_return_source)\u001b[0m\n\u001b[0;32m    427\u001b[0m             \u001b[0mdaily_stats\u001b[0m \u001b[1;33m=\u001b[0m \u001b[0mself\u001b[0m\u001b[1;33m.\u001b[0m\u001b[0m_create_daily_stats\u001b[0m\u001b[1;33m(\u001b[0m\u001b[0mperfs\u001b[0m\u001b[1;33m)\u001b[0m\u001b[1;33m\u001b[0m\u001b[0m\n\u001b[0;32m    428\u001b[0m \u001b[1;33m\u001b[0m\u001b[0m\n\u001b[1;32m--> 429\u001b[1;33m         \u001b[0mself\u001b[0m\u001b[1;33m.\u001b[0m\u001b[0manalyze\u001b[0m\u001b[1;33m(\u001b[0m\u001b[0mdaily_stats\u001b[0m\u001b[1;33m)\u001b[0m\u001b[1;33m\u001b[0m\u001b[0m\n\u001b[0m\u001b[0;32m    430\u001b[0m \u001b[1;33m\u001b[0m\u001b[0m\n\u001b[0;32m    431\u001b[0m         \u001b[1;32mreturn\u001b[0m \u001b[0mdaily_stats\u001b[0m\u001b[1;33m\u001b[0m\u001b[0m\n",
        "\u001b[1;32mC:\\Anaconda\\lib\\site-packages\\zipline-0.7.0-py2.7.egg\\zipline\\algorithm.pyc\u001b[0m in \u001b[0;36manalyze\u001b[1;34m(self, perf)\u001b[0m\n\u001b[0;32m    231\u001b[0m \u001b[1;33m\u001b[0m\u001b[0m\n\u001b[0;32m    232\u001b[0m         \u001b[1;32mwith\u001b[0m \u001b[0mZiplineAPI\u001b[0m\u001b[1;33m(\u001b[0m\u001b[0mself\u001b[0m\u001b[1;33m)\u001b[0m\u001b[1;33m:\u001b[0m\u001b[1;33m\u001b[0m\u001b[0m\n\u001b[1;32m--> 233\u001b[1;33m             \u001b[0mself\u001b[0m\u001b[1;33m.\u001b[0m\u001b[0m_analyze\u001b[0m\u001b[1;33m(\u001b[0m\u001b[0mself\u001b[0m\u001b[1;33m,\u001b[0m \u001b[0mperf\u001b[0m\u001b[1;33m)\u001b[0m\u001b[1;33m\u001b[0m\u001b[0m\n\u001b[0m\u001b[0;32m    234\u001b[0m \u001b[1;33m\u001b[0m\u001b[0m\n\u001b[0;32m    235\u001b[0m     \u001b[1;32mdef\u001b[0m \u001b[0m__repr__\u001b[0m\u001b[1;33m(\u001b[0m\u001b[0mself\u001b[0m\u001b[1;33m)\u001b[0m\u001b[1;33m:\u001b[0m\u001b[1;33m\u001b[0m\u001b[0m\n",
        "\u001b[1;32m<string>\u001b[0m in \u001b[0;36manalyze\u001b[1;34m(context, perf)\u001b[0m\n",
        "\u001b[1;31mNameError\u001b[0m: global name 'plt' is not defined"
       ]
      }
     ],
     "prompt_number": 5
    },
    {
     "cell_type": "code",
     "collapsed": false,
     "input": [
      "import pytz\n",
      "from datetime import datetime\n",
      "from zipline.algorithm import TradingAlgorithm\n",
      "from zipline.utils.factory import load_bars_from_yahoo\n",
      "\n",
      "# Load data manually from Yahoo! finance\n",
      "start = datetime(2000, 1, 1, 0, 0, 0, 0, pytz.utc)\n",
      "end = datetime(2012, 1, 1, 0, 0, 0, 0, pytz.utc)\n",
      "data = load_bars_from_yahoo(stocks=['AAPL'], start=start,\n",
      "                            end=end)\n",
      "\n",
      "# Define algorithm\n",
      "def initialize(context):\n",
      "    pass\n",
      "\n",
      "def handle_data(context, data):\n",
      "    order(symbol('AAPL'), 10)\n",
      "    record(AAPL=data[symbol('AAPL')].price)\n",
      "\n",
      "# Create algorithm object passing in initialize and\n",
      "# handle_data functions\n",
      "algo_obj = TradingAlgorithm(initialize=initialize, \n",
      "                            handle_data=handle_data)\n",
      "\n",
      "# Run algorithm\n",
      "perf_manual = algo_obj.run(data)"
     ],
     "language": "python",
     "metadata": {},
     "outputs": [
      {
       "output_type": "stream",
       "stream": "stdout",
       "text": [
        "AAPL\n"
       ]
      },
      {
       "ename": "NameError",
       "evalue": "global name 'order' is not defined",
       "output_type": "pyerr",
       "traceback": [
        "\u001b[1;31m---------------------------------------------------------------------------\u001b[0m\n\u001b[1;31mNameError\u001b[0m                                 Traceback (most recent call last)",
        "\u001b[1;32m<ipython-input-8-d123d5c433b0>\u001b[0m in \u001b[0;36m<module>\u001b[1;34m()\u001b[0m\n\u001b[0;32m     24\u001b[0m \u001b[1;33m\u001b[0m\u001b[0m\n\u001b[0;32m     25\u001b[0m \u001b[1;31m# Run algorithm\u001b[0m\u001b[1;33m\u001b[0m\u001b[1;33m\u001b[0m\u001b[0m\n\u001b[1;32m---> 26\u001b[1;33m \u001b[0mperf_manual\u001b[0m \u001b[1;33m=\u001b[0m \u001b[0malgo_obj\u001b[0m\u001b[1;33m.\u001b[0m\u001b[0mrun\u001b[0m\u001b[1;33m(\u001b[0m\u001b[0mdata\u001b[0m\u001b[1;33m)\u001b[0m\u001b[1;33m\u001b[0m\u001b[0m\n\u001b[0m",
        "\u001b[1;32mC:\\Anaconda\\lib\\site-packages\\zipline-0.7.0-py2.7.egg\\zipline\\algorithm.pyc\u001b[0m in \u001b[0;36mrun\u001b[1;34m(self, source, overwrite_sim_params, benchmark_return_source)\u001b[0m\n\u001b[0;32m    421\u001b[0m             \u001b[1;31m# perf dictionary\u001b[0m\u001b[1;33m\u001b[0m\u001b[1;33m\u001b[0m\u001b[0m\n\u001b[0;32m    422\u001b[0m             \u001b[0mperfs\u001b[0m \u001b[1;33m=\u001b[0m \u001b[1;33m[\u001b[0m\u001b[1;33m]\u001b[0m\u001b[1;33m\u001b[0m\u001b[0m\n\u001b[1;32m--> 423\u001b[1;33m             \u001b[1;32mfor\u001b[0m \u001b[0mperf\u001b[0m \u001b[1;32min\u001b[0m \u001b[0mself\u001b[0m\u001b[1;33m.\u001b[0m\u001b[0mgen\u001b[0m\u001b[1;33m:\u001b[0m\u001b[1;33m\u001b[0m\u001b[0m\n\u001b[0m\u001b[0;32m    424\u001b[0m                 \u001b[0mperfs\u001b[0m\u001b[1;33m.\u001b[0m\u001b[0mappend\u001b[0m\u001b[1;33m(\u001b[0m\u001b[0mperf\u001b[0m\u001b[1;33m)\u001b[0m\u001b[1;33m\u001b[0m\u001b[0m\n\u001b[0;32m    425\u001b[0m \u001b[1;33m\u001b[0m\u001b[0m\n",
        "\u001b[1;32mC:\\Anaconda\\lib\\site-packages\\zipline-0.7.0-py2.7.egg\\zipline\\gens\\tradesimulation.pyc\u001b[0m in \u001b[0;36mtransform\u001b[1;34m(self, stream_in)\u001b[0m\n\u001b[0;32m    125\u001b[0m                         \u001b[0mdate\u001b[0m\u001b[1;33m,\u001b[0m\u001b[1;33m\u001b[0m\u001b[0m\n\u001b[0;32m    126\u001b[0m                         \u001b[0msnapshot\u001b[0m\u001b[1;33m,\u001b[0m\u001b[1;33m\u001b[0m\u001b[0m\n\u001b[1;32m--> 127\u001b[1;33m                         \u001b[0mself\u001b[0m\u001b[1;33m.\u001b[0m\u001b[0malgo\u001b[0m\u001b[1;33m.\u001b[0m\u001b[0minstant_fill\u001b[0m\u001b[1;33m,\u001b[0m\u001b[1;33m\u001b[0m\u001b[0m\n\u001b[0m\u001b[0;32m    128\u001b[0m                     )\n\u001b[0;32m    129\u001b[0m                     \u001b[1;31m# Perf messages are only emitted if the snapshot contained\u001b[0m\u001b[1;33m\u001b[0m\u001b[1;33m\u001b[0m\u001b[0m\n",
        "\u001b[1;32mC:\\Anaconda\\lib\\site-packages\\zipline-0.7.0-py2.7.egg\\zipline\\gens\\tradesimulation.pyc\u001b[0m in \u001b[0;36m_process_snapshot\u001b[1;34m(self, dt, snapshot, instant_fill)\u001b[0m\n\u001b[0;32m    212\u001b[0m \u001b[1;33m\u001b[0m\u001b[0m\n\u001b[0;32m    213\u001b[0m         \u001b[1;32mif\u001b[0m \u001b[0many_trade_occurred\u001b[0m\u001b[1;33m:\u001b[0m\u001b[1;33m\u001b[0m\u001b[0m\n\u001b[1;32m--> 214\u001b[1;33m             \u001b[0mnew_orders\u001b[0m \u001b[1;33m=\u001b[0m \u001b[0mself\u001b[0m\u001b[1;33m.\u001b[0m\u001b[0m_call_handle_data\u001b[0m\u001b[1;33m(\u001b[0m\u001b[1;33m)\u001b[0m\u001b[1;33m\u001b[0m\u001b[0m\n\u001b[0m\u001b[0;32m    215\u001b[0m             \u001b[1;32mfor\u001b[0m \u001b[0morder\u001b[0m \u001b[1;32min\u001b[0m \u001b[0mnew_orders\u001b[0m\u001b[1;33m:\u001b[0m\u001b[1;33m\u001b[0m\u001b[0m\n\u001b[0;32m    216\u001b[0m                 \u001b[0mself\u001b[0m\u001b[1;33m.\u001b[0m\u001b[0malgo\u001b[0m\u001b[1;33m.\u001b[0m\u001b[0mperf_tracker\u001b[0m\u001b[1;33m.\u001b[0m\u001b[0mprocess_event\u001b[0m\u001b[1;33m(\u001b[0m\u001b[0morder\u001b[0m\u001b[1;33m)\u001b[0m\u001b[1;33m\u001b[0m\u001b[0m\n",
        "\u001b[1;32mC:\\Anaconda\\lib\\site-packages\\zipline-0.7.0-py2.7.egg\\zipline\\gens\\tradesimulation.pyc\u001b[0m in \u001b[0;36m_call_handle_data\u001b[1;34m(self)\u001b[0m\n\u001b[0;32m    234\u001b[0m         \u001b[0mduring\u001b[0m \u001b[0mthe\u001b[0m \u001b[0mcall\u001b[0m\u001b[1;33m.\u001b[0m\u001b[1;33m\u001b[0m\u001b[0m\n\u001b[0;32m    235\u001b[0m         \"\"\"\n\u001b[1;32m--> 236\u001b[1;33m         \u001b[0mself\u001b[0m\u001b[1;33m.\u001b[0m\u001b[0malgo\u001b[0m\u001b[1;33m.\u001b[0m\u001b[0mhandle_data\u001b[0m\u001b[1;33m(\u001b[0m\u001b[0mself\u001b[0m\u001b[1;33m.\u001b[0m\u001b[0mcurrent_data\u001b[0m\u001b[1;33m)\u001b[0m\u001b[1;33m\u001b[0m\u001b[0m\n\u001b[0m\u001b[0;32m    237\u001b[0m         \u001b[0morders\u001b[0m \u001b[1;33m=\u001b[0m \u001b[0mself\u001b[0m\u001b[1;33m.\u001b[0m\u001b[0malgo\u001b[0m\u001b[1;33m.\u001b[0m\u001b[0mblotter\u001b[0m\u001b[1;33m.\u001b[0m\u001b[0mnew_orders\u001b[0m\u001b[1;33m\u001b[0m\u001b[0m\n\u001b[0;32m    238\u001b[0m         \u001b[0mself\u001b[0m\u001b[1;33m.\u001b[0m\u001b[0malgo\u001b[0m\u001b[1;33m.\u001b[0m\u001b[0mblotter\u001b[0m\u001b[1;33m.\u001b[0m\u001b[0mnew_orders\u001b[0m \u001b[1;33m=\u001b[0m \u001b[1;33m[\u001b[0m\u001b[1;33m]\u001b[0m\u001b[1;33m\u001b[0m\u001b[0m\n",
        "\u001b[1;32mC:\\Anaconda\\lib\\site-packages\\zipline-0.7.0-py2.7.egg\\zipline\\algorithm.pyc\u001b[0m in \u001b[0;36mhandle_data\u001b[1;34m(self, data)\u001b[0m\n\u001b[0;32m    224\u001b[0m             \u001b[0mself\u001b[0m\u001b[1;33m.\u001b[0m\u001b[0mhistory_container\u001b[0m\u001b[1;33m.\u001b[0m\u001b[0mupdate\u001b[0m\u001b[1;33m(\u001b[0m\u001b[0mdata\u001b[0m\u001b[1;33m,\u001b[0m \u001b[0mself\u001b[0m\u001b[1;33m.\u001b[0m\u001b[0mdatetime\u001b[0m\u001b[1;33m)\u001b[0m\u001b[1;33m\u001b[0m\u001b[0m\n\u001b[0;32m    225\u001b[0m \u001b[1;33m\u001b[0m\u001b[0m\n\u001b[1;32m--> 226\u001b[1;33m         \u001b[0mself\u001b[0m\u001b[1;33m.\u001b[0m\u001b[0m_handle_data\u001b[0m\u001b[1;33m(\u001b[0m\u001b[0mself\u001b[0m\u001b[1;33m,\u001b[0m \u001b[0mdata\u001b[0m\u001b[1;33m)\u001b[0m\u001b[1;33m\u001b[0m\u001b[0m\n\u001b[0m\u001b[0;32m    227\u001b[0m \u001b[1;33m\u001b[0m\u001b[0m\n\u001b[0;32m    228\u001b[0m     \u001b[1;32mdef\u001b[0m \u001b[0manalyze\u001b[0m\u001b[1;33m(\u001b[0m\u001b[0mself\u001b[0m\u001b[1;33m,\u001b[0m \u001b[0mperf\u001b[0m\u001b[1;33m)\u001b[0m\u001b[1;33m:\u001b[0m\u001b[1;33m\u001b[0m\u001b[0m\n",
        "\u001b[1;32m<ipython-input-8-d123d5c433b0>\u001b[0m in \u001b[0;36mhandle_data\u001b[1;34m(context, data)\u001b[0m\n\u001b[0;32m     15\u001b[0m \u001b[1;33m\u001b[0m\u001b[0m\n\u001b[0;32m     16\u001b[0m \u001b[1;32mdef\u001b[0m \u001b[0mhandle_data\u001b[0m\u001b[1;33m(\u001b[0m\u001b[0mcontext\u001b[0m\u001b[1;33m,\u001b[0m \u001b[0mdata\u001b[0m\u001b[1;33m)\u001b[0m\u001b[1;33m:\u001b[0m\u001b[1;33m\u001b[0m\u001b[0m\n\u001b[1;32m---> 17\u001b[1;33m     \u001b[0morder\u001b[0m\u001b[1;33m(\u001b[0m\u001b[0msymbol\u001b[0m\u001b[1;33m(\u001b[0m\u001b[1;34m'AAPL'\u001b[0m\u001b[1;33m)\u001b[0m\u001b[1;33m,\u001b[0m \u001b[1;36m10\u001b[0m\u001b[1;33m)\u001b[0m\u001b[1;33m\u001b[0m\u001b[0m\n\u001b[0m\u001b[0;32m     18\u001b[0m     \u001b[0mrecord\u001b[0m\u001b[1;33m(\u001b[0m\u001b[0mAAPL\u001b[0m\u001b[1;33m=\u001b[0m\u001b[0mdata\u001b[0m\u001b[1;33m[\u001b[0m\u001b[0msymbol\u001b[0m\u001b[1;33m(\u001b[0m\u001b[1;34m'AAPL'\u001b[0m\u001b[1;33m)\u001b[0m\u001b[1;33m]\u001b[0m\u001b[1;33m.\u001b[0m\u001b[0mprice\u001b[0m\u001b[1;33m)\u001b[0m\u001b[1;33m\u001b[0m\u001b[0m\n\u001b[0;32m     19\u001b[0m \u001b[1;33m\u001b[0m\u001b[0m\n",
        "\u001b[1;31mNameError\u001b[0m: global name 'order' is not defined"
       ]
      }
     ],
     "prompt_number": 8
    },
    {
     "cell_type": "code",
     "collapsed": false,
     "input": [],
     "language": "python",
     "metadata": {},
     "outputs": []
    }
   ],
   "metadata": {}
  }
 ]
}