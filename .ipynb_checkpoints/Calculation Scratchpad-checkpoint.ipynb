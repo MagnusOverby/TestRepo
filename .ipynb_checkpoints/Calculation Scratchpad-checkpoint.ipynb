{
 "metadata": {
  "name": "",
  "signature": "sha256:733377501e07b31616841c5d02e7a003565bbb3b2d3aa86b8ef5b83c8d6a1d09"
 },
 "nbformat": 3,
 "nbformat_minor": 0,
 "worksheets": [
  {
   "cells": [
    {
     "cell_type": "code",
     "collapsed": false,
     "input": [
      "import pandas as pd\n",
      "import numpy as np\n",
      "import scipy as stats"
     ],
     "language": "python",
     "metadata": {},
     "outputs": [],
     "prompt_number": 3
    },
    {
     "cell_type": "code",
     "collapsed": false,
     "input": [
      "#scratch pad for calculations\n",
      "path = 'C:\\Data\\BloombergData\\GarantumVol.csv'\n",
      "cols= ['Info','Zero','One','Date','Vol']\n",
      "df = pd.read_csv(path,sep=';',names=cols)\n",
      "#df.Vol = [float(str(x).replace(',','.')) for x in df.Vol]\n",
      "lable = ['Stock','Exh','Tenor','MoneyNess','Vol','Source','Drop']\n",
      "saveCols = ['Stock','Exh','Tenor','MoneyNess']\n",
      "dname = pd.read_csv(path,sep=' ',names=lable)\n",
      "df[saveCols] = dname[saveCols]\n",
      "df2 = df.drop(['Info','Zero','One','Date'],1)\n",
      "df2['Stock'] = [x.strip() for x in df2['Stock']]\n",
      "#df2.to_csv('C:\\Data\\BloombergData\\GarantumVol1.csv',sep='\\t')\n",
      "last = int(df2.tail(1).index)\n",
      "df2 = df2[0:last-1]\n",
      "Stockss = df2.Stock.unique()\n",
      "Stockss = Stockss.astype('string')\n",
      "volSurfs = []\n",
      "for x in Stockss:\n",
      "    volSurfs.append(df2[df2.Stock==x])\n",
      "print volSurfs[0]\n"
     ],
     "language": "python",
     "metadata": {},
     "outputs": [
      {
       "output_type": "stream",
       "stream": "stdout",
       "text": [
        "        Vol Stock Exh Tenor  MoneyNess\n",
        "0        92   AZN  LN    1W         30\n",
        "1    83,148   AZN  LN    1M         30\n",
        "2    75,346   AZN  LN    2M         30\n",
        "3    69,811   AZN  LN    3M         30\n",
        "4    60,663   AZN  LN    6M         30\n",
        "5    55,879   AZN  LN    9M         30\n",
        "6    48,676   AZN  LN   18M         30\n",
        "7    56,601   AZN  LN    1Y         30\n",
        "8    44,137   AZN  LN    2Y         30\n",
        "9    38,459   AZN  LN    3Y         30\n",
        "10    35,16   AZN  LN    4Y         30\n",
        "11   33,166   AZN  LN    5Y         30\n",
        "12   31,305   AZN  LN    7Y         30\n",
        "13   30,474   AZN  LN   10Y         30\n",
        "14   91,203   AZN  LN    1W         40\n",
        "15   77,847   AZN  LN    1M         40\n",
        "16   65,965   AZN  LN    2M         40\n",
        "17   60,156   AZN  LN    3M         40\n",
        "18   51,155   AZN  LN    6M         40\n",
        "19   46,917   AZN  LN    9M         40\n",
        "20   39,289   AZN  LN   18M         40\n",
        "21   45,594   AZN  LN    1Y         40\n",
        "22   35,813   AZN  LN    2Y         40\n",
        "23   31,891   AZN  LN    3Y         40\n",
        "24   30,361   AZN  LN    4Y         40\n",
        "25   29,782   AZN  LN    5Y         40\n",
        "26    29,42   AZN  LN    7Y         40\n",
        "27   29,244   AZN  LN   10Y         40\n",
        "28   76,423   AZN  LN    1W         60\n",
        "29   57,162   AZN  LN    1M         60\n",
        "..      ...   ...  ..   ...        ...\n",
        "180  28,467   AZN  LN    7Y        150\n",
        "181  28,522   AZN  LN   10Y        150\n",
        "182  60,677   AZN  LN    1W        200\n",
        "183  48,263   AZN  LN    1M        200\n",
        "184  40,253   AZN  LN    2M        200\n",
        "185  36,046   AZN  LN    3M        200\n",
        "186  26,679   AZN  LN    6M        200\n",
        "187  29,783   AZN  LN    9M        200\n",
        "188  29,464   AZN  LN   18M        200\n",
        "189  29,535   AZN  LN    1Y        200\n",
        "190  29,388   AZN  LN    2Y        200\n",
        "191  29,287   AZN  LN    3Y        200\n",
        "192  29,215   AZN  LN    4Y        200\n",
        "193  29,165   AZN  LN    5Y        200\n",
        "194  29,109   AZN  LN    7Y        200\n",
        "195  29,088   AZN  LN   10Y        200\n",
        "196  59,873   AZN  LN    1W        300\n",
        "197  46,903   AZN  LN    1M        300\n",
        "198  38,093   AZN  LN    2M        300\n",
        "199  33,632   AZN  LN    3M        300\n",
        "200   24,46   AZN  LN    6M        300\n",
        "201  28,769   AZN  LN    9M        300\n",
        "202  29,581   AZN  LN   18M        300\n",
        "203  29,354   AZN  LN    1Y        300\n",
        "204  29,644   AZN  LN    2Y        300\n",
        "205  29,648   AZN  LN    3Y        300\n",
        "206  29,629   AZN  LN    4Y        300\n",
        "207  29,614   AZN  LN    5Y        300\n",
        "208  29,595   AZN  LN    7Y        300\n",
        "209   29,59   AZN  LN   10Y        300\n",
        "\n",
        "[210 rows x 5 columns]\n"
       ]
      }
     ],
     "prompt_number": 4
    },
    {
     "cell_type": "code",
     "collapsed": false,
     "input": [
      "Stock1 = volSurfs[0]\n",
      "dfNew = pd.DataFrame(Stock1.Vol,columns=Stock1.MoneyNess.unique(),index=Stock1.Tenor.unique())\n",
      "\"\"\"\n",
      "for x in Stock1.Tenor:\n",
      "    for y in Stock1.MoneyNess:\n",
      "\"\"\"\n",
      "\n",
      "print dfNew[(dfNew.index=='1Y')]['30']"
     ],
     "language": "python",
     "metadata": {},
     "outputs": [
      {
       "ename": "TypeError",
       "evalue": "Not implemented for this type",
       "output_type": "pyerr",
       "traceback": [
        "\u001b[1;31m---------------------------------------------------------------------------\u001b[0m\n\u001b[1;31mTypeError\u001b[0m                                 Traceback (most recent call last)",
        "\u001b[1;32m<ipython-input-18-4f5075fdc5fe>\u001b[0m in \u001b[0;36m<module>\u001b[1;34m()\u001b[0m\n\u001b[0;32m      6\u001b[0m \"\"\"\n\u001b[0;32m      7\u001b[0m \u001b[1;33m\u001b[0m\u001b[0m\n\u001b[1;32m----> 8\u001b[1;33m \u001b[1;32mprint\u001b[0m \u001b[0mdfNew\u001b[0m\u001b[1;33m[\u001b[0m\u001b[1;33m(\u001b[0m\u001b[0mdfNew\u001b[0m\u001b[1;33m.\u001b[0m\u001b[0mindex\u001b[0m\u001b[1;33m==\u001b[0m\u001b[1;34m'1Y'\u001b[0m\u001b[1;33m)\u001b[0m\u001b[1;33m]\u001b[0m\u001b[1;33m[\u001b[0m\u001b[1;34m'30'\u001b[0m\u001b[1;33m]\u001b[0m\u001b[1;33m\u001b[0m\u001b[0m\n\u001b[0m",
        "\u001b[1;32mC:\\Anaconda\\lib\\site-packages\\pandas\\core\\frame.pyc\u001b[0m in \u001b[0;36m__getitem__\u001b[1;34m(self, key)\u001b[0m\n\u001b[0;32m   1682\u001b[0m             \u001b[1;32mreturn\u001b[0m \u001b[0mself\u001b[0m\u001b[1;33m.\u001b[0m\u001b[0m_getitem_multilevel\u001b[0m\u001b[1;33m(\u001b[0m\u001b[0mkey\u001b[0m\u001b[1;33m)\u001b[0m\u001b[1;33m\u001b[0m\u001b[0m\n\u001b[0;32m   1683\u001b[0m         \u001b[1;32melse\u001b[0m\u001b[1;33m:\u001b[0m\u001b[1;33m\u001b[0m\u001b[0m\n\u001b[1;32m-> 1684\u001b[1;33m             \u001b[1;32mreturn\u001b[0m \u001b[0mself\u001b[0m\u001b[1;33m.\u001b[0m\u001b[0m_getitem_column\u001b[0m\u001b[1;33m(\u001b[0m\u001b[0mkey\u001b[0m\u001b[1;33m)\u001b[0m\u001b[1;33m\u001b[0m\u001b[0m\n\u001b[0m\u001b[0;32m   1685\u001b[0m \u001b[1;33m\u001b[0m\u001b[0m\n\u001b[0;32m   1686\u001b[0m     \u001b[1;32mdef\u001b[0m \u001b[0m_getitem_column\u001b[0m\u001b[1;33m(\u001b[0m\u001b[0mself\u001b[0m\u001b[1;33m,\u001b[0m \u001b[0mkey\u001b[0m\u001b[1;33m)\u001b[0m\u001b[1;33m:\u001b[0m\u001b[1;33m\u001b[0m\u001b[0m\n",
        "\u001b[1;32mC:\\Anaconda\\lib\\site-packages\\pandas\\core\\frame.pyc\u001b[0m in \u001b[0;36m_getitem_column\u001b[1;34m(self, key)\u001b[0m\n\u001b[0;32m   1689\u001b[0m         \u001b[1;31m# get column\u001b[0m\u001b[1;33m\u001b[0m\u001b[1;33m\u001b[0m\u001b[0m\n\u001b[0;32m   1690\u001b[0m         \u001b[1;32mif\u001b[0m \u001b[0mself\u001b[0m\u001b[1;33m.\u001b[0m\u001b[0mcolumns\u001b[0m\u001b[1;33m.\u001b[0m\u001b[0mis_unique\u001b[0m\u001b[1;33m:\u001b[0m\u001b[1;33m\u001b[0m\u001b[0m\n\u001b[1;32m-> 1691\u001b[1;33m             \u001b[1;32mreturn\u001b[0m \u001b[0mself\u001b[0m\u001b[1;33m.\u001b[0m\u001b[0m_get_item_cache\u001b[0m\u001b[1;33m(\u001b[0m\u001b[0mkey\u001b[0m\u001b[1;33m)\u001b[0m\u001b[1;33m\u001b[0m\u001b[0m\n\u001b[0m\u001b[0;32m   1692\u001b[0m \u001b[1;33m\u001b[0m\u001b[0m\n\u001b[0;32m   1693\u001b[0m         \u001b[1;31m# duplicate columns & possible reduce dimensionaility\u001b[0m\u001b[1;33m\u001b[0m\u001b[1;33m\u001b[0m\u001b[0m\n",
        "\u001b[1;32mC:\\Anaconda\\lib\\site-packages\\pandas\\core\\generic.pyc\u001b[0m in \u001b[0;36m_get_item_cache\u001b[1;34m(self, item)\u001b[0m\n\u001b[0;32m   1050\u001b[0m         \u001b[0mres\u001b[0m \u001b[1;33m=\u001b[0m \u001b[0mcache\u001b[0m\u001b[1;33m.\u001b[0m\u001b[0mget\u001b[0m\u001b[1;33m(\u001b[0m\u001b[0mitem\u001b[0m\u001b[1;33m)\u001b[0m\u001b[1;33m\u001b[0m\u001b[0m\n\u001b[0;32m   1051\u001b[0m         \u001b[1;32mif\u001b[0m \u001b[0mres\u001b[0m \u001b[1;32mis\u001b[0m \u001b[0mNone\u001b[0m\u001b[1;33m:\u001b[0m\u001b[1;33m\u001b[0m\u001b[0m\n\u001b[1;32m-> 1052\u001b[1;33m             \u001b[0mvalues\u001b[0m \u001b[1;33m=\u001b[0m \u001b[0mself\u001b[0m\u001b[1;33m.\u001b[0m\u001b[0m_data\u001b[0m\u001b[1;33m.\u001b[0m\u001b[0mget\u001b[0m\u001b[1;33m(\u001b[0m\u001b[0mitem\u001b[0m\u001b[1;33m)\u001b[0m\u001b[1;33m\u001b[0m\u001b[0m\n\u001b[0m\u001b[0;32m   1053\u001b[0m             \u001b[0mres\u001b[0m \u001b[1;33m=\u001b[0m \u001b[0mself\u001b[0m\u001b[1;33m.\u001b[0m\u001b[0m_box_item_values\u001b[0m\u001b[1;33m(\u001b[0m\u001b[0mitem\u001b[0m\u001b[1;33m,\u001b[0m \u001b[0mvalues\u001b[0m\u001b[1;33m)\u001b[0m\u001b[1;33m\u001b[0m\u001b[0m\n\u001b[0;32m   1054\u001b[0m             \u001b[0mcache\u001b[0m\u001b[1;33m[\u001b[0m\u001b[0mitem\u001b[0m\u001b[1;33m]\u001b[0m \u001b[1;33m=\u001b[0m \u001b[0mres\u001b[0m\u001b[1;33m\u001b[0m\u001b[0m\n",
        "\u001b[1;32mC:\\Anaconda\\lib\\site-packages\\pandas\\core\\internals.pyc\u001b[0m in \u001b[0;36mget\u001b[1;34m(self, item)\u001b[0m\n\u001b[0;32m   2535\u001b[0m \u001b[1;33m\u001b[0m\u001b[0m\n\u001b[0;32m   2536\u001b[0m             \u001b[1;32mif\u001b[0m \u001b[1;32mnot\u001b[0m \u001b[0misnull\u001b[0m\u001b[1;33m(\u001b[0m\u001b[0mitem\u001b[0m\u001b[1;33m)\u001b[0m\u001b[1;33m:\u001b[0m\u001b[1;33m\u001b[0m\u001b[0m\n\u001b[1;32m-> 2537\u001b[1;33m                 \u001b[0mloc\u001b[0m \u001b[1;33m=\u001b[0m \u001b[0mself\u001b[0m\u001b[1;33m.\u001b[0m\u001b[0mitems\u001b[0m\u001b[1;33m.\u001b[0m\u001b[0mget_loc\u001b[0m\u001b[1;33m(\u001b[0m\u001b[0mitem\u001b[0m\u001b[1;33m)\u001b[0m\u001b[1;33m\u001b[0m\u001b[0m\n\u001b[0m\u001b[0;32m   2538\u001b[0m             \u001b[1;32melse\u001b[0m\u001b[1;33m:\u001b[0m\u001b[1;33m\u001b[0m\u001b[0m\n\u001b[0;32m   2539\u001b[0m                 \u001b[0mindexer\u001b[0m \u001b[1;33m=\u001b[0m \u001b[0mnp\u001b[0m\u001b[1;33m.\u001b[0m\u001b[0marange\u001b[0m\u001b[1;33m(\u001b[0m\u001b[0mlen\u001b[0m\u001b[1;33m(\u001b[0m\u001b[0mself\u001b[0m\u001b[1;33m.\u001b[0m\u001b[0mitems\u001b[0m\u001b[1;33m)\u001b[0m\u001b[1;33m)\u001b[0m\u001b[1;33m[\u001b[0m\u001b[0misnull\u001b[0m\u001b[1;33m(\u001b[0m\u001b[0mself\u001b[0m\u001b[1;33m.\u001b[0m\u001b[0mitems\u001b[0m\u001b[1;33m)\u001b[0m\u001b[1;33m]\u001b[0m\u001b[1;33m\u001b[0m\u001b[0m\n",
        "\u001b[1;32mC:\\Anaconda\\lib\\site-packages\\pandas\\core\\index.pyc\u001b[0m in \u001b[0;36mget_loc\u001b[1;34m(self, key)\u001b[0m\n\u001b[0;32m   2055\u001b[0m \u001b[1;33m\u001b[0m\u001b[0m\n\u001b[0;32m   2056\u001b[0m     \u001b[1;32mdef\u001b[0m \u001b[0mget_loc\u001b[0m\u001b[1;33m(\u001b[0m\u001b[0mself\u001b[0m\u001b[1;33m,\u001b[0m \u001b[0mkey\u001b[0m\u001b[1;33m)\u001b[0m\u001b[1;33m:\u001b[0m\u001b[1;33m\u001b[0m\u001b[0m\n\u001b[1;32m-> 2057\u001b[1;33m         \u001b[1;32mif\u001b[0m \u001b[0mnp\u001b[0m\u001b[1;33m.\u001b[0m\u001b[0misnan\u001b[0m\u001b[1;33m(\u001b[0m\u001b[0mkey\u001b[0m\u001b[1;33m)\u001b[0m\u001b[1;33m:\u001b[0m\u001b[1;33m\u001b[0m\u001b[0m\n\u001b[0m\u001b[0;32m   2058\u001b[0m             \u001b[1;32mtry\u001b[0m\u001b[1;33m:\u001b[0m\u001b[1;33m\u001b[0m\u001b[0m\n\u001b[0;32m   2059\u001b[0m                 \u001b[1;32mreturn\u001b[0m \u001b[0mself\u001b[0m\u001b[1;33m.\u001b[0m\u001b[0m_nan_idxs\u001b[0m\u001b[1;33m.\u001b[0m\u001b[0mitem\u001b[0m\u001b[1;33m(\u001b[0m\u001b[1;33m)\u001b[0m\u001b[1;33m\u001b[0m\u001b[0m\n",
        "\u001b[1;31mTypeError\u001b[0m: Not implemented for this type"
       ]
      }
     ],
     "prompt_number": 18
    },
    {
     "cell_type": "code",
     "collapsed": false,
     "input": [
      "#df2[df2.MoneyNess == 30 && df2.Tenor == '1W']\n",
      "Stock1[(Stock1.Tenor == '1Y') & (Stock1.MoneyNess == 30)]"
     ],
     "language": "python",
     "metadata": {},
     "outputs": [
      {
       "html": [
        "<div style=\"max-height:1000px;max-width:1500px;overflow:auto;\">\n",
        "<table border=\"1\" class=\"dataframe\">\n",
        "  <thead>\n",
        "    <tr style=\"text-align: right;\">\n",
        "      <th></th>\n",
        "      <th>Vol</th>\n",
        "      <th>Stock</th>\n",
        "      <th>Exh</th>\n",
        "      <th>Tenor</th>\n",
        "      <th>MoneyNess</th>\n",
        "    </tr>\n",
        "  </thead>\n",
        "  <tbody>\n",
        "    <tr>\n",
        "      <th>7</th>\n",
        "      <td> 56,601</td>\n",
        "      <td> AZN</td>\n",
        "      <td> LN</td>\n",
        "      <td> 1Y</td>\n",
        "      <td> 30</td>\n",
        "    </tr>\n",
        "  </tbody>\n",
        "</table>\n",
        "</div>"
       ],
       "metadata": {},
       "output_type": "pyout",
       "prompt_number": 12,
       "text": [
        "      Vol Stock Exh Tenor  MoneyNess\n",
        "7  56,601   AZN  LN    1Y         30"
       ]
      }
     ],
     "prompt_number": 12
    },
    {
     "cell_type": "code",
     "collapsed": false,
     "input": [
      "print Stock1"
     ],
     "language": "python",
     "metadata": {},
     "outputs": []
    },
    {
     "cell_type": "code",
     "collapsed": false,
     "input": [],
     "language": "python",
     "metadata": {},
     "outputs": []
    }
   ],
   "metadata": {}
  }
 ]
}