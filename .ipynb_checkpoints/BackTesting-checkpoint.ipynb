{
 "metadata": {
  "name": "",
  "signature": "sha256:9198f5d962c1eb17ea6da1d1f45bb2509bb2bb6224d9b96b425113d6afc69e33"
 },
 "nbformat": 3,
 "nbformat_minor": 0,
 "worksheets": [
  {
   "cells": [
    {
     "cell_type": "code",
     "collapsed": false,
     "input": [
      "%matplotlib inline\n",
      "import pandas as pd\n",
      "import pandas.io.data\n",
      "import numpy as np\n",
      "import pytz\n",
      "from datetime import datetime\n",
      "#Can probably not use zipline have to backtest using other means"
     ],
     "language": "python",
     "metadata": {},
     "outputs": [],
     "prompt_number": 15
    },
    {
     "cell_type": "code",
     "collapsed": false,
     "input": [
      "#Combo Autocalls\n",
      "#S is strikes\n",
      "#Call Barrier\n",
      "#Risk Barrier\n",
      "#Observation freq\n",
      "\n",
      "def getData(path,start,end):\n",
      "    head = ['Date','Stock','Price']\n",
      "    data = pd.read_csv(path,sep='\\t+',names=head,parse_dates=['Date']).dropna()\n",
      "    data.Price = [float(x.replace(',','.')) for x in data.Price]\n",
      "    return data.pivot(columns='Stock',values='Price',index='Date')[start:end]\n",
      "#-----------------------------------------------------------------------#\n",
      "#------------------General backtesting class----------------------------#\n",
      "#-----------------------------------------------------------------------#\n",
      "#start : pandas timestamp\n",
      "#tenor : in years (int)\n",
      "#data : pandas dataframe object\n",
      "#--------------------------------------------------------Magnus---------#\n",
      "#-------------------This module could perhaps be replaced by zipline----#\n",
      "class BackTest(): \n",
      "    def __init__(self,data,start,tenor):\n",
      "        self.data = data\n",
      "        self.start = start\n",
      "        self.tenor = tenor\n",
      "    def DeterminPayOff(self,Inst,dataScale):\n",
      "        result = []\n",
      "        #loop to test every starting date\n",
      "        tmpEnd = start + pd.DateOffset(years=self.tenor)\n",
      "        window = len(self.data[start:tmpEnd])+1\n",
      "        #rewrite this to be a years\n",
      "        #find out a more sophisiticated way of computing the window.\n",
      "        modData = self.data.pct_change()\n",
      "        iMax = len(modData)\n",
      "        window = dataScale*tenor\n",
      "        for i in range(0,iMax-window):\n",
      "            #-----------------------------------------------#\n",
      "            #------------Normalize the data serier !!!------#\n",
      "            #-----------------------------------------------#\n",
      "            nMod = modData[i:i+window]\n",
      "            nMod = (1+nMod).cumprod()\n",
      "            #-----------------------------------------------#\n",
      "            #-----------------------------------------------#\n",
      "            #-----------------------------------------------#\n",
      "            tmpPay = Inst.PayOff(nMod)\n",
      "            result.append(tmpPay)\n",
      "        return result"
     ],
     "language": "python",
     "metadata": {},
     "outputs": [],
     "prompt_number": 16
    },
    {
     "cell_type": "code",
     "collapsed": false,
     "input": [
      "#----------------------------------------------------------------------#\n",
      "#---------------------AC PayOff Class----------------------------------#\n",
      "#----------------------------------------------------------------------#\n",
      "#-------------------------------------------------by Magnus------------#\n",
      "#----------------------------------------------------------------------#\n",
      "#--------------------------Base template is for a standard Combo AC----#\n",
      "#----------------------------------------------------------------------#\n",
      "#obsFreq in months\n",
      "#always check assumptions regardin index results and what not.\n",
      "class AC():\n",
      "    def __init__(self,obsFreq,tenor,coupons,barriers):\n",
      "        self.obsfreq=obsFreq #this is a rough approximaton will not do back tests on exact dates\n",
      "        self.coupons=coupons\n",
      "        self.tenor = tenor+1\n",
      "        self.barriers=barriers\n",
      "    def PayOff(self,data):\n",
      "        modData = data[::self.obsfreq]\n",
      "        payoff = 0\n",
      "\n",
      "        iMax = np.min([self.tenor*self.obsfreq,len(modData)])\n",
      "        for i in range(1,iMax):\n",
      "            ref = self.RefPrice(modData.ix[i,:])\n",
      "            iBarrier = self.CheckBarriers(ref)\n",
      "            if iBarrier == 0:\n",
      "                payoff = self.JazzyCoupons(i,payoff,iBarrier)\n",
      "                return self.ArrangeFinalOutPut(payoff,i)\n",
      "            elif iBarrier <> 9999:\n",
      "                payoff = self.JazzyCoupons(i,payoff,iBarrier) \n",
      "            \n",
      "        return self.ArrangeFinalOutPut(self.FinalObservation(payoff,ref),iMax)  \n",
      "#---------------------------------------------------------------------#\n",
      "#----------------------------------modData----------------------------#\n",
      "#--------Override these to build new autocalls !----------------------#\n",
      "#---------------------------------------------------------------------#\n",
      "    def CheckBarriers(self,wo):\n",
      "        bar = self.barriers\n",
      "        for i in range(0,len(self.barriers)-1):\n",
      "            if wo > bar[i]:\n",
      "                return i\n",
      "        return 9999\n",
      "    \n",
      "    \n",
      "    def ArrangeFinalOutPut(self,payout,i):\n",
      "        return [payout,i]\n",
      "    \n",
      "#Override this one for simple average or other observation methods\n",
      "    def RefPrice(self,rowObs):\n",
      "        return np.min(rowObs)\n",
      "    \n",
      "    \n",
      "    def JazzyCoupons(self,i,prevPayment,iBarrier):\n",
      "        if iBarrier == 0:\n",
      "            return i*self.coupons[iBarrier]+prevPayment+1\n",
      "        else:\n",
      "            return self.coupons[iBarrier]+prevPayment\n",
      " \n",
      "    #override thisone for other sexy payoffs\n",
      "    def FinalObservation(self,prevPayment,wo):\n",
      "        if self.barriers[len(self.barriers)-1] > wo:\n",
      "            return wo+prevPayment\n",
      "        else:\n",
      "            return 1+prevPayment"
     ],
     "language": "python",
     "metadata": {},
     "outputs": [],
     "prompt_number": 17
    },
    {
     "cell_type": "code",
     "collapsed": false,
     "input": [
      "#--------------------------------\n",
      "#----Examples of new Payoffs-----\n",
      "#--------------------------------\n",
      "class MemoryAC(AC):   \n",
      "     def JazzyCoupons(self,i,PrevPayout,iBarrier):\n",
      "        if iBarrier == 0:\n",
      "            return i*self.coupons[iBarrier]-PrevPayout+1\n",
      "        else:\n",
      "            return i*self.coupons[iBarrier]-PrevPayout \n",
      "\n",
      "\n",
      "class CapitalProtectedAC(AC):\n",
      "     def __init__(self,obsFreq,tenor,coupons,barriers,Protection):\n",
      "        self.obsfreq=obsFreq #this is a rough approximaton will not do back tests on exact dates\n",
      "        self.coupons=coupons\n",
      "        self.tenor = tenor+1\n",
      "        self.barriers=barriers\n",
      "        self.Protection = Protection      \n",
      "     def FinalObservation(self,prevPayment,wo):\n",
      "        if self.barriers[len(self.barriers)-1] > wo:\n",
      "            return self.Protection+prevPayment\n",
      "        else:  \n",
      "            return 1+prevPayment "
     ],
     "language": "python",
     "metadata": {},
     "outputs": [],
     "prompt_number": 18
    },
    {
     "cell_type": "code",
     "collapsed": false,
     "input": [
      "#---------------------------------------------------------------#\n",
      "#------------Normal Capital Protected note----------------------#\n",
      "#---------------------------------------------------------------#\n",
      "#--Asian tail minimum is 1--------------------------------------#\n",
      "#---------------------------------------------------------------#\n",
      "\n",
      "\n",
      "\n",
      "class StraightExposure():\n",
      "    def __init__(self,tenor,Participation,AsianTail,FXFactors,issuePrice):\n",
      "        self.tenor = tenor\n",
      "        self.P = Participation\n",
      "        self.AisianTail = AsianTail\n",
      "        self.FxFactors = FXFactors\n",
      "        self.issuePrice = issuePrice\n",
      "    def payOff(self,data,w):\n",
      "        iEnd = len(data)\n",
      "        #this assumes the data just has monthly/quarterly obs when entered\n",
      "        mData = data[self.AsianTail:iEnd]\n",
      "        wmData =data.as_matrix()*w.T #Check the dimensions here\n",
      "        mEnd = len(mData)\n",
      "        perfUpSide = self.ComPutePerformance(wmData)\n",
      "        if self.CheckBarriers(:\n",
      "            return self.ComPutePerformance\n",
      "        else:\n",
      "            \n",
      "            \n",
      "            \n",
      "        \n",
      "    \n",
      "    def PerfBarrier(self,mData):\n",
      "        return self.ComPutePerformance(mData)\n",
      "    \n",
      "    def ComputeDownSide(self,mData):\n",
      "        return 0\n",
      "        \n",
      "    def ComPutePerformance(self,mData):\n",
      "        runningSum = 0\n",
      "        for i in range(0,len(mData)):\n",
      "            runningSum += mData[i]\n",
      "        return runningSum/len(mData)\n",
      "    \n",
      "    def PayoffFormula(self,perf,protection):\n",
      "        return np.max(perf,0)*self.P+protection\n",
      "        \n",
      "        \n",
      "    def CheckBarriers(slef,perf):\n",
      "        return false\n",
      "    \n",
      "    \n",
      "    \n",
      "        \n",
      "        "
     ],
     "language": "python",
     "metadata": {},
     "outputs": [
      {
       "ename": "SyntaxError",
       "evalue": "invalid syntax (<ipython-input-19-e4b0a921fff3>, line 31)",
       "output_type": "pyerr",
       "traceback": [
        "\u001b[1;36m  File \u001b[1;32m\"<ipython-input-19-e4b0a921fff3>\"\u001b[1;36m, line \u001b[1;32m31\u001b[0m\n\u001b[1;33m    def ComputeDownSide(self,mData)\u001b[0m\n\u001b[1;37m                                   ^\u001b[0m\n\u001b[1;31mSyntaxError\u001b[0m\u001b[1;31m:\u001b[0m invalid syntax\n"
       ]
      }
     ],
     "prompt_number": 19
    },
    {
     "cell_type": "code",
     "collapsed": false,
     "input": [
      "#------------Testing AC PayOff-------------------#\n",
      "#------------------------------------------------\n",
      "path = 'G:\\Strukturering\\Magnus\\Data\\StocksIndex20150408.sqy'\n",
      "start = pd.Timestamp('2012-02-01')\n",
      "end = pd.Timestamp('2015-03-31')\n",
      "data = getData(path,start,end)\n",
      "start = pd.Timestamp('2012-03-01')\n",
      "tenor = 3\n",
      "end = start+pd.DateOffset(years=tenor)\n",
      "data = data[['ABB.ST','BOL.ST']].interpolate()\n",
      "data = data[start:end].pct_change()\n",
      "data = (1+data).cumprod()\n",
      "data.ix[0,:] = np.ones(len(data.ix[0,:]))\n",
      "data = data.dropna()\n",
      "Bar = [3,0.0,0.96]\n",
      "Coup =  [0.10,0.01]\n",
      "# need to specify the window between dates --> For this afternoon\n",
      "tenor = 3\n",
      "window = 52*3\n",
      "tmpAC = CapitalProtectedAC(52,tenor,Coup,Bar,1)\n",
      "p = tmpAC.PayOff(data[0:window])\n",
      "p"
     ],
     "language": "python",
     "metadata": {},
     "outputs": [
      {
       "output_type": "stream",
       "stream": "stderr",
       "text": [
        "C:\\Anaconda\\lib\\site-packages\\pandas\\io\\parsers.py:615: ParserWarning: Falling back to the 'python' engine because the 'c' engine does not support regex separators; you can avoid this warning by specifying engine='python'.\n",
        "  ParserWarning)\n"
       ]
      },
      {
       "metadata": {},
       "output_type": "pyout",
       "prompt_number": 20,
       "text": [
        "[1.02, 3]"
       ]
      }
     ],
     "prompt_number": 20
    },
    {
     "cell_type": "code",
     "collapsed": false,
     "input": [
      "#----------------\n",
      "#Date Issues -> quick and dirty solution check if using zipline is a better approach\n",
      "#----------------\n",
      "Bar = [0.9,0.5,0.5]\n",
      "Coup =  [0.30,0.05]\n",
      "\n",
      "tickers = ['JCP.N','ANF.N','BBY.N','WHR.N']\n",
      "\n",
      "path = 'G:\\Strukturering\\Magnus\\Data\\USStocks.sqy'\n",
      "start = pd.Timestamp('2009-02-01')\n",
      "end = pd.Timestamp('2014-03-31')\n",
      "data = getData(path,start,end)\n",
      "data = data[tickers].dropna()\n",
      "tenor = 3\n",
      "tmpAC = AC(52,tenor,Coup,Bar)\n",
      "start = pd.Timestamp('2009-02-10')\n",
      "BT = BackTest(data,start,tenor)\n",
      "dd = pd.DataFrame(BT.DeterminPayOff(tmpAC,52),columns=['Results','Age'])\n",
      "dd.Results.plot()"
     ],
     "language": "python",
     "metadata": {},
     "outputs": [
      {
       "metadata": {},
       "output_type": "pyout",
       "prompt_number": 21,
       "text": [
        "<matplotlib.axes.AxesSubplot at 0x900a570>"
       ]
      },
      {
       "metadata": {},
       "output_type": "display_data",
       "png": "[encoded data removed]",
       "text": [
        "<matplotlib.figure.Figure at 0x90994d0>"
       ]
      }
     ],
     "prompt_number": 21
    },
    {
     "cell_type": "code",
     "collapsed": false,
     "input": [
      "path = 'G:\\Strukturering\\Magnus\\Data\\USStocks.sqy'\n",
      "start = pd.Timestamp('2010-09-08')\n",
      "end = pd.Timestamp('2014-03-31')\n",
      "data = getData(path,start,end)\n",
      "data = data[['JCP.N','ANF.N']]\n",
      "data.plot()"
     ],
     "language": "python",
     "metadata": {},
     "outputs": []
    },
    {
     "cell_type": "code",
     "collapsed": false,
     "input": [
      "data.plot()"
     ],
     "language": "python",
     "metadata": {},
     "outputs": []
    },
    {
     "cell_type": "code",
     "collapsed": false,
     "input": [
      "data.plot()"
     ],
     "language": "python",
     "metadata": {},
     "outputs": []
    },
    {
     "cell_type": "code",
     "collapsed": false,
     "input": [
      "def put():\n",
      "    return \"hej\"\n",
      "    print \"hello\"\n",
      "put()"
     ],
     "language": "python",
     "metadata": {},
     "outputs": []
    },
    {
     "cell_type": "code",
     "collapsed": false,
     "input": [
      "data."
     ],
     "language": "python",
     "metadata": {},
     "outputs": []
    },
    {
     "cell_type": "code",
     "collapsed": false,
     "input": [
      "\"hello\" <> \"hefllo\""
     ],
     "language": "python",
     "metadata": {},
     "outputs": []
    },
    {
     "cell_type": "code",
     "collapsed": false,
     "input": [
      "a = np.array([1,2,3])\n",
      "b = np.array([0.3,0.4,0.9])\n"
     ],
     "language": "python",
     "metadata": {},
     "outputs": []
    },
    {
     "cell_type": "code",
     "collapsed": false,
     "input": [
      "#Always use matrixes when doing array multiplications in Python\n",
      "am = np.mat(a)\n",
      "bm = np.mat(b)\n",
      "am*bm.T"
     ],
     "language": "python",
     "metadata": {},
     "outputs": []
    },
    {
     "cell_type": "code",
     "collapsed": false,
     "input": [],
     "language": "python",
     "metadata": {},
     "outputs": []
    }
   ],
   "metadata": {}
  }
 ]
}