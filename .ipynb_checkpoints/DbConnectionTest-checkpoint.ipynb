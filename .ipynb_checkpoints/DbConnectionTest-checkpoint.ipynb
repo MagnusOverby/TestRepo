{
 "metadata": {
  "name": "",
  "signature": "sha256:1d283ac57beb8ac33a9e9c661340287ca10f478f5e103128d51427fbc7797ce4"
 },
 "nbformat": 3,
 "nbformat_minor": 0,
 "worksheets": [
  {
   "cells": [
    {
     "cell_type": "code",
     "collapsed": false,
     "input": [
      "import pyodbc\n",
      "import pandas as pd\n",
      "import cx_Oracle"
     ],
     "language": "python",
     "metadata": {},
     "outputs": [],
     "prompt_number": 20
    },
    {
     "cell_type": "code",
     "collapsed": false,
     "input": [
      "#Provider=SQLOLEDB.1;User ID=GG110728_Gate_3_user;Initial Catalog=GAR_ETL;Data Source=SQLPROD.gtum.local\n",
      "#;Use Procedure for Prepare=1;Auto Translate=True;Packet Size=4096;Workstation ID=GTUMPC25;Use Encryption \n",
      "#for Data=False;Tag with column collation when possible=False;\n",
      "conn_string = 'SERVER=(DESCRIPTION=(ADDRESS=(PROTOCOL=TCP)(HOST=sop1prod.gtum.local)(PORT=5556))(CONNECT_DATA=(SERVICE_NAME=ora112)));Uid=value421;Pwd=EACGBAINLOOONFPMEPFCDBLIAIAEGCAD;'\n",
      "#uid=value421;pwd=EACGBAINLOOONFPMEPFCDBLIAIAEGCAD;'\n",
      "\n",
      "Data_Source = '(DESCRIPTION=(CID=GTU_APP)(ADDRESS_LIST=(ADDRESS=(PROTOCOL=TCP)(HOST=sop1prod.gtum.local)(PORT=5556)))(CONNECT_DATA=(SID=value421)(SERVER=DEDICATED)));'\n",
      "ez_conn_string = 'value421/EACGBAINLOOONFPMEPFCDBLIAIAEGCAD@sop1prod.gtum.local:5556/'\n",
      "ora_conn = cx_Oracle.connect(conn_string)\n",
      "\n",
      "#SERVER=(DESCRIPTION=(ADDRESS=(PROTOCOL=TCP)(HOST=sop1prod.gtum.local)(PORT=5556))(CONNECT_DATA=(SERVICE_NAME=ora112)));\n",
      "#uid=value421;pwd=EACGBAINLOOONFPMEPFCDBLIAIAEGCAD;\n",
      "\n",
      "\n",
      "#SERVER=(DESCRIPTION=(ADDRESS=(PROTOCOL=TCP)(HOST=MyHost)(PORT=MyPort))(CONNECT_DATA=(SERVICE_NAME=MyOracleSID)));\n",
      "#uid=myUsername;pwd=myPassword;\n",
      "\n",
      "#Driver={Microsoft ODBC for Oracle};\n",
      "#Server=(DESCRIPTION=(ADDRESS=(PROTOCOL=TCP)(HOST=199.199.199.199)(PORT=1523))(CONNECT_DATA=(SID=dbName)));\n",
      "#Uid=myUsername;Pwd=myPassword;\n",
      "\n",
      "#Provider=OraOLEDB.Oracle;\n",
      "#Data Source=(DESCRIPTION=(CID=GTU_APP)(ADDRESS_LIST=(ADDRESS=(PROTOCOL=TCP)(HOST=myHost)(PORT=myPort)))(CONNECT_DATA=(SID=MyOracleSID)(SERVER=DEDICATED)));\n",
      "#User Id=myUsername;Password=myPassword;"
     ],
     "language": "python",
     "metadata": {},
     "outputs": [
      {
       "ename": "DatabaseError",
       "evalue": "ORA-12560: TNS: protokolladapterfel\n",
       "output_type": "pyerr",
       "traceback": [
        "\u001b[1;31m---------------------------------------------------------------------------\u001b[0m\n\u001b[1;31mDatabaseError\u001b[0m                             Traceback (most recent call last)",
        "\u001b[1;32m<ipython-input-21-8019c396cfe3>\u001b[0m in \u001b[0;36m<module>\u001b[1;34m()\u001b[0m\n\u001b[0;32m      7\u001b[0m \u001b[0mData_Source\u001b[0m \u001b[1;33m=\u001b[0m \u001b[1;34m'(DESCRIPTION=(CID=GTU_APP)(ADDRESS_LIST=(ADDRESS=(PROTOCOL=TCP)(HOST=sop1prod.gtum.local)(PORT=5556)))(CONNECT_DATA=(SID=value421)(SERVER=DEDICATED)));'\u001b[0m\u001b[1;33m\u001b[0m\u001b[0m\n\u001b[0;32m      8\u001b[0m \u001b[0mez_conn_string\u001b[0m \u001b[1;33m=\u001b[0m \u001b[1;34m'value421/EACGBAINLOOONFPMEPFCDBLIAIAEGCAD@sop1prod.gtum.local:5556/'\u001b[0m\u001b[1;33m\u001b[0m\u001b[0m\n\u001b[1;32m----> 9\u001b[1;33m \u001b[0mora_conn\u001b[0m \u001b[1;33m=\u001b[0m \u001b[0mcx_Oracle\u001b[0m\u001b[1;33m.\u001b[0m\u001b[0mconnect\u001b[0m\u001b[1;33m(\u001b[0m\u001b[0mconn_string\u001b[0m\u001b[1;33m)\u001b[0m\u001b[1;33m\u001b[0m\u001b[0m\n\u001b[0m\u001b[0;32m     10\u001b[0m \u001b[1;33m\u001b[0m\u001b[0m\n\u001b[0;32m     11\u001b[0m \u001b[1;31m#SERVER=(DESCRIPTION=(ADDRESS=(PROTOCOL=TCP)(HOST=sop1prod.gtum.local)(PORT=5556))(CONNECT_DATA=(SERVICE_NAME=ora112)));\u001b[0m\u001b[1;33m\u001b[0m\u001b[1;33m\u001b[0m\u001b[0m\n",
        "\u001b[1;31mDatabaseError\u001b[0m: ORA-12560: TNS: protokolladapterfel\n"
       ]
      }
     ],
     "prompt_number": 21
    },
    {
     "cell_type": "code",
     "collapsed": false,
     "input": [],
     "language": "python",
     "metadata": {},
     "outputs": []
    }
   ],
   "metadata": {}
  }
 ]
}