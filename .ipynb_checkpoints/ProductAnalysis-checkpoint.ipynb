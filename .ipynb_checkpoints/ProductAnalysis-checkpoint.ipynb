{
 "metadata": {
  "name": "",
  "signature": "sha256:414efb44c17cb987e20b4a755c347bd528967def09b46050ef1e364a256e5f93"
 },
 "nbformat": 3,
 "nbformat_minor": 0,
 "worksheets": [
  {
   "cells": [
    {
     "cell_type": "code",
     "collapsed": false,
     "input": [
      "import numpy as np\n",
      "import matplotlib as plot\n",
      "import pandas as pd"
     ],
     "language": "python",
     "metadata": {},
     "outputs": [],
     "prompt_number": 19
    },
    {
     "cell_type": "code",
     "collapsed": false,
     "input": [
      "path = \"C:\\Data\\Stocks\\OrderedStocks.sqy\"\n",
      "cols = ['Stock','Amts']\n",
      "data = pd.read_csv(path,sep=\"\\t\",names=cols)\n"
     ],
     "language": "python",
     "metadata": {},
     "outputs": [],
     "prompt_number": 20
    },
    {
     "cell_type": "code",
     "collapsed": false,
     "input": [
      "data.Amts.cumsum()\n",
      "\n",
      "data.quantile(0.05,axis=0)"
     ],
     "language": "python",
     "metadata": {},
     "outputs": [
      {
       "metadata": {},
       "output_type": "pyout",
       "prompt_number": 36,
       "text": [
        "Amts    1\n",
        "dtype: float64"
       ]
      }
     ],
     "prompt_number": 36
    },
    {
     "cell_type": "code",
     "collapsed": false,
     "input": [
      "\n"
     ],
     "language": "python",
     "metadata": {},
     "outputs": [
      {
       "metadata": {},
       "output_type": "pyout",
       "prompt_number": 23,
       "text": [
        "0      186\n",
        "1      353\n",
        "2      513\n",
        "3      660\n",
        "4      801\n",
        "5      938\n",
        "6     1068\n",
        "7     1195\n",
        "8     1320\n",
        "9     1440\n",
        "10    1555\n",
        "11    1667\n",
        "12    1777\n",
        "13    1883\n",
        "14    1988\n",
        "...\n",
        "387    7183\n",
        "388    7184\n",
        "389    7185\n",
        "390    7186\n",
        "391    7187\n",
        "392    7188\n",
        "393    7189\n",
        "394    7190\n",
        "395    7191\n",
        "396    7192\n",
        "397    7193\n",
        "398    7194\n",
        "399    7195\n",
        "400    7196\n",
        "401    7197\n",
        "Name: Amts, Length: 402, dtype: int64"
       ]
      }
     ],
     "prompt_number": 23
    },
    {
     "cell_type": "code",
     "collapsed": false,
     "input": [],
     "language": "python",
     "metadata": {},
     "outputs": []
    }
   ],
   "metadata": {}
  }
 ]
}