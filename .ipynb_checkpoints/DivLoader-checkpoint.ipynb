{
 "metadata": {
  "name": "",
  "signature": "sha256:fb086bbcd186f10a312dc5db5a5bacb5acb3caacb03ae272f987b129f5ea8e65"
 },
 "nbformat": 3,
 "nbformat_minor": 0,
 "worksheets": [
  {
   "cells": [
    {
     "cell_type": "code",
     "collapsed": false,
     "input": [
      "engine = 'python'\n",
      "import pandas as pd\n",
      "import numpy as np\n",
      "import os\n",
      "import pytz\n",
      "import xlwings as xl\n",
      "from datetime import datetime,timedelta\n",
      "import requests\n",
      "CountryDict = {\"Switzerland\":\"CHF\",\"Sweden\":\"SEK\",\"United States\":\"USD\",\"Spain\":\"EUR\",\"Germany\":\"EUR\",\"Netherlands\":\"EUR\",\"Hong Kong\":\"HKD\",\"France\":\"EUR\",\"Australia\":\"AUD\",\"UK\":\"GBP\",\"Belgium\":\"EUR\",\"Italy\":\"EUR\",\"Japan\":\"JPY\",\"Singapore\":\"SGD\",\"South Korea\":\"KRW\",\"Finland\":\"EUR\",\"Taiwan\":\"TWD\"}"
     ],
     "language": "python",
     "metadata": {},
     "outputs": [],
     "prompt_number": 4
    },
    {
     "cell_type": "code",
     "collapsed": false,
     "input": [
      "engine = 'python'\n",
      "#Write to DivYield Table\n",
      "def FindFile(path):\n",
      "  fileNmn = 'OVMDaily'\n",
      "  dts = str(datetime.today())\n",
      "  nmn = dts[0:4]+dts[5:7]+dts[8:10]\n",
      "  print nmn\n",
      "  subdirs = [x[0] for x in os.walk(path)]\n",
      "  for subdir in subdirs:\n",
      "    files = os.walk(subdir).next()[2]\n",
      "    if(len(files) > 0):\n",
      "      for file in files:\n",
      "        if (nmn in file) and (fileNmn in file):\n",
      "          return path+file    \n",
      "#Load the excel file.\n",
      "\n",
      "path = \"G:\\\\Strukturering\\\\Magnus\\\\AttachmentDump\\\\ubs\\\\\"\n",
      "Filepth = FindFile(path)\n",
      "x = pd.ExcelFile(Filepth)\n",
      "s = x.sheet_names\n",
      "table = x.parse(s[1],header=8)\n",
      "\n",
      "\n",
      "\n",
      "WritePath = \"G:\\\\IT System\\\\Sophis\\\\MarketParameters\\\\\"\n",
      "WritePath2 = \"G:\\\\IT System\\\\Sophis\\\\MarketParameters\\\\tst\\\\\"\n",
      "FileNmn = \"GarantumDivYield.xls\"\n",
      "FileNmnXl = \"GarantumDivYield.xls\"\n",
      "FullPath = WritePath+FileNmn\n",
      "FullPathXL = WritePath2+FileNmnXl\n",
      "\n",
      "def GetDivDataFrame(path):\n",
      "    Divs = table['Div Yield ']\n",
      "    Tickers = table['RIC Code']\n",
      "    Price = table['Price ']\n",
      "    Countries = table['Country']\n",
      "    headers = ['Div Yield %','1m','3m','6m','1y','2y','3y','4y','5y','CRNCY','Index']\n",
      "    nrRows = len(Divs)\n",
      "    rows = []\n",
      "    rows.append(headers)\n",
      "\n",
      "    for i in range(1,nrRows):\n",
      "        ticker = str(Tickers.ix[i,1])\n",
      "        div = 0\n",
      "        div = str(np.round(Divs.ix[i,1],4))\n",
      "        if div == 'nan':\n",
      "            div = '0.0'\n",
      "        if ticker != '0':\n",
      "            addRow = [ticker,0,0,0,div,0,0,0,0,CountryDict[Countries.ix[i,1]],str(Price.ix[i,1]).replace('.',',')]\n",
      "            rows.append(addRow)\n",
      "    return pd.DataFrame(rows)\n",
      "        \n",
      "tFl = GetDivDataFrame(WritePath)\n",
      "tFl.to_csv(FullPath,sep='\\t',header=False,index=False,na_rep='')\n",
      "#tFl.to_excel(FullPathXL)\n",
      "print \"Printed to: \"+FullPath +\" \"+ str(datetime.now())\n",
      "#print \"Printed to: \"+FullPathXL"
     ],
     "language": "python",
     "metadata": {},
     "outputs": [
      {
       "output_type": "stream",
       "stream": "stdout",
       "text": [
        "20151005\n",
        "Printed to: G:\\IT System\\Sophis\\MarketParameters\\GarantumDivYield.xls 2015-10-05 17:24:05.436000"
       ]
      },
      {
       "output_type": "stream",
       "stream": "stdout",
       "text": [
        "\n"
       ]
      }
     ],
     "prompt_number": 14
    },
    {
     "cell_type": "code",
     "collapsed": false,
     "input": [],
     "language": "python",
     "metadata": {},
     "outputs": []
    },
    {
     "cell_type": "code",
     "collapsed": false,
     "input": [],
     "language": "python",
     "metadata": {},
     "outputs": []
    },
    {
     "cell_type": "code",
     "collapsed": false,
     "input": [
      "'.' in 'alabamb'"
     ],
     "language": "python",
     "metadata": {},
     "outputs": []
    },
    {
     "cell_type": "code",
     "collapsed": false,
     "input": [],
     "language": "python",
     "metadata": {},
     "outputs": []
    },
    {
     "cell_type": "code",
     "collapsed": false,
     "input": [],
     "language": "python",
     "metadata": {},
     "outputs": []
    }
   ],
   "metadata": {}
  }
 ]
}