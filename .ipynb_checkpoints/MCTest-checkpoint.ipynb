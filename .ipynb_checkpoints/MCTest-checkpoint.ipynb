{
 "metadata": {
  "name": "",
  "signature": "sha256:3766cd2c6ffd255587017f3188bc3728e3ed3da585a576ba15a298dd86cb6b4e"
 },
 "nbformat": 3,
 "nbformat_minor": 0,
 "worksheets": [
  {
   "cells": [
    {
     "cell_type": "code",
     "collapsed": false,
     "input": [
      "import numpy as np\n",
      "from scipy.stats import norm"
     ],
     "language": "python",
     "metadata": {},
     "outputs": [],
     "prompt_number": 2
    },
    {
     "cell_type": "code",
     "collapsed": false,
     "input": [
      "a = np.matrix([[1,-0.6,0.8],[-0.6,1,-0.5],[0.8,-0.5,1]])\n",
      "b = np.array([0.1,0.1,0.1])\n",
      "d = np.eye(3)*b\n",
      "cov =  d*a*d\n",
      "w = np.array([0.3333333,0.3333333,0.33333333])\n",
      "sigma = w*cov\n",
      "var = w*sigma.T\n",
      "sigma = np.sqrt(var)\n",
      "print cov"
     ],
     "language": "python",
     "metadata": {},
     "outputs": [
      {
       "output_type": "stream",
       "stream": "stdout",
       "text": [
        "[[ 0.01  -0.006  0.008]\n",
        " [-0.006  0.01  -0.005]\n",
        " [ 0.008 -0.005  0.01 ]]\n"
       ]
      }
     ],
     "prompt_number": 3
    },
    {
     "cell_type": "code",
     "collapsed": false,
     "input": [
      "Steps = 100000\n",
      "N = np.random.randn(Steps)\n",
      "sigma = 0.1\n",
      "mu = 0.01\n",
      "T = 5\n",
      "Strike = 100.0\n",
      "logNorm = Strike*np.exp(T*(mu-sigma**2/2)+np.sqrt(T)*sigma*N)\n",
      "perf = logNorm/Strike-1\n",
      "payOff = [max(x,0) for x in perf]\n",
      "Model = np.average(payOff)*Strike\n",
      "Model"
     ],
     "language": "python",
     "metadata": {},
     "outputs": [
      {
       "metadata": {},
       "output_type": "pyout",
       "prompt_number": 122,
       "text": [
        "11.938392667575009"
       ]
      }
     ],
     "prompt_number": 122
    },
    {
     "cell_type": "code",
     "collapsed": false,
     "input": [
      "#Multivariate\n",
      "nSecurities = 3\n",
      "Steps = 10000\n",
      "Strike = [100,500,100]\n",
      "T = 50\n",
      "#corr = np.matrix([[1,-0.6,0.8],[-0.6,1,-0.5],[0.8,-0.5,1]])\n",
      "corr = np.matrix([[1,0.5,0.5],[0.5,1,0.5],[0.5,0.5,1]])\n",
      "sigma = [0.1,0.1,0.1]\n",
      "Nlst = np.random.randn(nSecurities,Steps).T\n",
      "mu = [0,0,0]\n",
      "Nm = np.array([sigma*x for x in Nlst]).T\n",
      "\n",
      "chol = np.linalg.cholesky(corr)\n",
      "\n",
      "adjNm = chol*Nm\n",
      "#error somewhere ....\n",
      "stoc = np.sqrt(T)*adjNm\n",
      "#print np.sqrt(T)\n",
      "\n",
      "drift = np.asmatrix(T*(mu-np.multiply(sigma,sigma)/2))\n",
      "\n",
      "adjDrift = np.matrix.repeat(drift.T,Steps,axis=1)\n",
      "\n",
      "LogNormal = Strike*np.exp(adjDrift+stoc)\n",
      "\n",
      "BasketPerf = [sum(LogNormal[:,x]/Strike)-1 for x in range(0,Steps)]\n",
      " \n",
      "PayOff = [max(x,0) for x in performance]\n",
      "\n",
      "np.average(PayOff)"
     ],
     "language": "python",
     "metadata": {},
     "outputs": [
      {
       "output_type": "stream",
       "stream": "stdout",
       "text": [
        "[[ 0.11975764  0.15496186  0.0719754  ..., -0.06389885  0.19613238\n",
        "   0.07999445]\n",
        " [ 0.13550998  0.13853036  0.27462861 ...,  0.19504773 -0.00442191\n",
        "  -0.16617451]\n",
        " [ 0.21983488  0.07154412  0.1487798  ...,  0.08043539  0.21432111\n",
        "  -0.02653666]]\n",
        "[[ 0.8468144   1.09574581  0.50894293 ..., -0.45183308  1.38686534\n",
        "   0.56564616]\n",
        " [ 0.95820023  0.97955755  1.94191753 ...,  1.37919571 -0.03126764\n",
        "  -1.17503122]\n",
        " [ 1.55446732  0.5058933   1.05203204 ...,  0.56876408  1.5154791\n",
        "  -0.18764256]]\n"
       ]
      },
      {
       "metadata": {},
       "output_type": "pyout",
       "prompt_number": 152,
       "text": [
        "0.033070442921430673"
       ]
      }
     ],
     "prompt_number": 152
    },
    {
     "cell_type": "code",
     "collapsed": false,
     "input": [
      "#BS\n",
      "K = 100\n",
      "d1 = np.log(Strike/K)+(mu+sigma**2/2)*T/(sigma*np.sqrt(T))\n",
      "d2 = d1 - sigma*np.sqrt(T)\n",
      "Nd1 = norm.cdf(d1)\n",
      "Nd2 = norm.cdf(d2)\n",
      "BS = Nd1*Strike-Nd2*K*np.exp(-mu*T)\n",
      "BS"
     ],
     "language": "python",
     "metadata": {},
     "outputs": [
      {
       "metadata": {},
       "output_type": "pyout",
       "prompt_number": 123,
       "text": [
        "11.338789096455585"
       ]
      }
     ],
     "prompt_number": 123
    },
    {
     "cell_type": "code",
     "collapsed": false,
     "input": [
      "a = [0.1,0.1,0.1]\n",
      "np.multiply(a,a)"
     ],
     "language": "python",
     "metadata": {},
     "outputs": [
      {
       "metadata": {},
       "output_type": "pyout",
       "prompt_number": 117,
       "text": [
        "array([ 0.01,  0.01,  0.01])"
       ]
      }
     ],
     "prompt_number": 117
    },
    {
     "cell_type": "code",
     "collapsed": false,
     "input": [
      "(T*(mu-sigma**2/2)).T"
     ],
     "language": "python",
     "metadata": {},
     "outputs": [
      {
       "ename": "TypeError",
       "evalue": "unsupported operand type(s) for ** or pow(): 'list' and 'int'",
       "output_type": "pyerr",
       "traceback": [
        "\u001b[1;31m---------------------------------------------------------------------------\u001b[0m\n\u001b[1;31mTypeError\u001b[0m                                 Traceback (most recent call last)",
        "\u001b[1;32m<ipython-input-118-71624cec9909>\u001b[0m in \u001b[0;36m<module>\u001b[1;34m()\u001b[0m\n\u001b[1;32m----> 1\u001b[1;33m \u001b[1;33m(\u001b[0m\u001b[0mT\u001b[0m\u001b[1;33m*\u001b[0m\u001b[1;33m(\u001b[0m\u001b[0mmu\u001b[0m\u001b[1;33m-\u001b[0m\u001b[0msigma\u001b[0m\u001b[1;33m**\u001b[0m\u001b[1;36m2\u001b[0m\u001b[1;33m/\u001b[0m\u001b[1;36m2\u001b[0m\u001b[1;33m)\u001b[0m\u001b[1;33m)\u001b[0m\u001b[1;33m.\u001b[0m\u001b[0mT\u001b[0m\u001b[1;33m\u001b[0m\u001b[0m\n\u001b[0m",
        "\u001b[1;31mTypeError\u001b[0m: unsupported operand type(s) for ** or pow(): 'list' and 'int'"
       ]
      }
     ],
     "prompt_number": 118
    },
    {
     "cell_type": "code",
     "collapsed": false,
     "input": [
      "[-1.2326,-1.845587,1.69973]*chol"
     ],
     "language": "python",
     "metadata": {},
     "outputs": [
      {
       "metadata": {},
       "output_type": "pyout",
       "prompt_number": 113,
       "text": [
        "matrix([[ 1.2345362 , -1.51896285,  1.01895234]])"
       ]
      }
     ],
     "prompt_number": 113
    },
    {
     "cell_type": "code",
     "collapsed": false,
     "input": [
      "0.01-(0.1**2)/2"
     ],
     "language": "python",
     "metadata": {},
     "outputs": [
      {
       "metadata": {},
       "output_type": "pyout",
       "prompt_number": 112,
       "text": [
        "0.004999999999999999"
       ]
      }
     ],
     "prompt_number": 112
    },
    {
     "cell_type": "code",
     "collapsed": false,
     "input": [
      "a = np.matrix([[1,0.5,0.5],[0.5,1,0.5],[0.5,0.5,1]])\n",
      "chol = np.linalg.cholesky(a)\n",
      "chol"
     ],
     "language": "python",
     "metadata": {},
     "outputs": [
      {
       "metadata": {},
       "output_type": "pyout",
       "prompt_number": 120,
       "text": [
        "matrix([[ 1.        ,  0.        ,  0.        ],\n",
        "        [ 0.5       ,  0.8660254 ,  0.        ],\n",
        "        [ 0.5       ,  0.28867513,  0.81649658]])"
       ]
      }
     ],
     "prompt_number": 120
    },
    {
     "cell_type": "code",
     "collapsed": false,
     "input": [],
     "language": "python",
     "metadata": {},
     "outputs": []
    }
   ],
   "metadata": {}
  }
 ]
}